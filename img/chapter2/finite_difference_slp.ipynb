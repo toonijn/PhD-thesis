{
 "cells": [
  {
   "cell_type": "code",
   "execution_count": 133,
   "id": "6b752ad3-5a65-4126-87b6-a1e134763614",
   "metadata": {
    "execution": {
     "iopub.execute_input": "2022-08-01T14:34:19.811491Z",
     "iopub.status.busy": "2022-08-01T14:34:19.810585Z",
     "iopub.status.idle": "2022-08-01T14:34:19.823713Z",
     "shell.execute_reply": "2022-08-01T14:34:19.823005Z",
     "shell.execute_reply.started": "2022-08-01T14:34:19.811462Z"
    },
    "tags": []
   },
   "outputs": [
    {
     "data": {
      "text/plain": [
       "array([   12.10924224,    50.86543389,   115.47305164,   205.92589556,\n",
       "         322.22302568,   464.36420073,   632.34933675,   826.17839841,\n",
       "        1045.85136873,  1291.36823874,  1562.72900336,  1859.93365952,\n",
       "        2182.98220526,  2531.87463933,  2906.61096085,  3307.19116923,\n",
       "        3733.61526403,  4185.88324494,  4663.99511172,  5167.95086419,\n",
       "        5697.75050223,  6253.39402571,  6834.88143457,  7442.21272873,\n",
       "        8075.38790814,  8734.40697275,  9419.26992254, 10129.97675747,\n",
       "       10866.52747751, 11628.92208266])"
      ]
     },
     "execution_count": 133,
     "metadata": {},
     "output_type": "execute_result"
    }
   ],
   "source": [
    "from pyslise import SturmLiouville\n",
    "from math import exp\n",
    "import numpy as np\n",
    "\n",
    "# https://doi.org/10.17512/jamcm.2016.2.14\n",
    "alpha = 1/4\n",
    "p = lambda x: (1+x)**2\n",
    "q = lambda x: x**2 - 2\n",
    "w = lambda x: exp(x)\n",
    "a = 0\n",
    "b = 1\n",
    "N = 30\n",
    "\n",
    "slp = SturmLiouville(p, q, w, a, b, tolerance=1e-15)\n",
    "exact = np.array(list(zip(*slp.eigenvaluesByIndex(0, N, (0, 1), (0, 1))))[1])\n",
    "exact"
   ]
  },
  {
   "cell_type": "code",
   "execution_count": 136,
   "id": "512742dc-b84f-4d9e-be69-b06ee224f8cd",
   "metadata": {
    "execution": {
     "iopub.execute_input": "2022-08-01T14:34:32.980050Z",
     "iopub.status.busy": "2022-08-01T14:34:32.979233Z",
     "iopub.status.idle": "2022-08-01T14:34:32.985338Z",
     "shell.execute_reply": "2022-08-01T14:34:32.984905Z",
     "shell.execute_reply.started": "2022-08-01T14:34:32.980026Z"
    },
    "tags": []
   },
   "outputs": [],
   "source": [
    "def solve(n):\n",
    "    xs = np.linspace(a, b, n+1)\n",
    "    ps = np.vectorize(p)(np.linspace(a, b, 2*n+1)[1::2])\n",
    "    qs = np.vectorize(q)(xs[1:-1])\n",
    "    ws = np.vectorize(w)(xs[1:-1])\n",
    "    dx = 1/n\n",
    "\n",
    "    # ps = np.array(range(0, n))\n",
    "\n",
    "    D = np.zeros((n-1,n-1))\n",
    "    np.fill_diagonal(D, -ps[1:] - ps[:-1])\n",
    "    np.fill_diagonal(D[:-1,1:], ps[1:-1])\n",
    "    np.fill_diagonal(D[1:,:-1], ps[1:-1])\n",
    "    D /= dx*dx\n",
    "\n",
    "    V = np.diag(ws**-1) @ (-D + np.diag(qs))\n",
    "    found = np.array(sorted(np.linalg.eigvals(V))[:N])\n",
    "    return found"
   ]
  },
  {
   "cell_type": "code",
   "execution_count": 138,
   "id": "54378a57-149a-496f-b09d-a8928760f520",
   "metadata": {
    "execution": {
     "iopub.execute_input": "2022-08-01T14:34:35.382194Z",
     "iopub.status.busy": "2022-08-01T14:34:35.381676Z",
     "iopub.status.idle": "2022-08-01T14:34:35.883236Z",
     "shell.execute_reply": "2022-08-01T14:34:35.882652Z",
     "shell.execute_reply.started": "2022-08-01T14:34:35.382145Z"
    },
    "tags": []
   },
   "outputs": [
    {
     "data": {
      "text/plain": [
       "<matplotlib.legend.Legend at 0x7fb3d9e47d60>"
      ]
     },
     "execution_count": 138,
     "metadata": {},
     "output_type": "execute_result"
    },
    {
     "data": {
      "image/png": "[encoded data removed]",
      "text/plain": [
       "<Figure size 432x288 with 1 Axes>"
      ]
     },
     "metadata": {
      "needs_background": "light"
     },
     "output_type": "display_data"
    }
   ],
   "source": [
    "import matplotlib.pyplot as plt\n",
    "\n",
    "plt.semilogy()\n",
    "\n",
    "for n in [32, 64, 128]:\n",
    "    found = solve(n)\n",
    "    plt.plot(range(0, N), np.abs(exact - found)/exact, label=f\"${n}$\")\n",
    "plt.legend()"
   ]
  },
  {
   "cell_type": "code",
   "execution_count": null,
   "id": "d131508d-a395-414d-be55-4d1ecd6c4106",
   "metadata": {},
   "outputs": [],
   "source": []
  }
 ],
 "metadata": {
  "kernelspec": {
   "display_name": "Python 3 (ipykernel)",
   "language": "python",
   "name": "python3"
  },
  "language_info": {
   "codemirror_mode": {
    "name": "ipython",
    "version": 3
   },
   "file_extension": ".py",
   "mimetype": "text/x-python",
   "name": "python",
   "nbconvert_exporter": "python",
   "pygments_lexer": "ipython3",
   "version": "3.9.12"
  }
 },
 "nbformat": 4,
 "nbformat_minor": 5
}
