{
 "cells": [
  {
   "cell_type": "code",
   "execution_count": 2,
   "id": "72b2067f-7079-4591-80da-b9441b81b3f6",
   "metadata": {
    "execution": {
     "iopub.execute_input": "2022-08-01T10:41:12.642540Z",
     "iopub.status.busy": "2022-08-01T10:41:12.641995Z",
     "iopub.status.idle": "2022-08-01T10:41:13.058981Z",
     "shell.execute_reply": "2022-08-01T10:41:13.058409Z",
     "shell.execute_reply.started": "2022-08-01T10:41:12.642473Z"
    },
    "tags": []
   },
   "outputs": [],
   "source": [
    "import sys\n",
    "sys.path.append('..')\n",
    "import ugent"
   ]
  },
  {
   "cell_type": "code",
   "execution_count": 282,
   "id": "5bdb750c-2bb5-4c39-8b17-be19f2cc87ff",
   "metadata": {
    "execution": {
     "iopub.execute_input": "2022-08-01T11:33:54.571782Z",
     "iopub.status.busy": "2022-08-01T11:33:54.570750Z",
     "iopub.status.idle": "2022-08-01T11:33:54.848457Z",
     "shell.execute_reply": "2022-08-01T11:33:54.847813Z",
     "shell.execute_reply.started": "2022-08-01T11:33:54.571708Z"
    },
    "tags": []
   },
   "outputs": [
    {
     "data": {
      "image/png": "[encoded data removed]",
      "text/plain": [
       "<Figure size 1800x1200 with 1 Axes>"
      ]
     },
     "metadata": {
      "needs_background": "light"
     },
     "output_type": "display_data"
    }
   ],
   "source": [
    "import matplotlib.pyplot as plt\n",
    "import string\n",
    "import numpy as np\n",
    "import matplotlib as mpl\n",
    "\n",
    "mpl.rc('text', usetex=True)\n",
    "mpl.rc('text.latex', preamble=r'\\usepackage{amsmath}')\n",
    "mpl.rc('font', family='serif', size=14, serif=\"Computer Modern Roman\")\n",
    "\n",
    "plt.axis('off')\n",
    "al = .1\n",
    "plt.plot([-al, 1+al], [0, 0], '-', lw=1.2, c=ugent.blauw)\n",
    "plt.plot(1+al, 0, '>', ms=6, c=ugent.blauw)\n",
    "\n",
    "items = ['$x_0$', '$x_1$', None, None, '$x_i$', None, None, '$x_{n-1}$', '$x_n$']\n",
    "n = len(items) - 1\n",
    "for i, t in enumerate(items):\n",
    "    if 0 < i < n:\n",
    "        plt.plot(i/n, 0, marker='|', ms=8, ls='', c=ugent.zwart)\n",
    "    else:\n",
    "        plt.plot(i/n, 0, marker='|', ms=12, ls='', c=ugent.zwart)\n",
    "    if t is not None:\n",
    "        plt.text(i/n,0.03, t, ha='center', va='bottom')\n",
    "        \n",
    "    \n",
    "\n",
    "plt.text(0,-0.04, '$a$', ha='center', va='top')\n",
    "plt.text(1,-0.04, '$b$', ha='center', va='top')\n",
    "\n",
    "\n",
    "for i in [2.55, 5.55]:\n",
    "    plt.text(i/n,0.03, '$\\\\dots$', ha='center', va='bottom')\n",
    "\n",
    "plt.gcf().set_dpi(300)\n",
    "plt.gca().set_aspect(1)\n",
    "\n",
    "plt.savefig(\"finite_difference_grid.pdf\", bbox_inches=\"tight\")"
   ]
  },
  {
   "cell_type": "code",
   "execution_count": null,
   "id": "a0a908fe-b149-4b08-befd-0bd0b7c64c5d",
   "metadata": {},
   "outputs": [],
   "source": [
    "ax.dpi"
   ]
  },
  {
   "cell_type": "code",
   "execution_count": null,
   "id": "2849f6a3-ca1f-48ba-bc5c-a4b1c97d85ae",
   "metadata": {},
   "outputs": [],
   "source": []
  }
 ],
 "metadata": {
  "kernelspec": {
   "display_name": "Python 3 (ipykernel)",
   "language": "python",
   "name": "python3"
  },
  "language_info": {
   "codemirror_mode": {
    "name": "ipython",
    "version": 3
   },
   "file_extension": ".py",
   "mimetype": "text/x-python",
   "name": "python",
   "nbconvert_exporter": "python",
   "pygments_lexer": "ipython3",
   "version": "3.9.7"
  }
 },
 "nbformat": 4,
 "nbformat_minor": 5
}
