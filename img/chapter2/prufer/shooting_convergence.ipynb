{
 "cells": [
  {
   "cell_type": "code",
   "execution_count": 2,
   "id": "6cb05b06-5e2f-4267-ac1c-6509b93d9dd4",
   "metadata": {
    "execution": {
     "iopub.execute_input": "2023-03-20T15:05:27.454236Z",
     "iopub.status.busy": "2023-03-20T15:05:27.453754Z",
     "iopub.status.idle": "2023-03-20T15:05:27.690942Z",
     "shell.execute_reply": "2023-03-20T15:05:27.690180Z",
     "shell.execute_reply.started": "2023-03-20T15:05:27.454192Z"
    },
    "tags": []
   },
   "outputs": [],
   "source": [
    "import sys\n",
    "sys.path.append('../..')\n",
    "import ugent"
   ]
  },
  {
   "cell_type": "code",
   "execution_count": 124,
   "id": "3ed1f5ae-7058-434f-a5e3-23d022cee813",
   "metadata": {
    "execution": {
     "iopub.execute_input": "2023-03-20T16:05:21.683614Z",
     "iopub.status.busy": "2023-03-20T16:05:21.682802Z",
     "iopub.status.idle": "2023-03-20T16:05:21.700133Z",
     "shell.execute_reply": "2023-03-20T16:05:21.698585Z",
     "shell.execute_reply.started": "2023-03-20T16:05:21.683543Z"
    },
    "tags": []
   },
   "outputs": [
    {
     "data": {
      "text/plain": [
       "[(0, 4.896669379967691),\n",
       " (1, 10.045189893253745),\n",
       " (2, 16.01926725049222),\n",
       " (3, 23.26627094002234),\n",
       " (4, 32.26370704580447),\n",
       " (5, 43.22001964053414),\n",
       " (6, 56.181594022847584),\n",
       " (7, 71.15299753705783),\n",
       " (8, 88.13211919154618),\n",
       " (9, 107.1166761382678),\n",
       " (10, 128.10502127333334),\n",
       " (11, 151.09604374559694)]"
      ]
     },
     "execution_count": 124,
     "metadata": {},
     "output_type": "execute_result"
    }
   ],
   "source": [
    "from pyslise import Pyslise\n",
    "from math import exp, pi\n",
    "\n",
    "y0 = (0, 1)\n",
    "p = Pyslise(lambda x: exp(x), 0, pi, tolerance=1e-14)\n",
    "eigs = p.eigenvaluesByIndex(0, 12, y0, y0)\n",
    "eigs"
   ]
  },
  {
   "cell_type": "code",
   "execution_count": 150,
   "id": "550f0518-71d2-4d56-8ed6-9b6a6172dcc2",
   "metadata": {
    "execution": {
     "iopub.execute_input": "2023-03-20T16:29:27.127686Z",
     "iopub.status.busy": "2023-03-20T16:29:27.125431Z",
     "iopub.status.idle": "2023-03-20T16:29:27.139708Z",
     "shell.execute_reply": "2023-03-20T16:29:27.138005Z",
     "shell.execute_reply.started": "2023-03-20T16:29:27.127600Z"
    },
    "tags": []
   },
   "outputs": [],
   "source": [
    "def analyze(E0):\n",
    "    r = []\n",
    "    E = E0\n",
    "    r.append(E)\n",
    "    for _ in range(20):\n",
    "        err, derr, theta = p.__error(E, y0, y0)\n",
    "        E -= err/derr\n",
    "        r.append(E)\n",
    "    return E, np.abs((np.array(r) - E)[:-1]/E)"
   ]
  },
  {
   "cell_type": "code",
   "execution_count": 188,
   "id": "f2bbe36a-821b-4ed6-a724-bc1ee97a1844",
   "metadata": {
    "execution": {
     "iopub.execute_input": "2023-03-20T17:40:39.368509Z",
     "iopub.status.busy": "2023-03-20T17:40:39.367423Z",
     "iopub.status.idle": "2023-03-20T17:40:39.865171Z",
     "shell.execute_reply": "2023-03-20T17:40:39.864259Z",
     "shell.execute_reply.started": "2023-03-20T17:40:39.368457Z"
    },
    "tags": []
   },
   "outputs": [
    {
     "name": "stderr",
     "output_type": "stream",
     "text": [
      "/tmp/ipykernel_159/2649164682.py:5: VisibleDeprecationWarning: Creating an ndarray from ragged nested sequences (which is a list-or-tuple of lists-or-tuples-or ndarrays with different lengths or shapes) is deprecated. If you meant to do this, you must specify 'dtype=object' when creating the ndarray.\n",
      "  E, errs = np.abs(analyze(E0))\n"
     ]
    },
    {
     "name": "stdout",
     "output_type": "stream",
     "text": [
      "4.896669379967691\n",
      "16.01926725049222\n",
      "107.1166761382678\n"
     ]
    },
    {
     "data": {
      "image/png": "[encoded data removed]",
      "text/plain": [
       "<Figure size 360x144 with 1 Axes>"
      ]
     },
     "metadata": {
      "needs_background": "light"
     },
     "output_type": "display_data"
    }
   ],
   "source": [
    "fig, ax = plt.subplots(1, 1, figsize=(5, 2))\n",
    "\n",
    "total = 0\n",
    "for i, (c, (j, E0)) in enumerate(zip(ugent.palet, [(0, 3), (2, 18), (9, 102)])):\n",
    "    E, errs = np.abs(analyze(E0))\n",
    "    print(E)\n",
    "    assert abs(eigs[j][1] - E) < 1e-8\n",
    "    t = np.min(np.where(errs == 0))\n",
    "    if errs[t-1] > 1e-13:\n",
    "        errs[t] = 1e-16\n",
    "        t += 1\n",
    "    total = max(total, t)\n",
    "    ax.semilogy(errs[:t], color=c, marker='o', base=2, label=f\"$\\\\lambda_{{{j}}}$\")\n",
    "\n",
    "ax.set_xlabel(\"Iterations\")\n",
    "ax.set_ylabel(\"Relative error\")\n",
    "ax.set_yticks([2**-i for i in range(2, 53, 12)])\n",
    "ax.set_xticks(range(total))\n",
    "ax.legend(loc=\"lower left\")\n",
    "plt.savefig('shooting_convergence_double.pdf', bbox_inches=\"tight\")"
   ]
  },
  {
   "cell_type": "code",
   "execution_count": null,
   "id": "d92eeffb-204c-4d0a-b9cb-81c2bb8f2cde",
   "metadata": {},
   "outputs": [],
   "source": []
  },
  {
   "cell_type": "code",
   "execution_count": 187,
   "id": "77daae7d-02c2-4a0f-b4b5-1e2449d47561",
   "metadata": {
    "execution": {
     "iopub.execute_input": "2023-03-20T17:40:35.207089Z",
     "iopub.status.busy": "2023-03-20T17:40:35.205941Z",
     "iopub.status.idle": "2023-03-20T17:40:35.782800Z",
     "shell.execute_reply": "2023-03-20T17:40:35.781854Z",
     "shell.execute_reply.started": "2023-03-20T17:40:35.206984Z"
    },
    "tags": []
   },
   "outputs": [
    {
     "data": {
      "image/png": "[encoded data removed]",
      "text/plain": [
       "<Figure size 360x144 with 1 Axes>"
      ]
     },
     "metadata": {
      "needs_background": "light"
     },
     "output_type": "display_data"
    }
   ],
   "source": [
    "# eps = 1.92593e-34\n",
    "\n",
    "fig, ax = plt.subplots(1, 1, figsize=(5, 2))\n",
    "\n",
    "float128_data = [\n",
    "    (0, 4.89667, \"0.387339 0.183773 0.0579033 0.00766433 0.00015506 6.4974e-08 1.14139e-14 3.52225e-28\"),\n",
    "    (2, 16.0193, \"0.123647 0.13835 0.00715505 0.000126707 3.71854e-08 3.20639e-15 2.38399e-29\"),\n",
    "    (9, 107.117, \"0.0477673 0.0114016 0.00025239 5.19361e-08 2.26338e-15 4.29857e-30\")\n",
    "]\n",
    "\n",
    "total = 0\n",
    "for c, (i, E, s) in zip(ugent.palet, float128_data):\n",
    "    errs = list(map(float, s.split()))\n",
    "    total = max(total, len(errs))\n",
    "    ax.semilogy(errs, color=c, marker='o', base=2, label=f\"$\\\\lambda_{{{i}}}$\")\n",
    "\n",
    "ax.set_xlabel(\"Iterations\")\n",
    "ax.set_ylabel(\"Relative error\")\n",
    "ax.set_yticks([2**-i for i in range(5, 113, 15)])\n",
    "ax.set_xticks(range(total))\n",
    "ax.legend(loc=\"lower left\")\n",
    "plt.savefig('shooting_convergence_float128.pdf', bbox_inches=\"tight\")"
   ]
  },
  {
   "cell_type": "code",
   "execution_count": 179,
   "id": "47cb1db0-51c6-4de2-b236-83563d263ce1",
   "metadata": {
    "execution": {
     "iopub.execute_input": "2023-03-20T17:07:31.570539Z",
     "iopub.status.busy": "2023-03-20T17:07:31.569726Z",
     "iopub.status.idle": "2023-03-20T17:07:31.584975Z",
     "shell.execute_reply": "2023-03-20T17:07:31.582821Z",
     "shell.execute_reply.started": "2023-03-20T17:07:31.570469Z"
    }
   },
   "outputs": [
    {
     "data": {
      "text/plain": [
       "-112.00069678036279"
      ]
     },
     "execution_count": 179,
     "metadata": {},
     "output_type": "execute_result"
    }
   ],
   "source": [
    "math.log2(1.925e-34)"
   ]
  },
  {
   "cell_type": "code",
   "execution_count": 182,
   "id": "f34fac05-fad5-47e9-9e92-226a6e1d34be",
   "metadata": {
    "execution": {
     "iopub.execute_input": "2023-03-20T17:08:20.280786Z",
     "iopub.status.busy": "2023-03-20T17:08:20.279218Z",
     "iopub.status.idle": "2023-03-20T17:08:20.290683Z",
     "shell.execute_reply": "2023-03-20T17:08:20.289027Z",
     "shell.execute_reply.started": "2023-03-20T17:08:20.280711Z"
    },
    "tags": []
   },
   "outputs": [
    {
     "data": {
      "text/plain": [
       "-15.954589770191003"
      ]
     },
     "execution_count": 182,
     "metadata": {},
     "output_type": "execute_result"
    }
   ],
   "source": [
    "math.log10(2**-53)"
   ]
  },
  {
   "cell_type": "code",
   "execution_count": 176,
   "id": "538e276f-467a-4047-b32f-ecfdb550d8a6",
   "metadata": {
    "execution": {
     "iopub.execute_input": "2023-03-20T16:56:51.063122Z",
     "iopub.status.busy": "2023-03-20T16:56:51.062244Z",
     "iopub.status.idle": "2023-03-20T16:56:51.075207Z",
     "shell.execute_reply": "2023-03-20T16:56:51.073565Z",
     "shell.execute_reply.started": "2023-03-20T16:56:51.063048Z"
    },
    "tags": []
   },
   "outputs": [
    {
     "name": "stdout",
     "output_type": "stream",
     "text": [
      "4e-01 & 2e-01 & 6e-02 & 8e-03 & 2e-04 & 6e-08 & 1e-14 & 4e-28\n",
      "1e-01 & 1e-01 & 7e-03 & 1e-04 & 4e-08 & 3e-15 & 2e-29\n",
      "5e-02 & 1e-02 & 3e-04 & 5e-08 & 2e-15 & 4e-30\n"
     ]
    }
   ],
   "source": [
    "for i, E, s in float128_data:\n",
    "    errs = list(map(float, s.split()))\n",
    "    print(' & '.join(f\"{e:.0e}\" for e in errs))"
   ]
  },
  {
   "cell_type": "code",
   "execution_count": 19,
   "id": "19a45f52-5c59-421e-b99a-76ee8cd8ae03",
   "metadata": {
    "execution": {
     "iopub.execute_input": "2023-03-20T15:20:32.413219Z",
     "iopub.status.busy": "2023-03-20T15:20:32.412876Z",
     "iopub.status.idle": "2023-03-20T15:20:35.447327Z",
     "shell.execute_reply": "2023-03-20T15:20:35.446460Z",
     "shell.execute_reply.started": "2023-03-20T15:20:32.413186Z"
    },
    "tags": []
   },
   "outputs": [
    {
     "data": {
      "text/plain": [
       "[<matplotlib.lines.Line2D at 0x7fb1f1de96a0>]"
      ]
     },
     "execution_count": 19,
     "metadata": {},
     "output_type": "execute_result"
    },
    {
     "data": {
      "image/png": "[encoded data removed]",
      "text/plain": [
       "<Figure size 432x288 with 1 Axes>"
      ]
     },
     "metadata": {
      "needs_background": "light"
     },
     "output_type": "display_data"
    }
   ],
   "source": [
    "import numpy as np\n",
    "import matplotlib.pyplot as plt\n",
    "\n",
    "Es = np.linspace(5, 100, 50)\n",
    "plt.plot(Es, [p.__error(E, y0, y0)[0] for E in Es])\n",
    "plt.plot(Es, [p.__error(E, y0, y0)[1] for E in Es])"
   ]
  },
  {
   "cell_type": "code",
   "execution_count": null,
   "id": "5fae8053-3caa-430b-a8b2-e9e68262dab7",
   "metadata": {},
   "outputs": [],
   "source": []
  }
 ],
 "metadata": {
  "kernelspec": {
   "display_name": "Python 3 (ipykernel)",
   "language": "python",
   "name": "python3"
  },
  "language_info": {
   "codemirror_mode": {
    "name": "ipython",
    "version": 3
   },
   "file_extension": ".py",
   "mimetype": "text/x-python",
   "name": "python",
   "nbconvert_exporter": "python",
   "pygments_lexer": "ipython3",
   "version": "3.9.7"
  }
 },
 "nbformat": 4,
 "nbformat_minor": 5
}
