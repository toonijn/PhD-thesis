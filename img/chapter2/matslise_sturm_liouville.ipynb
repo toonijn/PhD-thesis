{
 "cells": [
  {
   "cell_type": "code",
   "execution_count": 1,
   "id": "ee30c64e-b97c-4474-9425-bec3380eb68b",
   "metadata": {
    "execution": {
     "iopub.execute_input": "2023-03-09T13:58:16.488065Z",
     "iopub.status.busy": "2023-03-09T13:58:16.487808Z",
     "iopub.status.idle": "2023-03-09T13:58:17.344547Z",
     "shell.execute_reply": "2023-03-09T13:58:17.344020Z",
     "shell.execute_reply.started": "2023-03-09T13:58:16.488018Z"
    }
   },
   "outputs": [],
   "source": [
    "import sys\n",
    "sys.path.append('..')\n",
    "import ugent\n",
    "\n",
    "import matplotlib.pyplot as plt\n",
    "import matplotlib as mpl"
   ]
  },
  {
   "cell_type": "code",
   "execution_count": 37,
   "id": "ac44595a-b7b3-4150-ae98-4f7273a8bc74",
   "metadata": {
    "execution": {
     "iopub.execute_input": "2023-03-09T14:20:09.365266Z",
     "iopub.status.busy": "2023-03-09T14:20:09.365031Z",
     "iopub.status.idle": "2023-03-09T14:20:09.370617Z",
     "shell.execute_reply": "2023-03-09T14:20:09.370090Z",
     "shell.execute_reply.started": "2023-03-09T14:20:09.365251Z"
    },
    "tags": []
   },
   "outputs": [
    {
     "name": "stdout",
     "output_type": "stream",
     "text": [
      "[(0, 1.1704927599000179), (1, 26.863367646401713), (2, 78.54904526413775), (3, 156.08015622483026), (4, 259.4554762109347), (5, 388.6747906007673), (6, 543.7380371293218), (7, 724.6451922822125), (8, 931.3962455677444), (9, 1163.9911917274537)]\n"
     ]
    }
   ],
   "source": [
    "from pyslise import SturmLiouville\n",
    "from math import exp\n",
    "\n",
    "def p(x):\n",
    "    return (1 + x)**2\n",
    "\n",
    "def q(x):\n",
    "    return x * x - 2\n",
    "\n",
    "def w(x):\n",
    "    return exp(x)\n",
    "    \n",
    "sturm_liouville = SturmLiouville(p, q, w, 0, 1, tolerance=1e-8)\n",
    "print(sturm_liouville.eigenvaluesByIndex(0, 10, (0, 1), (1, 0)))"
   ]
  },
  {
   "cell_type": "code",
   "execution_count": 12,
   "id": "d5e4d8be-e734-4674-8574-e5ded48771c2",
   "metadata": {
    "execution": {
     "iopub.execute_input": "2023-03-09T14:02:31.686428Z",
     "iopub.status.busy": "2023-03-09T14:02:31.686028Z",
     "iopub.status.idle": "2023-03-09T14:02:31.691341Z",
     "shell.execute_reply": "2023-03-09T14:02:31.690382Z",
     "shell.execute_reply.started": "2023-03-09T14:02:31.686395Z"
    }
   },
   "outputs": [],
   "source": [
    "exact = [1.1704927599022, 26.8633676464100, 78.5490452641401, 156.0801562248233, 259.4554762109302,\n",
    "                     388.6747906007730, 543.7380371293273, 724.6451922822132, 931.3962455677519, 1163.9911917274574,\n",
    "                     1422.4300278884762]"
   ]
  },
  {
   "cell_type": "code",
   "execution_count": 51,
   "id": "c12535ec-e043-49e2-b416-0f69627788ae",
   "metadata": {
    "execution": {
     "iopub.execute_input": "2023-03-09T14:23:44.412594Z",
     "iopub.status.busy": "2023-03-09T14:23:44.411714Z",
     "iopub.status.idle": "2023-03-09T14:23:44.427226Z",
     "shell.execute_reply": "2023-03-09T14:23:44.425030Z",
     "shell.execute_reply.started": "2023-03-09T14:23:44.412516Z"
    },
    "tags": []
   },
   "outputs": [],
   "source": [
    "import numpy as np\n",
    "def solve(tolerance):\n",
    "    sturm_liouville = SturmLiouville(p, q, w, 0, 1, tolerance=tolerance)\n",
    "    return np.array(list(zip(*sturm_liouville.eigenvaluesByIndex(0, 8, (0, 1), (1, 0))))[1])"
   ]
  },
  {
   "cell_type": "code",
   "execution_count": 52,
   "id": "fc6e0505-3145-4473-870f-13dcb3dd4e68",
   "metadata": {
    "execution": {
     "iopub.execute_input": "2023-03-09T14:23:44.731260Z",
     "iopub.status.busy": "2023-03-09T14:23:44.730901Z",
     "iopub.status.idle": "2023-03-09T14:23:44.735751Z",
     "shell.execute_reply": "2023-03-09T14:23:44.735090Z",
     "shell.execute_reply.started": "2023-03-09T14:23:44.731242Z"
    },
    "tags": []
   },
   "outputs": [
    {
     "data": {
      "text/plain": [
       "array([-2.18225438e-12, -8.28492830e-12, -2.35900188e-12,  6.93489710e-12,\n",
       "        4.49063009e-12, -5.68434189e-12, -5.34328137e-12, -5.68434189e-13])"
      ]
     },
     "execution_count": 52,
     "metadata": {},
     "output_type": "execute_result"
    }
   ],
   "source": [
    "solve(1e-8) - exact"
   ]
  },
  {
   "cell_type": "code",
   "execution_count": 88,
   "id": "f94c6f4d-3db5-44a0-b71b-e5764677cedd",
   "metadata": {
    "execution": {
     "iopub.execute_input": "2023-03-09T14:33:49.781715Z",
     "iopub.status.busy": "2023-03-09T14:33:49.781388Z",
     "iopub.status.idle": "2023-03-09T14:33:49.789209Z",
     "shell.execute_reply": "2023-03-09T14:33:49.788585Z",
     "shell.execute_reply.started": "2023-03-09T14:33:49.781680Z"
    },
    "tags": []
   },
   "outputs": [
    {
     "data": {
      "text/plain": [
       "(8, 8)"
      ]
     },
     "execution_count": 88,
     "metadata": {},
     "output_type": "execute_result"
    }
   ],
   "source": [
    "exact = np.array(list(map(float, \"\"\"          1.17049275990225\n",
    "            26.86336764641\n",
    "          78.5490452641401\n",
    "          156.080156224823\n",
    "           259.45547621093\n",
    "          388.674790600773\n",
    "          543.738037129327\n",
    "          724.645192282213\n",
    "    \"\"\".split())))\n",
    "\n",
    "cited = np.array([1.17049262, 26.8633617, 78.5490026, 156.079996, 259.455041, 388.673823, 543.736155, 724.641861])\n",
    "\n",
    "sturm_liouville = SturmLiouville(p, q, w, 0, 1, tolerance=1e-8)\n",
    "ours = np.array(list(zip(*sturm_liouville.eigenvaluesByIndex(0, len(exact), (0, 1), (1, 0))))[1])\n",
    "\n",
    "len(cited), len(exact)"
   ]
  },
  {
   "cell_type": "code",
   "execution_count": 96,
   "id": "bfb62213-6e35-4248-a39b-f57cd0eec876",
   "metadata": {
    "execution": {
     "iopub.execute_input": "2023-03-09T14:35:02.857567Z",
     "iopub.status.busy": "2023-03-09T14:35:02.857341Z",
     "iopub.status.idle": "2023-03-09T14:35:02.860835Z",
     "shell.execute_reply": "2023-03-09T14:35:02.860332Z",
     "shell.execute_reply.started": "2023-03-09T14:35:02.857550Z"
    },
    "tags": []
   },
   "outputs": [
    {
     "name": "stdout",
     "output_type": "stream",
     "text": [
      "2.2 (-12)\n",
      "8.3 (-12)\n",
      "2.4 (-12)\n",
      "7.2 (-12)\n",
      "4.7 (-12)\n",
      "5.7 (-12)\n",
      "5.2 (-12)\n",
      "4.5 (-13)\n"
     ]
    }
   ],
   "source": [
    "for v in np.abs(ours - exact):\n",
    "    m, e = str(v).split('e')\n",
    "    print(f\"{float(m):.1f} ({e})\")"
   ]
  },
  {
   "cell_type": "code",
   "execution_count": null,
   "id": "72861666-7349-4076-b0a8-9f880b377552",
   "metadata": {},
   "outputs": [],
   "source": []
  }
 ],
 "metadata": {
  "kernelspec": {
   "display_name": "Python 3 (ipykernel)",
   "language": "python",
   "name": "python3"
  },
  "language_info": {
   "codemirror_mode": {
    "name": "ipython",
    "version": 3
   },
   "file_extension": ".py",
   "mimetype": "text/x-python",
   "name": "python",
   "nbconvert_exporter": "python",
   "pygments_lexer": "ipython3",
   "version": "3.9.7"
  }
 },
 "nbformat": 4,
 "nbformat_minor": 5
}
