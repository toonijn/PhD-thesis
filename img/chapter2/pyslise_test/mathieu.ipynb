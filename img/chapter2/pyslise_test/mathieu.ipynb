{
 "cells": [
  {
   "cell_type": "code",
   "execution_count": 16,
   "id": "26479b36-11c9-4ec0-a48e-28deb74ac4ae",
   "metadata": {
    "execution": {
     "iopub.execute_input": "2023-02-20T11:59:13.822507Z",
     "iopub.status.busy": "2023-02-20T11:59:13.821786Z",
     "iopub.status.idle": "2023-02-20T11:59:13.832515Z",
     "shell.execute_reply": "2023-02-20T11:59:13.829965Z",
     "shell.execute_reply.started": "2023-02-20T11:59:13.822440Z"
    },
    "tags": []
   },
   "outputs": [],
   "source": [
    "import sys\n",
    "sys.path.append('../..')\n",
    "import ugent"
   ]
  },
  {
   "cell_type": "code",
   "execution_count": 61,
   "id": "318e68be-46b1-4306-bd9e-bed29eeb2aa3",
   "metadata": {
    "execution": {
     "iopub.execute_input": "2023-02-20T12:19:54.674566Z",
     "iopub.status.busy": "2023-02-20T12:19:54.674273Z",
     "iopub.status.idle": "2023-02-20T12:19:55.516829Z",
     "shell.execute_reply": "2023-02-20T12:19:55.515960Z",
     "shell.execute_reply.started": "2023-02-20T12:19:54.674541Z"
    },
    "tags": []
   },
   "outputs": [
    {
     "data": {
      "text/plain": [
       "[(0, -13.93655247925017, 0.0),\n",
       " (1, -2.3821582359570024, 1.3322676295501878e-15),\n",
       " (2, 7.986069144681631, 0.0),\n",
       " (3, 17.38138067862307, 0.0),\n",
       " (4, 26.766426360480057, 3.552713678800501e-15),\n",
       " (5, 37.41985877672414, 0.0),\n",
       " (6, 50.0541572135573, 0.0),\n",
       " (7, 64.80044029302151, 0.0),\n",
       " (8, 81.62831318438334, 0.0),\n",
       " (9, 100.50676946287845, 0.0)]"
      ]
     },
     "execution_count": 61,
     "metadata": {},
     "output_type": "execute_result"
    }
   ],
   "source": [
    "import matplotlib.pyplot as plt\n",
    "import string\n",
    "import numpy as np\n",
    "import matplotlib as mpl\n",
    "from math import pi , cos\n",
    "from pyslise import Pyslise\n",
    "\n",
    "q = 10\n",
    "\n",
    "def V(x):\n",
    "    return 2 * q * cos(2 * x)\n",
    "\n",
    "mathieu = Pyslise(V, 0, pi, tolerance=1e-18)\n",
    "left = (0, 1)\n",
    "right = (0, 1)\n",
    "\n",
    "results = []\n",
    "for i, E in mathieu.eigenvaluesByIndex(0, 10, left, right):\n",
    "    results.append((i, E, mathieu.eigenvalueError(E, left, right, index=i)))\n",
    "results"
   ]
  },
  {
   "cell_type": "code",
   "execution_count": 124,
   "id": "fe78c225-3819-4351-86d7-8caa6207960a",
   "metadata": {
    "execution": {
     "iopub.execute_input": "2023-02-20T12:24:19.057446Z",
     "iopub.status.busy": "2023-02-20T12:24:19.056641Z",
     "iopub.status.idle": "2023-02-20T12:24:19.166214Z",
     "shell.execute_reply": "2023-02-20T12:24:19.165535Z",
     "shell.execute_reply.started": "2023-02-20T12:24:19.057373Z"
    },
    "tags": []
   },
   "outputs": [],
   "source": [
    "iE = 2\n",
    "\n",
    "mathieu = Pyslise(V, 0, pi, tolerance=1e-18)\n",
    "i, E = mathieu.eigenvaluesByIndex(iE, iE + 1, left, right)[0]\n",
    "f = mathieu.eigenfunction(E, left, right, index=i)\n",
    "xs = np.linspace(0, pi, 200)[1:-1]\n",
    "f_accurate = f(xs)[0, :]"
   ]
  },
  {
   "cell_type": "code",
   "execution_count": 125,
   "id": "a8fceab2-5f87-452c-a7f6-78c44ed1b1a8",
   "metadata": {
    "execution": {
     "iopub.execute_input": "2023-02-20T12:24:19.543269Z",
     "iopub.status.busy": "2023-02-20T12:24:19.542188Z",
     "iopub.status.idle": "2023-02-20T12:24:19.559045Z",
     "shell.execute_reply": "2023-02-20T12:24:19.557349Z",
     "shell.execute_reply.started": "2023-02-20T12:24:19.543170Z"
    },
    "tags": []
   },
   "outputs": [],
   "source": [
    "mathieu = Pyslise(V, 0, pi, tolerance=1e-7)\n",
    "\n",
    "i, E = mathieu.eigenvaluesByIndex(iE, iE + 1, left, right)[0]\n",
    "f = mathieu.eigenfunction(E, left, right, index=i)\n",
    "f_approx = f(xs)[0, :]"
   ]
  },
  {
   "cell_type": "code",
   "execution_count": 128,
   "id": "edf69af0-ebcb-4da6-a536-2cab49c66654",
   "metadata": {
    "execution": {
     "iopub.execute_input": "2023-02-20T12:27:45.366186Z",
     "iopub.status.busy": "2023-02-20T12:27:45.365881Z",
     "iopub.status.idle": "2023-02-20T12:27:45.981369Z",
     "shell.execute_reply": "2023-02-20T12:27:45.980357Z",
     "shell.execute_reply.started": "2023-02-20T12:27:45.366165Z"
    },
    "tags": []
   },
   "outputs": [
    {
     "data": {
      "text/plain": [
       "[<matplotlib.lines.Line2D at 0x7f5e1bdf8d30>]"
      ]
     },
     "execution_count": 128,
     "metadata": {},
     "output_type": "execute_result"
    },
    {
     "data": {
      "image/png": "[encoded data removed]",
      "text/plain": [
       "<Figure size 432x288 with 1 Axes>"
      ]
     },
     "metadata": {
      "needs_background": "light"
     },
     "output_type": "display_data"
    }
   ],
   "source": [
    "plt.semilogy(xs, np.abs(f_accurate-f_approx)/np.abs(f_accurate), color=ugent.blauw)"
   ]
  },
  {
   "cell_type": "code",
   "execution_count": 123,
   "id": "fe5ffa73-21bc-4d21-b213-1fc6574c71ac",
   "metadata": {
    "execution": {
     "iopub.execute_input": "2023-02-20T12:24:07.977763Z",
     "iopub.status.busy": "2023-02-20T12:24:07.977470Z",
     "iopub.status.idle": "2023-02-20T12:24:07.982957Z",
     "shell.execute_reply": "2023-02-20T12:24:07.982037Z",
     "shell.execute_reply.started": "2023-02-20T12:24:07.977740Z"
    },
    "tags": []
   },
   "outputs": [
    {
     "data": {
      "text/plain": [
       "6"
      ]
     },
     "execution_count": 123,
     "metadata": {},
     "output_type": "execute_result"
    }
   ],
   "source": [
    "mathieu.__sectorCount"
   ]
  },
  {
   "cell_type": "code",
   "execution_count": null,
   "id": "ea6be566-8d4c-4013-b1b5-c2f21087a20d",
   "metadata": {},
   "outputs": [],
   "source": []
  }
 ],
 "metadata": {
  "kernelspec": {
   "display_name": "Python 3 (ipykernel)",
   "language": "python",
   "name": "python3"
  },
  "language_info": {
   "codemirror_mode": {
    "name": "ipython",
    "version": 3
   },
   "file_extension": ".py",
   "mimetype": "text/x-python",
   "name": "python",
   "nbconvert_exporter": "python",
   "pygments_lexer": "ipython3",
   "version": "3.9.7"
  }
 },
 "nbformat": 4,
 "nbformat_minor": 5
}
