{
 "cells": [
  {
   "cell_type": "code",
   "execution_count": 1,
   "id": "f40ae30e-33ba-41c7-a805-cb30b830423d",
   "metadata": {
    "execution": {
     "iopub.execute_input": "2022-11-08T09:16:04.674783Z",
     "iopub.status.busy": "2022-11-08T09:16:04.674545Z",
     "iopub.status.idle": "2022-11-08T09:16:04.685621Z",
     "shell.execute_reply": "2022-11-08T09:16:04.685164Z",
     "shell.execute_reply.started": "2022-11-08T09:16:04.674737Z"
    }
   },
   "outputs": [],
   "source": [
    "rows = 6\n",
    "cols = 3\n",
    "\n",
    "n = rows*cols\n",
    "d = {}\n",
    "for v, (i, j) in sorted([(i*i+j*j, (i, j)) for i in range(1, n+1) for j in range(1, n+1)]):\n",
    "    if v not in d:\n",
    "        d[v] = []\n",
    "    d[v].append((i, j))\n",
    "    \n",
    "out = [[\"\"]*cols for _ in range(rows)]\n",
    "for k, (v, ijs) in enumerate(d.items()):\n",
    "    if k >= n:\n",
    "        break\n",
    "    out[k%rows][k//rows] = ' = '.join(f\"\\\\lambda_{{{i},{j}}}\" for i, j in ijs) + f\" &= {v}\"\n",
    "with open(\"zero_exact.tex\", 'w') as f:\n",
    "    print(r'\\begin{align*}', file=f)\n",
    "    print('\\\\\\\\\\n'.join(map(' & '.join, out)), file=f)\n",
    "    print(r'\\end{align*}%', file=f)"
   ]
  },
  {
   "cell_type": "code",
   "execution_count": 2,
   "id": "7ae1757b-bf45-4ba0-8ace-7b1dd852e5b4",
   "metadata": {
    "execution": {
     "iopub.execute_input": "2022-11-08T09:35:01.710981Z",
     "iopub.status.busy": "2022-11-08T09:35:01.710616Z",
     "iopub.status.idle": "2022-11-08T09:35:01.721628Z",
     "shell.execute_reply": "2022-11-08T09:35:01.721016Z",
     "shell.execute_reply.started": "2022-11-08T09:35:01.710951Z"
    }
   },
   "outputs": [
    {
     "data": {
      "text/plain": [
       "'1.53e-05'"
      ]
     },
     "execution_count": 2,
     "metadata": {},
     "output_type": "execute_result"
    }
   ],
   "source": [
    "f\"{2**-16:.2e}\""
   ]
  },
  {
   "cell_type": "code",
   "execution_count": null,
   "id": "1d7e5144-467f-48a5-923d-cd7684373af7",
   "metadata": {},
   "outputs": [],
   "source": []
  }
 ],
 "metadata": {
  "kernelspec": {
   "display_name": "Python 3 (ipykernel)",
   "language": "python",
   "name": "python3"
  },
  "language_info": {
   "codemirror_mode": {
    "name": "ipython",
    "version": 3
   },
   "file_extension": ".py",
   "mimetype": "text/x-python",
   "name": "python",
   "nbconvert_exporter": "python",
   "pygments_lexer": "ipython3",
   "version": "3.9.7"
  }
 },
 "nbformat": 4,
 "nbformat_minor": 5
}
