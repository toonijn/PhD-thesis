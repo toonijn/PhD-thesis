{
 "cells": [
  {
   "cell_type": "code",
   "execution_count": 1,
   "id": "e5d9a856-db10-4535-9953-fbad565aefc1",
   "metadata": {
    "tags": []
   },
   "outputs": [],
   "source": [
    "import matplotlib.pyplot as plt\n",
    "import numpy as np\n",
    "import sys\n",
    "sys.path.append('..')\n",
    "import ugent"
   ]
  },
  {
   "cell_type": "code",
   "execution_count": 7,
   "id": "dd80d7f3-dd6c-491c-b4fc-6d6ec6e5cb51",
   "metadata": {
    "tags": []
   },
   "outputs": [
    {
     "data": {
      "image/png": "[encoded data removed]",
      "text/plain": [
       "<Figure size 432x432 with 1 Axes>"
      ]
     },
     "metadata": {
      "needs_background": "light"
     },
     "output_type": "display_data"
    }
   ],
   "source": [
    "from matplotlib.path import Path\n",
    "from matplotlib.patches import PathPatch\n",
    "from math import sin, cos, pi\n",
    "\n",
    "def f(t):\n",
    "    r = (4+np.cos(2*pi*(t+.7))**2)**3\n",
    "    \n",
    "    alpha = 0.4\n",
    "    s = 2*(alpha-1)*t**3 + (3 - 3*alpha)*t**2 + alpha*t\n",
    "    s += .4\n",
    "    s *= 2*pi\n",
    "    \n",
    "    return r*np.sin(s), r*np.cos(s)\n",
    "\n",
    "\n",
    "ts = np.linspace(0, 1, 100)\n",
    "\n",
    "vertices = np.vstack(f(ts)).T\n",
    "codes = np.full(len(ts), Path.LINETO)\n",
    "codes[0] = Path.MOVETO\n",
    "codes[-1] = Path.CLOSEPOLY\n",
    "path = Path(vertices, codes)\n",
    "\n",
    "xmin, ymin = np.min(vertices, axis=0)\n",
    "xmax, ymax = np.max(vertices, axis=0)\n",
    "dx, dy = xmax-xmin, ymax-ymin\n",
    "\n",
    "for settings in [\n",
    "    dict(name=\"the_method_grid.pdf\", intersection_ms=8, side_points=False, mid_points=False),\n",
    "    # dict(name=\"the_method_grid_zoomed.pdf\", intersection_ms=0, side_points=True, mid_points=False, corners=True),\n",
    "    # dict(name=\"the_method_grid_zoomed_mid_corners.pdf\", intersection_ms=0, side_points=True, mid_points=True, corners=True),\n",
    "    # dict(name=\"the_method_grid_zoomed_mid.pdf\", intersection_ms=0, side_points=True, mid_points=True, corners=False),\n",
    "]:\n",
    "    patch = PathPatch(path, edgecolor=ugent.blauw, fill=None, lw=3, zorder=10)\n",
    "    fig, ax = plt.subplots(figsize=(6, 6))\n",
    "    border_low = 0.015\n",
    "    border_high = 0.015\n",
    "    plt.xlim(xmin-border_low*dx, xmax+border_high*dx)\n",
    "    plt.ylim(ymin-border_low*dx, ymax+border_high*dx)\n",
    "    ax.add_patch(patch)\n",
    "    ax.axis(False)\n",
    "    ax.set_aspect('equal')\n",
    "\n",
    "\n",
    "    background_gridargs = dict(alpha=0.6, color=ugent.zwart, dashes=(1,2), lw=1, zorder=1)\n",
    "    foreground_gridargs = dict(alpha=1, color=ugent.zwart, lw=1, clip_path=patch, zorder=2)\n",
    "    xs = np.linspace(xmin, xmax, 15)[1::2]\n",
    "    ys = np.linspace(ymin, ymax, 11)[1::2]\n",
    "    for i in xs:\n",
    "        ax.axvline(i, **background_gridargs)\n",
    "        ax.axvline(i, **foreground_gridargs)\n",
    "    for i in ys:\n",
    "        ax.axhline(i, **background_gridargs)\n",
    "        ax.axhline(i, **foreground_gridargs)\n",
    "\n",
    "        \n",
    "    if settings[\"intersection_ms\"] > 0:\n",
    "        intersections = []\n",
    "        for x in xs:\n",
    "            for y in ys:\n",
    "                if patch.contains_point(patch.get_transform().transform((x, y))):\n",
    "                    intersections.append((x, y))\n",
    "        ax.plot(*zip(*list(intersections)), \"x\", color=ugent.blauw, zorder=11, ms=settings[\"intersection_ms\"])\n",
    "    \n",
    "    if settings[\"side_points\"]:\n",
    "        n = 5\n",
    "        ix = 3\n",
    "        iy = 2\n",
    "        xs_side = np.linspace(xs[ix], xs[ix+1], n)\n",
    "        ys_side = np.linspace(ys[iy], ys[iy+1], n)\n",
    "        \n",
    "        corners = settings[\"corners\"]\n",
    "        \n",
    "        midpoints = []\n",
    "        if settings[\"mid_points\"]:\n",
    "            for x in xs_side[1:-1]:\n",
    "                for y in ys_side[1:-1]:\n",
    "                    midpoints.append((x, y))\n",
    "        ax.plot(*zip(*list(midpoints)), \"o\", color=ugent.rood, zorder=11, ms=2)\n",
    "        points = []\n",
    "        for i in range(0 if corners else 1, n-1):\n",
    "            points.append((xs_side[-1-i], ys[iy]))\n",
    "            points.append((xs_side[i], ys[iy+1]))\n",
    "            points.append((xs[ix], ys_side[i]))\n",
    "            points.append((xs[ix+1], ys_side[-1-i]))\n",
    "        ax.plot(*zip(*list(points)), \"o\", color=ugent.rood, zorder=11, ms=3)\n",
    "        \n",
    "\n",
    "    textargs = dict(size=20)\n",
    "    ax.text(xmin-.03*dx, ys[1], \"$y_{j-1}$\", **textargs, ha=\"right\", va=\"center\")\n",
    "    ax.text(xmin-.03*dx, ys[2], \"$y_{j}$\", **textargs, ha=\"right\", va=\"center\")\n",
    "    ax.text(xmin-.03*dx, ys[3], \"$y_{j+1}$\", **textargs, ha=\"right\", va=\"center\")\n",
    "\n",
    "    ax.text(xs[2], ymin-.03*dy, \"$x_{i-1}$\", **textargs, ha=\"center\", va=\"top\")\n",
    "    ax.text(xs[3], ymin-.03*dy, \"$x_{i}$\", **textargs, ha=\"center\", va=\"top\")\n",
    "    ax.text(xs[4], ymin-.03*dy, \"$x_{i+1}$\", **textargs, ha=\"center\", va=\"top\")\n",
    "\n",
    "    ax.text(xmin + .1*dx, ymax-.15*dy, \"$\\\\Omega$\", size=40, color=ugent.blauw)\n",
    "\n",
    "    plt.savefig(settings[\"name\"], bbox_inches='tight')"
   ]
  },
  {
   "cell_type": "code",
   "execution_count": null,
   "id": "3a1da188-7fc6-4c48-8afc-dbd9b8ed10e8",
   "metadata": {},
   "outputs": [],
   "source": []
  },
  {
   "cell_type": "code",
   "execution_count": null,
   "id": "0ec4cb91-9f70-42cc-9e71-8cd1046955f1",
   "metadata": {},
   "outputs": [],
   "source": []
  }
 ],
 "metadata": {
  "kernelspec": {
   "display_name": "Python 3 (ipykernel)",
   "language": "python",
   "name": "python3"
  },
  "language_info": {
   "codemirror_mode": {
    "name": "ipython",
    "version": 3
   },
   "file_extension": ".py",
   "mimetype": "text/x-python",
   "name": "python",
   "nbconvert_exporter": "python",
   "pygments_lexer": "ipython3",
   "version": "3.9.7"
  }
 },
 "nbformat": 4,
 "nbformat_minor": 5
}
