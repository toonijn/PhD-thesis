{
 "cells": [
  {
   "cell_type": "code",
   "execution_count": 38,
   "id": "91bf0ccd-5d9c-48d9-934a-2de86de9e20a",
   "metadata": {
    "execution": {
     "iopub.execute_input": "2023-01-26T17:47:57.036424Z",
     "iopub.status.busy": "2023-01-26T17:47:57.035755Z",
     "iopub.status.idle": "2023-01-26T17:47:57.358944Z",
     "shell.execute_reply": "2023-01-26T17:47:57.358197Z",
     "shell.execute_reply.started": "2023-01-26T17:47:57.036366Z"
    },
    "tags": []
   },
   "outputs": [
    {
     "data": {
      "text/plain": [
       "[2.0000000000129012,\n",
       " 3.9999999992687645,\n",
       " 3.99999999926877,\n",
       " 5.9999999985977945,\n",
       " 6.000000002062071,\n",
       " 6.000000002122641,\n",
       " 7.999999545071667,\n",
       " 7.999999545071679,\n",
       " 8.00000000539956,\n",
       " 8.000000005399595]"
      ]
     },
     "execution_count": 38,
     "metadata": {},
     "output_type": "execute_result"
    }
   ],
   "source": [
    "from schrodinger import Schrodinger2D, Rectangle\n",
    "import numpy as np\n",
    "import scipy.linalg as spl\n",
    "\n",
    "def V(x, y):\n",
    "    return x*x + y*y\n",
    "\n",
    "problem = Schrodinger2D(V, Rectangle(-9.5, 9.5, -9.5, 9.5), gridSize=[30,30], maxBasisSize=16)\n",
    "problem.eigenvalues(10)"
   ]
  },
  {
   "cell_type": "code",
   "execution_count": 39,
   "id": "155f67bd-ee61-4042-92cf-cc8356167955",
   "metadata": {
    "execution": {
     "iopub.execute_input": "2023-01-26T17:47:57.832747Z",
     "iopub.status.busy": "2023-01-26T17:47:57.831888Z",
     "iopub.status.idle": "2023-01-26T17:47:57.850121Z",
     "shell.execute_reply": "2023-01-26T17:47:57.848963Z",
     "shell.execute_reply.started": "2023-01-26T17:47:57.832671Z"
    },
    "tags": []
   },
   "outputs": [
    {
     "data": {
      "text/plain": [
       "((900, 480), (900, 480))"
      ]
     },
     "execution_count": 39,
     "metadata": {},
     "output_type": "execute_result"
    }
   ],
   "source": [
    "import scipy.sparse as sps\n",
    "import scipy.sparse.linalg as spsl\n",
    "\n",
    "Betas = problem.Beta()\n",
    "Bx, By = Betas.x, Betas.y\n",
    "Lambdas = problem.Lambda()\n",
    "Lx, Ly = map(np.diag, (Lambdas.x, Lambdas.y))\n",
    "nx = Lx.shape[0]\n",
    "ny = Ly.shape[0]\n",
    "Bx.shape, By.shape "
   ]
  },
  {
   "cell_type": "code",
   "execution_count": 40,
   "id": "3530ef91-6b65-4b36-bcd2-121aa4d095b9",
   "metadata": {
    "execution": {
     "iopub.execute_input": "2023-01-26T17:47:58.582401Z",
     "iopub.status.busy": "2023-01-26T17:47:58.581592Z",
     "iopub.status.idle": "2023-01-26T17:47:59.289401Z",
     "shell.execute_reply": "2023-01-26T17:47:59.288754Z",
     "shell.execute_reply.started": "2023-01-26T17:47:58.582329Z"
    },
    "tags": []
   },
   "outputs": [
    {
     "data": {
      "text/plain": [
       "(1800, 960)"
      ]
     },
     "execution_count": 40,
     "metadata": {},
     "output_type": "execute_result"
    }
   ],
   "source": [
    "A = np.block([[Bx @ Lx, By @ Ly], [Bx @ Lx, By @ Ly]])\n",
    "D = np.block([[Bx, np.zeros(By.shape)], [np.zeros(Bx.shape), By]])\n",
    "\n",
    "U, S, Vh = np.linalg.svd(D, full_matrices=False)\n",
    "A.shape"
   ]
  },
  {
   "cell_type": "code",
   "execution_count": 45,
   "id": "cedafd49-7df7-496c-8530-a92aa674d5a7",
   "metadata": {
    "execution": {
     "iopub.execute_input": "2023-01-26T17:49:10.060416Z",
     "iopub.status.busy": "2023-01-26T17:49:10.059769Z",
     "iopub.status.idle": "2023-01-26T17:49:10.850006Z",
     "shell.execute_reply": "2023-01-26T17:49:10.848989Z",
     "shell.execute_reply.started": "2023-01-26T17:49:10.060339Z"
    },
    "tags": []
   },
   "outputs": [
    {
     "data": {
      "text/plain": [
       "(-1.6860369579038382e-14, 1.6860369579038382e-14)"
      ]
     },
     "execution_count": 45,
     "metadata": {},
     "output_type": "execute_result"
    }
   ],
   "source": [
    "eigs = np.linalg.eigvals(np.diag(1/S) @ U.T @ A @ Vh.T)\n",
    "np.min(eigs.imag), np.max(eigs.imag)"
   ]
  },
  {
   "cell_type": "code",
   "execution_count": 46,
   "id": "8f9ff145-538a-4d5f-b5f0-c3753cab3648",
   "metadata": {
    "execution": {
     "iopub.execute_input": "2023-01-26T17:49:11.113729Z",
     "iopub.status.busy": "2023-01-26T17:49:11.112891Z",
     "iopub.status.idle": "2023-01-26T17:49:11.267918Z",
     "shell.execute_reply": "2023-01-26T17:49:11.267004Z",
     "shell.execute_reply.started": "2023-01-26T17:49:11.113654Z"
    },
    "tags": []
   },
   "outputs": [
    {
     "data": {
      "text/plain": [
       "[<matplotlib.lines.Line2D at 0x7f5bf0d35970>]"
      ]
     },
     "execution_count": 46,
     "metadata": {},
     "output_type": "execute_result"
    },
    {
     "data": {
      "image/png": "[encoded data removed]",
      "text/plain": [
       "<Figure size 432x288 with 1 Axes>"
      ]
     },
     "metadata": {
      "needs_background": "light"
     },
     "output_type": "display_data"
    }
   ],
   "source": [
    "import matplotlib.pyplot as plt\n",
    "plt.plot(sorted(eigs.real)[:400])"
   ]
  },
  {
   "cell_type": "code",
   "execution_count": 49,
   "id": "e880aa41-8c10-4300-8058-040c1b22fd1e",
   "metadata": {
    "execution": {
     "iopub.execute_input": "2023-01-26T17:49:46.318391Z",
     "iopub.status.busy": "2023-01-26T17:49:46.317826Z",
     "iopub.status.idle": "2023-01-26T17:49:46.325529Z",
     "shell.execute_reply": "2023-01-26T17:49:46.324286Z",
     "shell.execute_reply.started": "2023-01-26T17:49:46.318366Z"
    },
    "tags": []
   },
   "outputs": [
    {
     "data": {
      "text/plain": [
       "(-2.853941369363397e-14, 5.3899405653322146e-14, 256)"
      ]
     },
     "execution_count": 49,
     "metadata": {},
     "output_type": "execute_result"
    }
   ],
   "source": [
    "zeros = sorted(eigs.real[np.where(eigs.real < 0.5)])\n",
    "zeros[0], zeros[-1], len(zeros)"
   ]
  },
  {
   "cell_type": "code",
   "execution_count": 48,
   "id": "65e7c305-79ed-4070-84cf-f07ba1575abd",
   "metadata": {
    "execution": {
     "iopub.execute_input": "2023-01-26T17:49:11.998227Z",
     "iopub.status.busy": "2023-01-26T17:49:11.997421Z",
     "iopub.status.idle": "2023-01-26T17:49:12.006258Z",
     "shell.execute_reply": "2023-01-26T17:49:12.005277Z",
     "shell.execute_reply.started": "2023-01-26T17:49:11.998153Z"
    },
    "tags": []
   },
   "outputs": [
    {
     "data": {
      "text/plain": [
       "[2.0000000000034452,\n",
       " 3.928979642480038,\n",
       " 3.928979642480068,\n",
       " 4.000000008978181,\n",
       " 4.00000000897819,\n",
       " 5.3562894344969605,\n",
       " 5.356289435737162,\n",
       " 5.999999834182989,\n",
       " 5.999999835413293,\n",
       " 6.00000000077477,\n",
       " 6.782609989542713,\n",
       " 6.782609989542752,\n",
       " 6.8657816631652295,\n",
       " 6.8657816657608315,\n",
       " 7.999999501323196,\n",
       " 7.999999501323236,\n",
       " 7.999999815941946,\n",
       " 7.999999815942205,\n",
       " 8.208063991960794,\n",
       " 8.208064002533948,\n",
       " 8.29717632503435,\n",
       " 8.297176325034359,\n",
       " 9.632752856294154,\n",
       " 9.632752856294207,\n",
       " 9.727002592585702,\n",
       " 9.727003426810263,\n",
       " 9.999999772848636,\n",
       " 9.999999779059102,\n",
       " 10.00000093526363,\n",
       " 10.000019888347504]"
      ]
     },
     "execution_count": 48,
     "metadata": {},
     "output_type": "execute_result"
    }
   ],
   "source": [
    "sorted(eigs.real[np.where(eigs.real > 0.5)])[:30]"
   ]
  },
  {
   "cell_type": "code",
   "execution_count": 53,
   "id": "57fc916d-aa8a-433e-b5df-894f722c2441",
   "metadata": {
    "execution": {
     "iopub.execute_input": "2023-01-26T17:51:32.656967Z",
     "iopub.status.busy": "2023-01-26T17:51:32.656576Z",
     "iopub.status.idle": "2023-01-26T17:51:32.662868Z",
     "shell.execute_reply": "2023-01-26T17:51:32.662169Z",
     "shell.execute_reply.started": "2023-01-26T17:51:32.656938Z"
    },
    "tags": []
   },
   "outputs": [
    {
     "data": {
      "text/plain": [
       "-1.658170107887713e-07"
      ]
     },
     "execution_count": 53,
     "metadata": {},
     "output_type": "execute_result"
    }
   ],
   "source": [
    " 5.999999834182989 - 6"
   ]
  },
  {
   "cell_type": "code",
   "execution_count": null,
   "id": "7df63208-c397-4f5b-ae06-b631fd6ff2b6",
   "metadata": {},
   "outputs": [],
   "source": []
  }
 ],
 "metadata": {
  "kernelspec": {
   "display_name": "Python 3 (ipykernel)",
   "language": "python",
   "name": "python3"
  },
  "language_info": {
   "codemirror_mode": {
    "name": "ipython",
    "version": 3
   },
   "file_extension": ".py",
   "mimetype": "text/x-python",
   "name": "python",
   "nbconvert_exporter": "python",
   "pygments_lexer": "ipython3",
   "version": "3.9.7"
  }
 },
 "nbformat": 4,
 "nbformat_minor": 5
}
