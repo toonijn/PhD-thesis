{
 "cells": [
  {
   "cell_type": "code",
   "execution_count": 4,
   "id": "6a925475-28c8-450d-be49-1bcca61164c7",
   "metadata": {
    "execution": {
     "iopub.execute_input": "2022-11-08T11:01:01.588268Z",
     "iopub.status.busy": "2022-11-08T11:01:01.587327Z",
     "iopub.status.idle": "2022-11-08T11:01:01.606513Z",
     "shell.execute_reply": "2022-11-08T11:01:01.605934Z",
     "shell.execute_reply.started": "2022-11-08T11:01:01.588184Z"
    },
    "tags": []
   },
   "outputs": [
    {
     "data": {
      "text/plain": [
       "[47/5040, -19/140, 29/20, -118/45, 11/8, -1/20, -7/180, 1/70, -1/560]"
      ]
     },
     "execution_count": 4,
     "metadata": {},
     "output_type": "execute_result"
    }
   ],
   "source": [
    "import numpy as np\n",
    "import sympy as sy\n",
    "from sympy.matrices import Matrix, zeros\n",
    "import functools\n",
    "from tqdm import tqdm\n",
    "import sys\n",
    "sys.path.append('..')\n",
    "import ugent\n",
    "\n",
    "@functools.cache\n",
    "def coeffs(points):\n",
    "    n = len(points)\n",
    "    \n",
    "    A = Matrix(n, n, lambda i, j: points[j]**i)\n",
    "    b = zeros(n, 1)\n",
    "    b[2, 0] = 2\n",
    "    return list(A.LUsolve(b).T.row(0))\n",
    "\n",
    "coeffs(range(-3,6))"
   ]
  },
  {
   "cell_type": "code",
   "execution_count": 49,
   "id": "f9e36a76-fc4d-41fb-86c5-1bfa84f23e10",
   "metadata": {
    "execution": {
     "iopub.execute_input": "2022-11-08T12:53:38.534396Z",
     "iopub.status.busy": "2022-11-08T12:53:38.533435Z",
     "iopub.status.idle": "2022-11-08T12:53:38.551834Z",
     "shell.execute_reply": "2022-11-08T12:53:38.550677Z",
     "shell.execute_reply.started": "2022-11-08T12:53:38.534310Z"
    },
    "tags": []
   },
   "outputs": [
    {
     "data": {
      "text/plain": [
       "2"
      ]
     },
     "execution_count": 49,
     "metadata": {},
     "output_type": "execute_result"
    }
   ],
   "source": [
    "import itertools\n",
    "\n",
    "def order(points, coeffs):\n",
    "    for i in itertools.count(1):\n",
    "        r = 0\n",
    "        for p, c in zip(points, coeffs):\n",
    "            r += c*p**i\n",
    "        if (i == 2 and r != 2) or (i != 2 and r != 0):\n",
    "            return i-2\n",
    "\n",
    "order([-1,0,1],[1,-2,1])"
   ]
  },
  {
   "cell_type": "code",
   "execution_count": 58,
   "id": "e5d959eb-d850-4dd4-8c17-2f74b628dc24",
   "metadata": {
    "execution": {
     "iopub.execute_input": "2022-11-08T12:59:36.446676Z",
     "iopub.status.busy": "2022-11-08T12:59:36.446154Z",
     "iopub.status.idle": "2022-11-08T12:59:36.456074Z",
     "shell.execute_reply": "2022-11-08T12:59:36.455517Z",
     "shell.execute_reply.started": "2022-11-08T12:59:36.446658Z"
    },
    "tags": []
   },
   "outputs": [
    {
     "name": "stdout",
     "output_type": "stream",
     "text": [
      "6\n",
      "5\n",
      "5\n"
     ]
    }
   ],
   "source": [
    "ab = [(-3, 3), (-2, 4), (-1, 5)]\n",
    "low, high = zip(*ab)\n",
    "left = min(low)\n",
    "right = max(high)\n",
    "\n",
    "with open(\"fd_coefficients.tex\", 'w') as f:\n",
    "    print(f\"\\\\begin{{tabular}}{{{'c'*-left+'|c|'+'c'*right}|r}}\", file=f)\n",
    "    print(' & '.join(f\"$c_{{{i}}}$\" for i in range(left, right+1)), '& error', r'\\\\\\hline', file=f)\n",
    "    for a, b in ab:\n",
    "        d = dict(zip(range(left, right+1), [\"\"]*(right-left+1)))\n",
    "        rs = range(a, b+1)\n",
    "        cs = coeffs(rs)\n",
    "        print(order(rs, cs))\n",
    "        for r, c in zip(rs, cs):\n",
    "            d[r] = f\"${sy.latex(c)}$\"\n",
    "        print(r'\\rule{0pt}{3ex}',\n",
    "              ' & '.join(list(zip(*sorted(d.items())))[1]),\n",
    "              f'& $\\\\OO\\\\mleft(h^{{{order(rs, cs)}}}\\mright)$',\n",
    "              r'\\\\', file=f)\n",
    "    print(f\"\\\\end{{tabular}}\", file=f)"
   ]
  },
  {
   "cell_type": "code",
   "execution_count": 53,
   "id": "f6c4d215-f2fb-4fa2-9a01-d203dcb5fa82",
   "metadata": {
    "execution": {
     "iopub.execute_input": "2022-11-08T12:54:54.786377Z",
     "iopub.status.busy": "2022-11-08T12:54:54.785034Z",
     "iopub.status.idle": "2022-11-08T12:54:54.798804Z",
     "shell.execute_reply": "2022-11-08T12:54:54.797526Z",
     "shell.execute_reply.started": "2022-11-08T12:54:54.786287Z"
    },
    "tags": []
   },
   "outputs": [
    {
     "name": "stdout",
     "output_type": "stream",
     "text": [
      "[1/90, -3/20, 3/2, -49/18, 3/2, -3/20, 1/90]\n",
      "6\n"
     ]
    }
   ],
   "source": [
    "rs = range(-3, 4)\n",
    "cs = coeffs(rs)\n",
    "print(cs)\n",
    "print(order(rs, cs))"
   ]
  },
  {
   "cell_type": "code",
   "execution_count": null,
   "id": "ac00bbbc-54f7-4b68-8be9-32a67c49770e",
   "metadata": {},
   "outputs": [],
   "source": []
  }
 ],
 "metadata": {
  "kernelspec": {
   "display_name": "Python 3 (ipykernel)",
   "language": "python",
   "name": "python3"
  },
  "language_info": {
   "codemirror_mode": {
    "name": "ipython",
    "version": 3
   },
   "file_extension": ".py",
   "mimetype": "text/x-python",
   "name": "python",
   "nbconvert_exporter": "python",
   "pygments_lexer": "ipython3",
   "version": "3.9.7"
  }
 },
 "nbformat": 4,
 "nbformat_minor": 5
}
