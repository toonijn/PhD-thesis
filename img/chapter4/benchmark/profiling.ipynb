{
 "cells": [
  {
   "cell_type": "code",
   "execution_count": 4,
   "id": "2d58e15e-4caa-484d-b168-3c17d7358107",
   "metadata": {
    "execution": {
     "iopub.execute_input": "2023-02-07T08:48:36.655792Z",
     "iopub.status.busy": "2023-02-07T08:48:36.654985Z",
     "iopub.status.idle": "2023-02-07T08:48:36.671331Z",
     "shell.execute_reply": "2023-02-07T08:48:36.670251Z",
     "shell.execute_reply.started": "2023-02-07T08:48:36.655720Z"
    },
    "tags": []
   },
   "outputs": [],
   "source": [
    "data = {}\n",
    "with open(\"output.txt\") as output:\n",
    "    for l in output:\n",
    "        cells = l.split(\"\\t\")\n",
    "        if len(cells) == 3:\n",
    "            name, count, time = cells\n",
    "            if name not in data:\n",
    "                data[name] = []\n",
    "            data[name].append((int(count), float(time[:-3])))\n",
    "            \n",
    "averages = {}\n",
    "for k, vals in data.items():\n",
    "    counts, times = zip(*vals)\n",
    "    assert len(set(counts)) == 1\n",
    "    low = min(times)\n",
    "    high = max(times)\n",
    "    \n",
    "    averages[k] = (counts[0], (low+high)/2, (high - low)/2)"
   ]
  },
  {
   "cell_type": "code",
   "execution_count": 13,
   "id": "09abaf56-b18e-46d3-aba8-9365e73c8fb9",
   "metadata": {
    "execution": {
     "iopub.execute_input": "2023-02-07T08:55:36.661234Z",
     "iopub.status.busy": "2023-02-07T08:55:36.660544Z",
     "iopub.status.idle": "2023-02-07T08:55:36.665556Z",
     "shell.execute_reply": "2023-02-07T08:55:36.664811Z",
     "shell.execute_reply.started": "2023-02-07T08:55:36.661210Z"
    },
    "tags": []
   },
   "outputs": [
    {
     "name": "stdout",
     "output_type": "stream",
     "text": [
      " > Profile Hénon-Heiles\t1\t3295.0\t±128.7\n",
      " > Profile Hénon-Heiles > construct Schrodinger\t1\t531.2\t±24.0\n",
      " > Profile Hénon-Heiles > construct Schrodinger > Schrodinger::Schrodinger\t1\t531.2\t±24.0\n",
      " > Profile Hénon-Heiles > construct Schrodinger > Schrodinger::Schrodinger > Schrodinger::computeThread\t128\t435.8\t±21.9\n",
      " > Profile Hénon-Heiles > construct Schrodinger > Schrodinger::Schrodinger > Schrodinger::computeThread > Matslise::Sector::calculateTCoeffs\t5219\t27.6\t±2.1\n",
      " > Profile Hénon-Heiles > construct Schrodinger > Schrodinger::Schrodinger > Schrodinger::computeThread > Matslise::eigenvaluesByIndex\t128\t380.2\t±19.1\n",
      " > Profile Hénon-Heiles > construct Schrodinger > Schrodinger::Schrodinger > Schrodinger::computeThread > Matslise::eigenvaluesByIndex > Matslise::matchingError\t58130\t355.8\t±17.1\n",
      " > Profile Hénon-Heiles > construct Schrodinger > Schrodinger::Schrodinger > Schrodinger::computeThread > Matslise::eigenvaluesByIndex > Matslise::matchingError > Matslise::propagate\t116260\t296.8\t±12.8\n",
      " > Profile Hénon-Heiles > construct Schrodinger > Schrodinger::Schrodinger > Evaluate Matslise::Eigenfunction::operator()(Array)\t6144\t89.0\t±1.9\n",
      " > Profile Hénon-Heiles > calculate eigenvalues\t1\t2772.3\t±114.2\n",
      " > Profile Hénon-Heiles > calculate eigenvalues > Sparse eigenpairs\t1\t2772.3\t±114.2\n",
      " > Profile Hénon-Heiles > calculate eigenvalues > Sparse eigenpairs > SPECTRA select smallest\t1\t2702.5\t±113.5\n",
      " > Profile Hénon-Heiles > calculate eigenvalues > Sparse eigenpairs > SPECTRA select smallest > SPECTRA init\t1\t2.1\t±0.4\n",
      " > Profile Hénon-Heiles > calculate eigenvalues > Sparse eigenpairs > SPECTRA select smallest > SPECTRA init > SPECTRA perform_op\t2\t2.1\t±0.4\n",
      " > Profile Hénon-Heiles > calculate eigenvalues > Sparse eigenpairs > SPECTRA select smallest > SPECTRA init > SPECTRA perform_op > SPECTRA deflate forward\t8\t0.8\t±0.2\n",
      " > Profile Hénon-Heiles > calculate eigenvalues > Sparse eigenpairs > SPECTRA select smallest > SPECTRA compute\t1\t2655.8\t±112.7\n",
      " > Profile Hénon-Heiles > calculate eigenvalues > Sparse eigenpairs > SPECTRA select smallest > SPECTRA compute > SPECTRA perform_op\t1316\t1151.1\t±38.0\n",
      " > Profile Hénon-Heiles > calculate eigenvalues > Sparse eigenpairs > SPECTRA select smallest > SPECTRA compute > SPECTRA perform_op > SPECTRA deflate forward\t5264\t490.2\t±13.2\n",
      " > Profile Hénon-Heiles > calculate eigenvalues > Sparse eigenpairs > Collect eigenvalues\t1\t32.9\t±2.0\n",
      " > Profile Hénon-Heiles > check eigenvalues\t1\t0.0\t±0.0\n",
      " > Profile Hénon-Heiles (shiftInvert)\t1\t8799.9\t±220.3\n",
      " > Profile Hénon-Heiles (shiftInvert) > construct Schrodinger\t1\t510.8\t±13.7\n",
      " > Profile Hénon-Heiles (shiftInvert) > construct Schrodinger > Schrodinger::Schrodinger\t1\t510.8\t±13.7\n",
      " > Profile Hénon-Heiles (shiftInvert) > construct Schrodinger > Schrodinger::Schrodinger > Schrodinger::computeThread\t128\t415.2\t±10.7\n",
      " > Profile Hénon-Heiles (shiftInvert) > construct Schrodinger > Schrodinger::Schrodinger > Schrodinger::computeThread > Matslise::Sector::calculateTCoeffs\t5219\t25.3\t±1.2\n",
      " > Profile Hénon-Heiles (shiftInvert) > construct Schrodinger > Schrodinger::Schrodinger > Schrodinger::computeThread > Matslise::eigenvaluesByIndex\t128\t369.6\t±9.8\n",
      " > Profile Hénon-Heiles (shiftInvert) > construct Schrodinger > Schrodinger::Schrodinger > Schrodinger::computeThread > Matslise::eigenvaluesByIndex > Matslise::matchingError\t58130\t345.2\t±9.0\n",
      " > Profile Hénon-Heiles (shiftInvert) > construct Schrodinger > Schrodinger::Schrodinger > Schrodinger::computeThread > Matslise::eigenvaluesByIndex > Matslise::matchingError > Matslise::propagate\t116260\t287.7\t±7.3\n",
      " > Profile Hénon-Heiles (shiftInvert) > construct Schrodinger > Schrodinger::Schrodinger > Evaluate Matslise::Eigenfunction::operator()(Array)\t6144\t90.7\t±2.9\n",
      " > Profile Hénon-Heiles (shiftInvert) > calculate eigenvalues\t1\t8289.2\t±210.4\n",
      " > Profile Hénon-Heiles (shiftInvert) > calculate eigenvalues > Sparse eigenpairs\t1\t8289.2\t±210.4\n",
      " > Profile Hénon-Heiles (shiftInvert) > calculate eigenvalues > Sparse eigenpairs > SPECTRA shift invert\t1\t8226.4\t±208.8\n",
      " > Profile Hénon-Heiles (shiftInvert) > calculate eigenvalues > Sparse eigenpairs > SPECTRA shift invert > SPECTRA set_shift\t1\t3731.3\t±168.7\n",
      " > Profile Hénon-Heiles (shiftInvert) > calculate eigenvalues > Sparse eigenpairs > SPECTRA shift invert > SPECTRA init\t1\t28.1\t±5.4\n",
      " > Profile Hénon-Heiles (shiftInvert) > calculate eigenvalues > Sparse eigenpairs > SPECTRA shift invert > SPECTRA init > SPECTRA perform_op\t2\t28.0\t±5.4\n",
      " > Profile Hénon-Heiles (shiftInvert) > calculate eigenvalues > Sparse eigenpairs > SPECTRA shift invert > SPECTRA init > SPECTRA perform_op > SPECTRA deflate forward\t8\t0.9\t±0.2\n",
      " > Profile Hénon-Heiles (shiftInvert) > calculate eigenvalues > Sparse eigenpairs > SPECTRA shift invert > SPECTRA compute\t1\t4529.4\t±144.8\n",
      " > Profile Hénon-Heiles (shiftInvert) > calculate eigenvalues > Sparse eigenpairs > SPECTRA shift invert > SPECTRA compute > SPECTRA perform_op\t353\t4165.6\t±139.7\n",
      " > Profile Hénon-Heiles (shiftInvert) > calculate eigenvalues > Sparse eigenpairs > SPECTRA shift invert > SPECTRA compute > SPECTRA perform_op > SPECTRA deflate forward\t1412\t141.6\t±4.2\n",
      " > Profile Hénon-Heiles (shiftInvert) > calculate eigenvalues > Sparse eigenpairs > Collect eigenvalues\t1\t31.1\t±1.4\n",
      " > Profile Hénon-Heiles (shiftInvert) > check eigenvalues\t1\t0.0\t±0.0\n"
     ]
    }
   ],
   "source": [
    "for k, (count, time, diff) in averages.items():\n",
    "    print(f\"{k}\\t{count}\\t{time:.1f}\\t±{diff:.1f}\")"
   ]
  },
  {
   "cell_type": "code",
   "execution_count": 39,
   "id": "822f4cb1-2dac-4224-b316-d9b94f408d1f",
   "metadata": {
    "execution": {
     "iopub.execute_input": "2023-02-07T14:59:27.382868Z",
     "iopub.status.busy": "2023-02-07T14:59:27.382116Z",
     "iopub.status.idle": "2023-02-07T14:59:27.403086Z",
     "shell.execute_reply": "2023-02-07T14:59:27.401643Z",
     "shell.execute_reply.started": "2023-02-07T14:59:27.382798Z"
    },
    "tags": []
   },
   "outputs": [],
   "source": [
    "constructor = \"\"\"construct grid and solve one-dimensional problems\t1\t531.2\n",
    "  finding a basis on a single grid line\t128\t435.8\n",
    "  evaluate each eigenfunction in all grid points\t6144\t89\"\"\"\n",
    "select_min = \"\"\"computing eigenvalues\t1\t2772.3\n",
    "  SPECTRA compute eigenvalues\t1\t2655.8\n",
    "    perform operation\t1316\t1151.1\"\"\"\n",
    "shift_invert = \"\"\"computing eigenvalues (shiftInvert)\t1\t8289.2\n",
    "  sparse LU-decomposition\t1\t3731.3\n",
    "  SPECTRA compute eigenvalues\t1\t4529.4\n",
    "    perform operation\t353\t4165.6\"\"\"\n",
    "\n",
    "def print_table(data, file=None):\n",
    "    print(\"\\\\begin{tabular}{lrr}\", file=file)\n",
    "    print(f\"\\t & calls & runtime\", end=\"\", file=file)\n",
    "    for line in data.split('\\n'):\n",
    "        raw_name, count, time = line.split('\\t')\n",
    "        name = raw_name.lstrip()\n",
    "        indent = (len(raw_name) - len(name)) // 2\n",
    "        print(f\" \\\\\\\\\\n\\t\\\\hspace{{{5*indent}mm}}{name} & ${count}$ & $\\\\numprint[ms]{{{float(time):.0f}}}$\", end=\"\", file=file)\n",
    "    print(\"\\\\end{tabular}{lrr}\", file=file)\n",
    "\n",
    "with open(\"profile_constructor.tex\", 'w') as f:\n",
    "    print_table(constructor, f)\n",
    "\n",
    "with open(\"profile_select_min.tex\", 'w') as f:\n",
    "    print_table(select_min, f)\n",
    "\n",
    "with open(\"profile_shift_invert.tex\", 'w') as f:\n",
    "    print_table(shift_invert, f)"
   ]
  },
  {
   "cell_type": "code",
   "execution_count": null,
   "id": "0275e522-ecdc-4d3e-b4b1-88f4d138adf6",
   "metadata": {},
   "outputs": [],
   "source": []
  },
  {
   "cell_type": "code",
   "execution_count": null,
   "id": "16d6465f-5089-4bef-a203-f6d016f4e601",
   "metadata": {},
   "outputs": [],
   "source": []
  }
 ],
 "metadata": {
  "kernelspec": {
   "display_name": "Python 3 (ipykernel)",
   "language": "python",
   "name": "python3"
  },
  "language_info": {
   "codemirror_mode": {
    "name": "ipython",
    "version": 3
   },
   "file_extension": ".py",
   "mimetype": "text/x-python",
   "name": "python",
   "nbconvert_exporter": "python",
   "pygments_lexer": "ipython3",
   "version": "3.9.7"
  }
 },
 "nbformat": 4,
 "nbformat_minor": 5
}
