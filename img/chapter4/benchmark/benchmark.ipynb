{
 "cells": [
  {
   "cell_type": "code",
   "execution_count": 1,
   "id": "89b05b0e-3ee2-4d68-a184-e704c36f7b90",
   "metadata": {
    "execution": {
     "iopub.execute_input": "2023-02-07T15:30:56.173970Z",
     "iopub.status.busy": "2023-02-07T15:30:56.173436Z",
     "iopub.status.idle": "2023-02-07T15:30:56.247763Z",
     "shell.execute_reply": "2023-02-07T15:30:56.246988Z",
     "shell.execute_reply.started": "2023-02-07T15:30:56.173855Z"
    },
    "tags": []
   },
   "outputs": [],
   "source": [
    "from strands import Schrodinger2D, Rectangle, Circle\n",
    "import numpy as np\n",
    "import math\n",
    "\n",
    "best_known = 2*np.array([0.99859477260462, 1.99007676008316, 1.99007676008316, 2.95624298898781, 2.98532642806441, 2.98532642806442, 3.92596372109113, 3.92596372109114, 3.98241728327456, 3.98576092607719, 4.87014400547251, 4.89864420444642, 4.89864420444642, 4.98625101494171, 4.98625101494172, 5.81701909971053, 5.81701909971054, 5.86701480916528, 5.88144609873667, 5.99132695571450, 5.99132695571450, 6.73791623075037, 6.76486656303911, 6.76486656303911, 6.85343062732831, 6.85343062732831, 6.99893192820090, 6.99938690825129, 7.65948550690946, 7.65948550690947, 7.69772136553152, 7.73688473693607, 7.83273518682762, 7.83273518682763, 8.00942477463143, 8.00942477463144, 8.55402322299586, 8.57635148658287, 8.57635148658294, 8.67792887113521, 8.67792887113523, 8.81132713081544, 8.81518847088363, 9.02172330707064, 9.02172330707064, 9.44405461567860])\n",
    "\n",
    "f = 1/(6*math.sqrt(5))\n",
    "def V(x, y):\n",
    "    return x*x + y*y + f*y*(3*x*x - y*y)\n"
   ]
  },
  {
   "cell_type": "code",
   "execution_count": 2,
   "id": "82965098-c2c1-4f0c-92a4-e47dc31b866e",
   "metadata": {
    "execution": {
     "iopub.execute_input": "2023-02-07T15:30:57.616821Z",
     "iopub.status.busy": "2023-02-07T15:30:57.616042Z",
     "iopub.status.idle": "2023-02-07T15:30:58.936147Z",
     "shell.execute_reply": "2023-02-07T15:30:58.935255Z",
     "shell.execute_reply.started": "2023-02-07T15:30:57.616752Z"
    },
    "tags": []
   },
   "outputs": [
    {
     "data": {
      "text/plain": [
       "array([3.66373598e-13, 2.85238499e-12, 4.55524507e-11, 1.25158817e-09,\n",
       "       5.18625143e-11, 1.27811006e-09, 3.49021523e-09, 5.80393973e-08,\n",
       "       2.24862013e-08, 8.04250888e-10, 6.64840202e-07, 4.18703543e-08,\n",
       "       9.41695584e-07, 2.94343483e-08, 2.22393968e-07, 1.12491010e-06,\n",
       "       1.69791000e-05, 9.73112651e-06, 4.22221220e-07, 2.41765798e-07,\n",
       "       2.05797160e-06, 1.03343320e-04, 9.67104673e-06, 1.77938712e-04,\n",
       "       9.79763005e-06, 4.43377177e-05, 3.04700953e-06, 1.30797522e-05,\n",
       "       1.31581331e-04, 1.52603788e-03, 1.00842903e-03, 6.04894225e-05,\n",
       "       6.05008842e-05, 2.77137036e-04, 2.52149078e-05, 6.55614937e-05,\n",
       "       4.45192680e-03, 8.37478757e-04, 1.06650813e-02, 8.35458962e-04])"
      ]
     },
     "execution_count": 2,
     "metadata": {},
     "output_type": "execute_result"
    }
   ],
   "source": [
    "m = 48, 64\n",
    "\n",
    "s = Schrodinger2D(V, Rectangle(-6,6, -6,6), # Circle(9.5),\n",
    "                  gridSize=(48, 48), maxBasisSize=36)\n",
    "\n",
    "eigenvalues = np.array(s.eigenvalues(k=40, shiftInvert=False, sparse=True))\n",
    "eigenvalues - best_known[:len(eigenvalues)]"
   ]
  },
  {
   "cell_type": "code",
   "execution_count": null,
   "id": "17b133fc-6574-486d-9e49-2cf28214734a",
   "metadata": {
    "execution": {
     "iopub.execute_input": "2023-02-07T15:31:00.663930Z",
     "iopub.status.busy": "2023-02-07T15:31:00.661889Z"
    },
    "tags": []
   },
   "outputs": [
    {
     "data": {
      "application/vnd.jupyter.widget-view+json": {
       "model_id": "7087f4d4918246aa98d1dfd44f6ef795",
       "version_major": 2,
       "version_minor": 0
      },
      "text/plain": [
       "  0%|          | 0/35 [00:00<?, ?it/s]"
      ]
     },
     "metadata": {},
     "output_type": "display_data"
    },
    {
     "name": "stdout",
     "output_type": "stream",
     "text": [
      "64\n",
      "32\n",
      "32\n",
      "64\n",
      "128\n"
     ]
    }
   ],
   "source": [
    "from tqdm.notebook import tqdm\n",
    "import random\n",
    "import time\n",
    "tic_toc_start = 0\n",
    "\n",
    "def tic():\n",
    "    global tic_toc_start\n",
    "    tic_toc_start = time.time_ns()\n",
    "\n",
    "def toc():\n",
    "    end = time.time_ns()\n",
    "    return (end - tic_toc_start)/1000/1000/1000\n",
    "\n",
    "\n",
    "def V(x, y):\n",
    "    return x*x + y*y + f*y*(3*x*x - y*y)\n",
    "\n",
    "domain = Rectangle(-6,6, -6,6)\n",
    "\n",
    "def test(N):\n",
    "    print(N)\n",
    "    m = N * 3 // 4\n",
    "    tic()\n",
    "    s = Schrodinger2D(V, domain, gridSize=(N, N), maxBasisSize=m)\n",
    "    ctime = toc()\n",
    "    \n",
    "    times = {}\n",
    "    r = [False, True]\n",
    "    random.shuffle(r)\n",
    "    for shiftInvert in r:\n",
    "        tic()\n",
    "        eigs = s.eigenvalues(k=40, sparse=True, shiftInvert=shiftInvert)\n",
    "        etime = toc()\n",
    "        times[shiftInvert] = etime\n",
    "        \n",
    "    return ctime, (times[False], times[True])\n",
    "\n",
    "Ns = [32,48,64,80,96,102,128] * 5\n",
    "random.shuffle(Ns)\n",
    "results = {N: [] for N in Ns}\n",
    "for N in tqdm(Ns):\n",
    "    results[N].append(test(N))"
   ]
  },
  {
   "cell_type": "code",
   "execution_count": 53,
   "id": "370cfd0f-7824-464d-9502-dfdbf62e228e",
   "metadata": {
    "execution": {
     "iopub.execute_input": "2023-02-07T15:28:37.154887Z",
     "iopub.status.busy": "2023-02-07T15:28:37.153878Z",
     "iopub.status.idle": "2023-02-07T15:28:37.165350Z",
     "shell.execute_reply": "2023-02-07T15:28:37.164072Z",
     "shell.execute_reply.started": "2023-02-07T15:28:37.154803Z"
    },
    "tags": []
   },
   "outputs": [
    {
     "data": {
      "text/plain": [
       "{102: [], 80: [], 32: [], 48: [], 96: [], 64: [], 128: []}"
      ]
     },
     "execution_count": 53,
     "metadata": {},
     "output_type": "execute_result"
    }
   ],
   "source": [
    "results"
   ]
  },
  {
   "cell_type": "code",
   "execution_count": null,
   "id": "6dfb866a-0b49-40cc-aac6-bbf3224064da",
   "metadata": {},
   "outputs": [],
   "source": []
  }
 ],
 "metadata": {
  "kernelspec": {
   "display_name": "Python 3 (ipykernel)",
   "language": "python",
   "name": "python3"
  },
  "language_info": {
   "codemirror_mode": {
    "name": "ipython",
    "version": 3
   },
   "file_extension": ".py",
   "mimetype": "text/x-python",
   "name": "python",
   "nbconvert_exporter": "python",
   "pygments_lexer": "ipython3",
   "version": "3.9.7"
  }
 },
 "nbformat": 4,
 "nbformat_minor": 5
}
