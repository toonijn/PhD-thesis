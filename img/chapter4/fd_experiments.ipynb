{
 "cells": [
  {
   "cell_type": "code",
   "execution_count": 3,
   "id": "bada4c5c-6601-44ab-b9a1-154d7e664a51",
   "metadata": {
    "execution": {
     "iopub.execute_input": "2022-10-25T06:38:00.896519Z",
     "iopub.status.busy": "2022-10-25T06:38:00.896291Z",
     "iopub.status.idle": "2022-10-25T06:38:44.569990Z",
     "shell.execute_reply": "2022-10-25T06:38:44.569413Z",
     "shell.execute_reply.started": "2022-10-25T06:38:00.896502Z"
    },
    "tags": []
   },
   "outputs": [
    {
     "name": "stderr",
     "output_type": "stream",
     "text": [
      "100%|██████████████████████████████████████████████████████████| 39/39 [00:43<00:00,  1.11s/it]\n"
     ]
    }
   ],
   "source": [
    "import numpy as np\n",
    "import sympy as sy\n",
    "from sympy.matrices import Matrix, zeros\n",
    "import functools\n",
    "from tqdm import tqdm\n",
    "\n",
    "@functools.cache\n",
    "def coeffs(points):\n",
    "    n = len(points)\n",
    "    \n",
    "    A = Matrix(n, n, lambda i, j: points[j]**i)\n",
    "    b = zeros(n, 1)\n",
    "    b[2, 0] = 2\n",
    "    return list(A.LUsolve(b).T.row(0))\n",
    "\n",
    "for n in tqdm(range(1, 40)):\n",
    "    coeffs(range(-n,n+1))"
   ]
  },
  {
   "cell_type": "code",
   "execution_count": 4,
   "id": "153c4a03-dac1-4c45-8b2d-3be5202f89b8",
   "metadata": {
    "execution": {
     "iopub.execute_input": "2022-10-25T06:38:44.571333Z",
     "iopub.status.busy": "2022-10-25T06:38:44.571071Z",
     "iopub.status.idle": "2022-10-25T06:38:44.580962Z",
     "shell.execute_reply": "2022-10-25T06:38:44.580505Z",
     "shell.execute_reply.started": "2022-10-25T06:38:44.571315Z"
    },
    "tags": []
   },
   "outputs": [],
   "source": [
    "import numpy as np\n",
    "\n",
    "class FDSchrodinger:\n",
    "    def __init__(self, V, xbounds, ybounds, nx, ny, mx, my):\n",
    "        self.cx = np.array(coeffs(range(-mx, mx+1)), dtype=\"float64\")\n",
    "        self.cy = np.array(coeffs(range(-my, my+1)), dtype=\"float64\")\n",
    "        self.xs = np.linspace(*xbounds, nx+1)\n",
    "        self.ys = np.linspace(*ybounds, ny+1)\n",
    "        X, Y = np.meshgrid(self.xs[1:-1], self.ys[1:-1])\n",
    "        self.vs = V(X, Y)\n",
    "        hx = (xbounds[1] - xbounds[0])/nx\n",
    "        hy = (ybounds[-1] - ybounds[0])/ny\n",
    "        self.cx /= -hx**2\n",
    "        self.cy /= -hy**2\n",
    "    \n",
    "    def system(self):\n",
    "        nx = self.xs.shape[0] - 2\n",
    "        ny = self.ys.shape[0] - 2\n",
    "        N = nx*ny\n",
    "        mx = self.cx.shape[0]//2\n",
    "        my = self.cy.shape[0]//2\n",
    "        \n",
    "        B = np.zeros((N, N), dtype=\"float64\")\n",
    "        for ix in range(nx):\n",
    "            for iy in range(ny):\n",
    "                lowx = max(-mx, -ix)\n",
    "                highx = min(mx + 1, nx - ix)\n",
    "                B[iy*nx + ix, iy*nx + ix + lowx : iy*nx + ix + highx] += self.cx[mx + lowx : mx + highx]\n",
    "                \n",
    "                lowy = max(-my, -iy)\n",
    "                highy = min(my + 1, ny - iy)\n",
    "                B[iy*nx + ix, (iy + lowy)*nx + ix : (iy + highy)*nx + ix : nx] += self.cy[my + lowy : my + highy]\n",
    "        \n",
    "        B += np.diag(self.vs.flatten())\n",
    "        \n",
    "        return B"
   ]
  },
  {
   "cell_type": "code",
   "execution_count": 18,
   "id": "bffbc9e4-72da-492d-9bfb-ae403fe3b0cc",
   "metadata": {
    "execution": {
     "iopub.execute_input": "2022-10-25T07:19:43.161742Z",
     "iopub.status.busy": "2022-10-25T07:19:43.161478Z",
     "iopub.status.idle": "2022-10-25T07:19:43.166471Z",
     "shell.execute_reply": "2022-10-25T07:19:43.165993Z",
     "shell.execute_reply.started": "2022-10-25T07:19:43.161726Z"
    },
    "tags": []
   },
   "outputs": [],
   "source": [
    "def V(x, y):\n",
    "    return x ** 2 + y ** 2\n",
    "\n",
    "fds = FDSchrodinger(V, (-10, 10), (-10, 10), 48, 48, 20, 20)"
   ]
  },
  {
   "cell_type": "code",
   "execution_count": 19,
   "id": "bc95c956-96c7-439e-b40d-e68d5930a3f3",
   "metadata": {
    "execution": {
     "iopub.execute_input": "2022-10-25T07:19:44.293621Z",
     "iopub.status.busy": "2022-10-25T07:19:44.292648Z",
     "iopub.status.idle": "2022-10-25T07:19:45.851916Z",
     "shell.execute_reply": "2022-10-25T07:19:45.851246Z",
     "shell.execute_reply.started": "2022-10-25T07:19:44.293536Z"
    },
    "tags": []
   },
   "outputs": [
    {
     "data": {
      "text/plain": [
       "[1.9999999999996139,\n",
       " 3.9999999999929337,\n",
       " 3.9999999999929505,\n",
       " 5.999999999884781,\n",
       " 5.999999999884827,\n",
       " 5.999999999986249,\n",
       " 7.999999998730772,\n",
       " 7.999999998730842,\n",
       " 7.999999999878144,\n",
       " 7.999999999878199,\n",
       " 9.999999989597429,\n",
       " 9.999999989597455,\n",
       " 9.999999998724105,\n",
       " 9.999999998724155,\n",
       " 9.9999999997701,\n",
       " 11.999999932387894,\n",
       " 11.999999932387981,\n",
       " 11.999999989590746,\n",
       " 11.999999989590778,\n",
       " 11.999999998615971,\n",
       " 11.999999998615976,\n",
       " 13.999999636612593,\n",
       " 13.999999636612626,\n",
       " 13.999999932381298,\n",
       " 13.999999932381314,\n",
       " 13.999999989482628,\n",
       " 13.999999989482678,\n",
       " 13.999999997461911,\n",
       " 15.999998336889764,\n",
       " 15.99999833688982,\n",
       " 15.999999636605946,\n",
       " 15.99999963660597,\n",
       " 15.999999932273225,\n",
       " 15.99999993227327,\n",
       " 15.999999988328605,\n",
       " 15.999999988328605,\n",
       " 17.99999337526216,\n",
       " 17.999993375262164,\n",
       " 17.999998336883127,\n",
       " 17.99999833688317,\n",
       " 17.99999963649782,\n",
       " 17.99999963649785,\n",
       " 17.9999999311191,\n",
       " 17.999999931119156,\n",
       " 17.999999979195312,\n",
       " 19.999976637986798,\n",
       " 19.999976637986855,\n",
       " 19.9999933752555,\n",
       " 19.999993375255535,\n",
       " 19.999998336775036]"
      ]
     },
     "execution_count": 19,
     "metadata": {},
     "output_type": "execute_result"
    }
   ],
   "source": [
    "Es, vs = np.linalg.eigh(fds.system())\n",
    "sorted(Es)[:50]"
   ]
  },
  {
   "cell_type": "code",
   "execution_count": 20,
   "id": "721fad24-52e6-49a6-add4-b7e82b63a001",
   "metadata": {
    "execution": {
     "iopub.execute_input": "2022-10-25T07:19:48.085304Z",
     "iopub.status.busy": "2022-10-25T07:19:48.085087Z",
     "iopub.status.idle": "2022-10-25T07:19:48.443061Z",
     "shell.execute_reply": "2022-10-25T07:19:48.442551Z",
     "shell.execute_reply.started": "2022-10-25T07:19:48.085286Z"
    },
    "tags": []
   },
   "outputs": [
    {
     "data": {
      "text/plain": [
       "[1.9999999999995606,\n",
       " 3.999999999992912,\n",
       " 3.999999999992955,\n",
       " 5.99999999988483,\n",
       " 5.999999999884938,\n",
       " 5.999999999986269,\n",
       " 7.99999999873079,\n",
       " 7.999999998730848,\n",
       " 7.999999999878223,\n",
       " 7.999999999878236,\n",
       " 9.999999989597455,\n",
       " 9.999999989597475,\n",
       " 9.999999998724016,\n",
       " 9.999999998724096,\n",
       " 9.99999999977009,\n",
       " 11.999999932387972,\n",
       " 11.999999932387983,\n",
       " 11.999999989590847,\n",
       " 11.99999998959085,\n",
       " 11.999999998616019,\n",
       " 11.999999998616044,\n",
       " 13.999999636612635,\n",
       " 13.999999636612745,\n",
       " 13.999999932381256,\n",
       " 13.999999932381307,\n",
       " 13.999999989482701,\n",
       " 13.999999989482731,\n",
       " 13.999999997461845,\n",
       " 15.999998336889744,\n",
       " 15.99999833688986,\n",
       " 15.999999636605866,\n",
       " 15.99999963660589,\n",
       " 15.99999993227319,\n",
       " 15.999999932273296,\n",
       " 15.99999998832855,\n",
       " 15.9999999883286,\n",
       " 17.99999337526223,\n",
       " 17.999993375262232,\n",
       " 17.999998336883234,\n",
       " 17.999998336883372,\n",
       " 17.99999963649777,\n",
       " 17.99999963649796,\n",
       " 17.999999931119184,\n",
       " 17.999999931119223,\n",
       " 17.99999997919541,\n",
       " 19.99997663798679,\n",
       " 19.99997663798705,\n",
       " 19.999993375255567,\n",
       " 19.999993375255755,\n",
       " 19.999998336775153]"
      ]
     },
     "execution_count": 20,
     "metadata": {},
     "output_type": "execute_result"
    }
   ],
   "source": [
    "import scipy.sparse as sps\n",
    "\n",
    "sorted(np.real(sps.linalg.eigs(sps.csr_matrix(fds.system()), which='SR', k=50)[0]))"
   ]
  },
  {
   "cell_type": "code",
   "execution_count": 204,
   "id": "5306ff01-d4f9-4893-9bd0-bdeb807562ab",
   "metadata": {
    "execution": {
     "iopub.execute_input": "2022-10-24T15:52:52.842245Z",
     "iopub.status.busy": "2022-10-24T15:52:52.841286Z",
     "iopub.status.idle": "2022-10-24T15:52:53.065174Z",
     "shell.execute_reply": "2022-10-24T15:52:53.064579Z",
     "shell.execute_reply.started": "2022-10-24T15:52:52.842162Z"
    },
    "tags": []
   },
   "outputs": [
    {
     "data": {
      "text/plain": [
       "<matplotlib.colorbar.Colorbar at 0x7fd116bbebe0>"
      ]
     },
     "execution_count": 204,
     "metadata": {},
     "output_type": "execute_result"
    },
    {
     "data": {
      "image/png": "[encoded data removed]",
      "text/plain": [
       "<Figure size 480x480 with 2 Axes>"
      ]
     },
     "metadata": {},
     "output_type": "display_data"
    }
   ],
   "source": [
    "import matplotlib.pyplot as plt\n",
    "\n",
    "plt.matshow(np.sign(fds.system())[:400, :400], vmin=-1, vmax=1, cmap=\"RdBu\")\n",
    "plt.colorbar()"
   ]
  },
  {
   "cell_type": "code",
   "execution_count": null,
   "id": "4392b8b7-dbef-4af1-9756-4e66f33daeef",
   "metadata": {},
   "outputs": [],
   "source": []
  }
 ],
 "metadata": {
  "kernelspec": {
   "display_name": "Python 3 (ipykernel)",
   "language": "python",
   "name": "python3"
  },
  "language_info": {
   "codemirror_mode": {
    "name": "ipython",
    "version": 3
   },
   "file_extension": ".py",
   "mimetype": "text/x-python",
   "name": "python",
   "nbconvert_exporter": "python",
   "pygments_lexer": "ipython3",
   "version": "3.9.7"
  }
 },
 "nbformat": 4,
 "nbformat_minor": 5
}
