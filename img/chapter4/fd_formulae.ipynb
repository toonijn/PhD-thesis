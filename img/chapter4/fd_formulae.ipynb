{
 "cells": [
  {
   "cell_type": "code",
   "execution_count": 1,
   "id": "69e5d918-b26e-455b-9988-8168569072b6",
   "metadata": {
    "execution": {
     "iopub.execute_input": "2022-10-24T15:08:38.567234Z",
     "iopub.status.busy": "2022-10-24T15:08:38.566547Z",
     "iopub.status.idle": "2022-10-24T15:08:39.389583Z",
     "shell.execute_reply": "2022-10-24T15:08:39.389012Z",
     "shell.execute_reply.started": "2022-10-24T15:08:38.567183Z"
    },
    "tags": []
   },
   "outputs": [
    {
     "data": {
      "text/latex": [
       "$\\displaystyle \\left[\\begin{array}{ccccccccccccc}- \\frac{1}{16632} & \\frac{2}{1925} & - \\frac{1}{112} & \\frac{10}{189} & - \\frac{15}{56} & \\frac{12}{7} & - \\frac{5369}{1800} & \\frac{12}{7} & - \\frac{15}{56} & \\frac{10}{189} & - \\frac{1}{112} & \\frac{2}{1925} & - \\frac{1}{16632}\\end{array}\\right]$"
      ],
      "text/plain": [
       "Matrix([[-1/16632, 2/1925, -1/112, 10/189, -15/56, 12/7, -5369/1800, 12/7, -15/56, 10/189, -1/112, 2/1925, -1/16632]])"
      ]
     },
     "execution_count": 1,
     "metadata": {},
     "output_type": "execute_result"
    }
   ],
   "source": [
    "import numpy as np\n",
    "import sympy as sy\n",
    "from sympy.matrices import Matrix, zeros\n",
    "\n",
    "def coeffs(points):\n",
    "    n = len(points)\n",
    "    \n",
    "    A = Matrix(n, n, lambda i, j: points[j]**i)\n",
    "    b = zeros(n, 1)\n",
    "    b[2, 0] = 2\n",
    "    return A.solve(b).T\n",
    "\n",
    "coeffs(range(-6,7))"
   ]
  },
  {
   "cell_type": "code",
   "execution_count": 2,
   "id": "bdce6754-533e-4ca3-8628-2058da2782c4",
   "metadata": {
    "execution": {
     "iopub.execute_input": "2022-10-24T15:08:42.818063Z",
     "iopub.status.busy": "2022-10-24T15:08:42.817461Z",
     "iopub.status.idle": "2022-10-24T15:08:42.920800Z",
     "shell.execute_reply": "2022-10-24T15:08:42.920254Z",
     "shell.execute_reply.started": "2022-10-24T15:08:42.818016Z"
    },
    "tags": []
   },
   "outputs": [],
   "source": [
    "N = 6\n",
    "\n",
    "with open(\"fd_formulae.tex\", 'w') as fd:\n",
    "    print(f\"\\\\begin{{tabular}}{{r|{'c'*(2*N + 1)}}}\", file=fd)\n",
    "    s = \"Order & $c_0$\"\n",
    "    for n in range(1, N+1):\n",
    "        s += f\" & $c_{{{-n}, {n}}}$\"\n",
    "    s += \"\\\\\\\\[2pt]\\\\hline\"\n",
    "    print(s, file=fd)\n",
    "    \n",
    "    for n in range(1, N+1):\n",
    "        s = f\"{2*n}\"\n",
    "        cs = coeffs(range(-n, n+1))\n",
    "        for c in cs[n:]:\n",
    "            s += f\" & ${sy.latex(c)}$\"\n",
    "        s += \" &\" * (N - n)\n",
    "        if n < N:\n",
    "            s += \"\\\\\\\\[4pt]\"\n",
    "        print(s, file=fd)\n",
    "    print(f\"\\\\end{{tabular}}\", file=fd)"
   ]
  },
  {
   "cell_type": "code",
   "execution_count": null,
   "id": "78f477f1-3a7e-4a32-b94a-40ecdaea1afe",
   "metadata": {},
   "outputs": [],
   "source": []
  }
 ],
 "metadata": {
  "kernelspec": {
   "display_name": "Python 3 (ipykernel)",
   "language": "python",
   "name": "python3"
  },
  "language_info": {
   "codemirror_mode": {
    "name": "ipython",
    "version": 3
   },
   "file_extension": ".py",
   "mimetype": "text/x-python",
   "name": "python",
   "nbconvert_exporter": "python",
   "pygments_lexer": "ipython3",
   "version": "3.9.7"
  }
 },
 "nbformat": 4,
 "nbformat_minor": 5
}
