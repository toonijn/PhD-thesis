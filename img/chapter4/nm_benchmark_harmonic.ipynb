{
 "cells": [
  {
   "cell_type": "code",
   "execution_count": 2,
   "id": "96ab6761-b4cd-4af2-be10-c2c74f004281",
   "metadata": {
    "execution": {
     "iopub.execute_input": "2023-01-16T07:59:35.763763Z",
     "iopub.status.busy": "2023-01-16T07:59:35.763507Z",
     "iopub.status.idle": "2023-01-16T07:59:43.359997Z",
     "shell.execute_reply": "2023-01-16T07:59:43.359411Z",
     "shell.execute_reply.started": "2023-01-16T07:59:35.763741Z"
    },
    "tags": []
   },
   "outputs": [
    {
     "data": {
      "text/plain": [
       "[2.0000000000000075,\n",
       " 4.000000000000001,\n",
       " 4.0000000000000195,\n",
       " 5.999999999999976,\n",
       " 5.999999999999976,\n",
       " 6.0000000000000275,\n",
       " 7.999999999999972,\n",
       " 7.999999999999972,\n",
       " 7.999999999999979,\n",
       " 8.000000000000073,\n",
       " 9.999999999999952,\n",
       " 9.999999999999993,\n",
       " 10.00000000000001,\n",
       " 10.000000000000014,\n",
       " 10.000000000000053,\n",
       " 11.999999999999861,\n",
       " 11.999999999999995,\n",
       " 11.999999999999995,\n",
       " 12.000000000000025,\n",
       " 12.000000000000151,\n",
       " 13.999999999999892]"
      ]
     },
     "execution_count": 2,
     "metadata": {},
     "output_type": "execute_result"
    }
   ],
   "source": [
    "from schrodinger import Schrodinger2D, Rectangle\n",
    "\n",
    "s = Schrodinger2D(lambda x, y: x**2 + y**2, Rectangle(-9.5,9.5, -9.5,9.5),\n",
    "                  gridSize=(64,64), maxBasisSize=32, sparse=True)\n",
    "s.eigenvalues(21)"
   ]
  },
  {
   "cell_type": "code",
   "execution_count": 4,
   "id": "4c621bce-f36c-4451-b4bd-cef241ca3279",
   "metadata": {
    "execution": {
     "iopub.execute_input": "2023-01-16T07:49:40.130187Z",
     "iopub.status.busy": "2023-01-16T07:49:40.129298Z",
     "iopub.status.idle": "2023-01-16T07:49:40.195937Z",
     "shell.execute_reply": "2023-01-16T07:49:40.195530Z",
     "shell.execute_reply.started": "2023-01-16T07:49:40.130107Z"
    }
   },
   "outputs": [
    {
     "data": {
      "text/plain": [
       "[1.999998922660854,\n",
       " 4.0000236152640865,\n",
       " 4.000023615264108,\n",
       " 5.9997813728226035,\n",
       " 5.999781375136523,\n",
       " 6.000048309300554,\n",
       " 7.999806031607065,\n",
       " 7.999806031607065,\n",
       " 8.003147793568461,\n",
       " 8.003147793568461]"
      ]
     },
     "execution_count": 4,
     "metadata": {},
     "output_type": "execute_result"
    }
   ],
   "source": []
  },
  {
   "cell_type": "code",
   "execution_count": null,
   "id": "414a4bb5-9782-4cbc-983f-7bbb688b2c1a",
   "metadata": {},
   "outputs": [],
   "source": []
  }
 ],
 "metadata": {
  "kernelspec": {
   "display_name": "Python 3 (ipykernel)",
   "language": "python",
   "name": "python3"
  },
  "language_info": {
   "codemirror_mode": {
    "name": "ipython",
    "version": 3
   },
   "file_extension": ".py",
   "mimetype": "text/x-python",
   "name": "python",
   "nbconvert_exporter": "python",
   "pygments_lexer": "ipython3",
   "version": "3.9.7"
  }
 },
 "nbformat": 4,
 "nbformat_minor": 5
}
