{
 "cells": [
  {
   "cell_type": "code",
   "execution_count": 1,
   "id": "96ab6761-b4cd-4af2-be10-c2c74f004281",
   "metadata": {
    "execution": {
     "iopub.execute_input": "2023-01-16T15:03:18.974127Z",
     "iopub.status.busy": "2023-01-16T15:03:18.973617Z",
     "iopub.status.idle": "2023-01-16T15:03:22.037164Z",
     "shell.execute_reply": "2023-01-16T15:03:22.036573Z",
     "shell.execute_reply.started": "2023-01-16T15:03:18.974072Z"
    },
    "tags": []
   },
   "outputs": [
    {
     "data": {
      "text/plain": [
       "[1.9999999999991505,\n",
       " 3.9999999999980025,\n",
       " 3.9999999999994156,\n",
       " 5.999999999999411,\n",
       " 5.999999999999657,\n",
       " 5.9999999999999085,\n",
       " 7.99999999999922,\n",
       " 7.9999999999995435,\n",
       " 7.999999999999741,\n",
       " 8.00000000000026,\n",
       " 9.999999999998632,\n",
       " 9.999999999998863,\n",
       " 9.999999999999751,\n",
       " 9.999999999999892,\n",
       " 10.000000000000176,\n",
       " 11.999999999998584,\n",
       " 11.999999999999137,\n",
       " 11.999999999999817,\n",
       " 11.99999999999982,\n",
       " 11.99999999999991,\n",
       " 13.99999999999802]"
      ]
     },
     "execution_count": 1,
     "metadata": {},
     "output_type": "execute_result"
    }
   ],
   "source": [
    "from schrodinger import Schrodinger2D, Rectangle\n",
    "import numpy as np\n",
    "\n",
    "s = Schrodinger2D(lambda x, y: x**2 + y**2, Rectangle(-9.5,9.5, -9.5,9.5),\n",
    "                  gridSize=(75,75), maxBasisSize=60, sparse=True, shiftInvert=False, ncvFactor=3)\n",
    "\n",
    "\n",
    "s.eigenvalues(21)[:21]"
   ]
  },
  {
   "cell_type": "code",
   "execution_count": 2,
   "id": "4c621bce-f36c-4451-b4bd-cef241ca3279",
   "metadata": {
    "execution": {
     "iopub.execute_input": "2023-01-16T15:03:25.191812Z",
     "iopub.status.busy": "2023-01-16T15:03:25.191607Z",
     "iopub.status.idle": "2023-01-16T15:03:25.270422Z",
     "shell.execute_reply": "2023-01-16T15:03:25.269869Z",
     "shell.execute_reply.started": "2023-01-16T15:03:25.191796Z"
    },
    "tags": []
   },
   "outputs": [],
   "source": [
    "from p_tqdm import p_map\n",
    "\n",
    "    \n",
    "def test_problem(settings):\n",
    "    exact = settings[\"exact\"]\n",
    "        \n",
    "    def single_solve(params):\n",
    "        print(settings, params)\n",
    "        n, m = params\n",
    "        fds = Schrodinger2D(settings['V'], Rectangle(*settings['domain']), gridSize=(n,n), maxBasisSize=m, sparse=True, shiftInvert=False, ncvFactor=3)\n",
    "        return params, np.abs((fds.eigenvalues(len(exact)) - exact)/exact)\n",
    "\n",
    "    parameters = settings[\"parameters\"]\n",
    "    results = dict(map(single_solve, parameters))\n",
    "    \n",
    "    results_by_n = {}\n",
    "    results_by_m = {}\n",
    "    for (n,m), r in results.items():\n",
    "        if n not in results_by_n:\n",
    "            results_by_n[n] = {}\n",
    "        if m not in results_by_m:\n",
    "            results_by_m[m] = {}\n",
    "\n",
    "        results_by_n[n][m] = r\n",
    "        results_by_m[m][n] = r\n",
    "    \n",
    "    return results_by_n, results_by_m"
   ]
  },
  {
   "cell_type": "code",
   "execution_count": null,
   "id": "414a4bb5-9782-4cbc-983f-7bbb688b2c1a",
   "metadata": {
    "tags": []
   },
   "outputs": [],
   "source": [
    "settings = {\n",
    "    \"exact\": np.array([2*i for i in range(1, 30) for k in range(i)][:100]),\n",
    "    \"multiplicities\": [i for i in range(1, 30)],\n",
    "    \"V\": lambda x, y:  x*x + y*y,\n",
    "    \"domain\": (-9.5, 9.5, 9.5, 9.5),\n",
    "    \"parameters\": [\n",
    "        (n, m) for n in [20, 30, 40, 50, 60, 70, 80, 90, 100] for m in [32, 48, 64, 80]\n",
    "    ]\n",
    "}\n",
    "\n",
    "results_by_n, results_by_m = test_problem(settings)"
   ]
  },
  {
   "cell_type": "code",
   "execution_count": null,
   "id": "5131c524-9a05-41d5-8538-9a016f589a65",
   "metadata": {},
   "outputs": [],
   "source": [
    "import matplotlib.pyplot as plt\n",
    "from matplotlib.ticker import FixedLocator, FormatStrFormatter, ScalarFormatter\n",
    "\n",
    "\n",
    "fig, axes = plt.subplots(3, 1, figsize=(8, 10), dpi=200)\n",
    "    \n",
    "for ni, n in enumerate([40, 60, 100]):\n",
    "    rm = results_by_n[n]\n",
    "    N = len(next(iter(rm.values())))\n",
    "\n",
    "    ax = axes[ni]\n",
    "    ax.set_xscale('log', base=10)\n",
    "    ax.set_yscale('log', base=2)\n",
    "    ax.xaxis.set_major_locator(FixedLocator([1, 2, 5, 10, 20, 50, 100]))\n",
    "    ax.xaxis.set_major_formatter(ScalarFormatter())\n",
    "    ax.xaxis.set_minor_locator(FixedLocator(range(1, N)))\n",
    "    ax.xaxis.set_minor_formatter(FormatStrFormatter(\"\"))\n",
    "    ax.set_ylim(2**-51, 2**-7)\n",
    "    ax.set_ylabel(\"error\")\n",
    "    if ni == 2:\n",
    "        ax.set_xlabel(\"eigenvalue\")\n",
    "\n",
    "    mults = settings[\"multiplicities\"]\n",
    "\n",
    "    for i, (m, r) in enumerate(sorted(rm.items())):\n",
    "        j = 0\n",
    "\n",
    "        kwargs = dict(\n",
    "            label=f\"$N_x=N_y={m}$\",\n",
    "            color=ugent.palet[i],\n",
    "            marker='.', ls='-', lw=1, markersize=4,\n",
    "        )\n",
    "        for mult in mults:\n",
    "            d = r[j:j+mult]\n",
    "            ax.plot(range(j + 1, j+len(d)+1), d, **kwargs)\n",
    "            if j == 0:\n",
    "                del kwargs[\"label\"]\n",
    "            j += mult\n",
    "            if j >= len(r):\n",
    "                break\n",
    "\n",
    "    ax.set_title(f\"$h = \\\\eta = {19/n:.2f}$\", y=0.835, x=0.025, loc=\"left\")\n",
    "    if ni == 0:\n",
    "        ax.legend()\n",
    "fig.show()\n",
    "plt.savefig(f\"nm_test_harmonic.pdf\", bbox_inches=\"tight\")"
   ]
  }
 ],
 "metadata": {
  "kernelspec": {
   "display_name": "Python 3 (ipykernel)",
   "language": "python",
   "name": "python3"
  },
  "language_info": {
   "codemirror_mode": {
    "name": "ipython",
    "version": 3
   },
   "file_extension": ".py",
   "mimetype": "text/x-python",
   "name": "python",
   "nbconvert_exporter": "python",
   "pygments_lexer": "ipython3",
   "version": "3.9.7"
  }
 },
 "nbformat": 4,
 "nbformat_minor": 5
}
