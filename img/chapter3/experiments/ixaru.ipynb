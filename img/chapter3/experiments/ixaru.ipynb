{
 "cells": [
  {
   "cell_type": "code",
   "execution_count": 1,
   "metadata": {
    "execution": {
     "iopub.execute_input": "2023-03-28T16:39:38.436625Z",
     "iopub.status.busy": "2023-03-28T16:39:38.435516Z",
     "iopub.status.idle": "2023-03-28T16:39:38.602919Z",
     "shell.execute_reply": "2023-03-28T16:39:38.602386Z",
     "shell.execute_reply.started": "2023-03-28T16:39:38.436369Z"
    },
    "tags": []
   },
   "outputs": [],
   "source": [
    "import sys\n",
    "sys.path.append('../..')\n",
    "import ugent"
   ]
  },
  {
   "cell_type": "code",
   "execution_count": 2,
   "metadata": {
    "execution": {
     "iopub.execute_input": "2023-03-28T16:39:38.748378Z",
     "iopub.status.busy": "2023-03-28T16:39:38.745990Z",
     "iopub.status.idle": "2023-03-28T16:40:30.021517Z",
     "shell.execute_reply": "2023-03-28T16:40:30.020846Z",
     "shell.execute_reply.started": "2023-03-28T16:39:38.748269Z"
    },
    "tags": []
   },
   "outputs": [
    {
     "data": {
      "text/plain": [
       "array([ 3.19591809,  5.52674387,  5.52674387,  7.55780333,  8.03127234,\n",
       "        8.44458136,  9.92806106,  9.92806106, 11.31181705, 11.31181705,\n",
       "       12.10325358, 12.20117897, 13.33233127, 14.34826853, 14.34826853,\n",
       "       14.45047872, 14.58055632, 16.15141922, 16.15141922, 16.51719246,\n",
       "       16.56487193, 17.89457828, 17.89457828, 18.58339173, 18.75620427,\n",
       "       18.75620427, 18.97619443, 19.59447512, 20.73576816, 20.92016436,\n",
       "       21.29311189])"
      ]
     },
     "execution_count": 2,
     "metadata": {},
     "output_type": "execute_result"
    }
   ],
   "source": [
    "from strands import Schrodinger2D, Rectangle\n",
    "import numpy as np\n",
    "\n",
    "def V(x, y):\n",
    "    return (x*x+1)*(y*y+1)\n",
    "\n",
    "s = Schrodinger2D(V, Rectangle(-5.5,5.5,-5.5,5.5), gridSize=(92,92), maxBasisSize=60)\n",
    "seigs = np.array(s.eigenvalues(31))\n",
    "seigs"
   ]
  },
  {
   "cell_type": "code",
   "execution_count": 3,
   "metadata": {
    "execution": {
     "iopub.execute_input": "2023-03-28T16:40:30.022591Z",
     "iopub.status.busy": "2023-03-28T16:40:30.022437Z",
     "iopub.status.idle": "2023-03-28T16:40:30.030553Z",
     "shell.execute_reply": "2023-03-28T16:40:30.029866Z",
     "shell.execute_reply.started": "2023-03-28T16:40:30.022577Z"
    },
    "tags": []
   },
   "outputs": [],
   "source": [
    "from pyslise2d import Pyslise2D\n",
    "\n",
    "def V(x, y):\n",
    "    return (1+x*x)*(1+y*y)\n",
    "\n",
    "def check(opt):\n",
    "    N, tol = opt\n",
    "    mx = 5.5\n",
    "    my = 5.5\n",
    "    p = Pyslise2D(V, -mx,mx, -my,my, tolerance=tol, N=N, steps_per_sector=3)\n",
    "    eigs = []\n",
    "    for i, E, m in p.eigenvaluesByIndex(0, 34):\n",
    "        for _ in range(m):\n",
    "            eigs.append(E)\n",
    "    return np.array(eigs[:30])"
   ]
  },
  {
   "cell_type": "code",
   "execution_count": 8,
   "metadata": {
    "execution": {
     "iopub.execute_input": "2023-03-28T16:47:44.320446Z",
     "iopub.status.busy": "2023-03-28T16:47:44.319916Z",
     "iopub.status.idle": "2023-03-28T16:49:16.917297Z",
     "shell.execute_reply": "2023-03-28T16:49:16.916673Z",
     "shell.execute_reply.started": "2023-03-28T16:47:44.320398Z"
    },
    "scrolled": true,
    "tags": []
   },
   "outputs": [
    {
     "data": {
      "application/vnd.jupyter.widget-view+json": {
       "model_id": "36a6f00e50764fa9a1c83f56eb52719c",
       "version_major": 2,
       "version_minor": 0
      },
      "text/plain": [
       "QUEUEING TASKS | :   0%|          | 0/45 [00:00<?, ?it/s]"
      ]
     },
     "metadata": {},
     "output_type": "display_data"
    },
    {
     "data": {
      "application/vnd.jupyter.widget-view+json": {
       "model_id": "86bc7fe0d6a043deafde25a1e2bf43eb",
       "version_major": 2,
       "version_minor": 0
      },
      "text/plain": [
       "PROCESSING TASKS | :   0%|          | 0/45 [00:00<?, ?it/s]"
      ]
     },
     "metadata": {},
     "output_type": "display_data"
    },
    {
     "name": "stderr",
     "output_type": "stream",
     "text": [
      "MatsliseND: Error in index estimate\n",
      "MatsliseND: Error in index estimate\n",
      "MatsliseND: Error in index estimate\n",
      "MatsliseND: Error in index estimate\n",
      "MatsliseND: Error in index estimate\n",
      "MatsliseND: Error in index estimate\n",
      "MatsliseND: Error in index estimate\n",
      "MatsliseND: Error in index estimate\n",
      "MatsliseND: Error in index estimate\n",
      "MatsliseND: Error in index estimate\n",
      "MatsliseND: Error in index estimate\n",
      "MatsliseND: Error in index estimate\n",
      "MatsliseND: Error in index estimate\n",
      "MatsliseND: max search depth reached\n",
      "MatsliseND: max search depth reached\n",
      "MatsliseND: max search depth reached\n",
      "MatsliseND: max search depth reached\n",
      "MatsliseND: max search depth reached\n",
      "MatsliseND: max search depth reached\n",
      "MatsliseND: max search depth reached\n",
      "MatsliseND: max search depth reached\n",
      "MatsliseND: max search depth reached\n",
      "MatsliseND: Error in index estimate\n",
      "MatsliseND: max search depth reached\n",
      "MatsliseND: max search depth reached\n",
      "MatsliseND: max search depth reached\n",
      "MatsliseND: max search depth reached\n",
      "MatsliseND: max search depth reached\n",
      "MatsliseND: max search depth reached\n",
      "MatsliseND: max search depth reached\n",
      "MatsliseND: max search depth reached\n",
      "MatsliseND: max search depth reached\n",
      "MatsliseND: max search depth reached\n",
      "MatsliseND: max search depth reached\n",
      "MatsliseND: Error in index estimate\n",
      "MatsliseND: max search depth reached\n",
      "MatsliseND: max search depth reached\n",
      "MatsliseND: max search depth reached\n",
      "MatsliseND: max search depth reached\n",
      "MatsliseND: max search depth reached\n",
      "MatsliseND: max search depth reached\n",
      "MatsliseND: max search depth reached\n",
      "MatsliseND: max search depth reached\n",
      "MatsliseND: max search depth reached\n",
      "MatsliseND: max search depth reached\n",
      "MatsliseND: max search depth reached\n",
      "MatsliseND: max search depth reached\n",
      "MatsliseND: max search depth reached\n",
      "MatsliseND: max search depth reached\n",
      "MatsliseND: max search depth reached\n",
      "MatsliseND: max search depth reached\n",
      "MatsliseND: max search depth reached\n",
      "MatsliseND: max search depth reached\n",
      "MatsliseND: max search depth reached\n",
      "MatsliseND: max search depth reached\n",
      "MatsliseND: max search depth reached\n",
      "MatsliseND: max search depth reached\n",
      "MatsliseND: max search depth reached\n",
      "MatsliseND: max search depth reached\n",
      "MatsliseND: max search depth reached\n",
      "MatsliseND: max search depth reached\n",
      "MatsliseND: Error in index estimate\n",
      "MatsliseND: max search depth reached\n",
      "MatsliseND: max search depth reached\n",
      "MatsliseND: max search depth reached\n",
      "MatsliseND: max search depth reached\n",
      "MatsliseND: Error in index estimate\n",
      "MatsliseND: max search depth reached\n",
      "MatsliseND: max search depth reached\n",
      "MatsliseND: max search depth reached\n",
      "MatsliseND: max search depth reached\n",
      "MatsliseND: max search depth reached\n",
      "MatsliseND: Error in index estimate\n",
      "MatsliseND: max search depth reached\n",
      "MatsliseND: max search depth reached\n",
      "MatsliseND: max search depth reached\n",
      "MatsliseND: max search depth reached\n",
      "MatsliseND: max search depth reached\n",
      "MatsliseND: max search depth reached\n",
      "MatsliseND: max search depth reached\n",
      "MatsliseND: max search depth reached\n",
      "MatsliseND: max search depth reached\n",
      "MatsliseND: max search depth reached\n",
      "MatsliseND: max search depth reached\n",
      "MatsliseND: Error in index estimate\n",
      "MatsliseND: Error in index estimate\n",
      "MatsliseND: Error in index estimate\n",
      "MatsliseND: max search depth reached\n",
      "MatsliseND: max search depth reached\n",
      "MatsliseND: Error in index estimate\n",
      "MatsliseND: Error in index estimate\n",
      "MatsliseND: max search depth reached\n",
      "MatsliseND: max search depth reached\n",
      "MatsliseND: max search depth reached\n",
      "MatsliseND: max search depth reached\n",
      "MatsliseND: max search depth reached\n",
      "MatsliseND: max search depth reached\n",
      "MatsliseND: max search depth reached\n",
      "MatsliseND: max search depth reached\n",
      "MatsliseND: max search depth reached\n",
      "MatsliseND: max search depth reached\n",
      "MatsliseND: max search depth reached\n",
      "MatsliseND: max search depth reached\n",
      "MatsliseND: max search depth reached\n",
      "MatsliseND: max search depth reached\n",
      "MatsliseND: max search depth reached\n",
      "MatsliseND: max search depth reached\n",
      "MatsliseND: max search depth reached\n",
      "MatsliseND: max search depth reached\n",
      "MatsliseND: max search depth reached\n",
      "MatsliseND: max search depth reached\n",
      "MatsliseND: max search depth reached\n",
      "MatsliseND: max search depth reached\n",
      "MatsliseND: Error in index estimate\n",
      "MatsliseND: Error in index estimate\n",
      "MatsliseND: Error in index estimate\n",
      "MatsliseND: Error in index estimate\n",
      "MatsliseND: max search depth reached\n",
      "MatsliseND: Error in index estimate\n",
      "MatsliseND: max search depth reached\n",
      "MatsliseND: max search depth reached\n",
      "MatsliseND: max search depth reached\n",
      "MatsliseND: max search depth reached\n",
      "MatsliseND: max search depth reached\n",
      "MatsliseND: max search depth reached\n",
      "MatsliseND: max search depth reached\n",
      "MatsliseND: max search depth reached\n",
      "MatsliseND: max search depth reached\n",
      "MatsliseND: max search depth reached\n",
      "MatsliseND: max search depth reached\n",
      "MatsliseND: max search depth reached\n",
      "MatsliseND: max search depth reached\n",
      "MatsliseND: max search depth reached\n",
      "MatsliseND: max search depth reached\n",
      "MatsliseND: max search depth reached\n",
      "MatsliseND: max search depth reached\n",
      "MatsliseND: max search depth reached\n",
      "MatsliseND: max search depth reached\n",
      "MatsliseND: max search depth reached\n"
     ]
    },
    {
     "data": {
      "application/vnd.jupyter.widget-view+json": {
       "model_id": "e53b2f49fda34b6ea051316bdc5213b3",
       "version_major": 2,
       "version_minor": 0
      },
      "text/plain": [
       "COLLECTING RESULTS | :   0%|          | 0/45 [00:00<?, ?it/s]"
      ]
     },
     "metadata": {},
     "output_type": "display_data"
    }
   ],
   "source": [
    "from pqdm.processes import pqdm\n",
    "from itertools import product\n",
    "\n",
    "\n",
    "options = list(product([6, 8, 10, 12, 14, 16, 18, 20, 22], [1e-4, 1e-5, 1e-6, 1e-7, 1e-8]))\n",
    "results = dict(zip(options, pqdm(options, check, n_jobs=12)))"
   ]
  },
  {
   "cell_type": "code",
   "execution_count": 7,
   "metadata": {
    "execution": {
     "iopub.execute_input": "2023-03-28T16:47:25.369889Z",
     "iopub.status.busy": "2023-03-28T16:47:25.368938Z",
     "iopub.status.idle": "2023-03-28T16:47:28.442051Z",
     "shell.execute_reply": "2023-03-28T16:47:28.441171Z",
     "shell.execute_reply.started": "2023-03-28T16:47:25.369809Z"
    },
    "tags": []
   },
   "outputs": [
    {
     "ename": "KeyError",
     "evalue": "(8, 1e-05)",
     "output_type": "error",
     "traceback": [
      "\u001b[0;31m---------------------------------------------------------------------------\u001b[0m",
      "\u001b[0;31mKeyError\u001b[0m                                  Traceback (most recent call last)",
      "Cell \u001b[0;32mIn [7], line 26\u001b[0m\n\u001b[1;32m     23\u001b[0m \u001b[38;5;28;01mfor\u001b[39;00m i, tol \u001b[38;5;129;01min\u001b[39;00m \u001b[38;5;28menumerate\u001b[39m(tols):\n\u001b[1;32m     24\u001b[0m     j \u001b[38;5;241m=\u001b[39m \u001b[38;5;241m0\u001b[39m\n\u001b[0;32m---> 26\u001b[0m     raw \u001b[38;5;241m=\u001b[39m results[N, tol]\n\u001b[1;32m     27\u001b[0m     k \u001b[38;5;241m=\u001b[39m \u001b[38;5;28mlen\u001b[39m(raw)\n\u001b[1;32m     28\u001b[0m     r \u001b[38;5;241m=\u001b[39m np\u001b[38;5;241m.\u001b[39mabs((raw \u001b[38;5;241m-\u001b[39m seigs[:k])\u001b[38;5;241m/\u001b[39mseigs[:k])\n",
      "\u001b[0;31mKeyError\u001b[0m: (8, 1e-05)"
     ]
    },
    {
     "data": {
      "image/png": "[encoded data removed]",
      "text/plain": [
       "<Figure size 1600x2000 with 3 Axes>"
      ]
     },
     "metadata": {},
     "output_type": "display_data"
    }
   ],
   "source": [
    "import matplotlib.pyplot as plt\n",
    "\n",
    "\n",
    "fig, axes = plt.subplots(3, 1, figsize=(8, 10), dpi=200)\n",
    "\n",
    "Ns = [8, 14, 22]\n",
    "tols = [1e-4, 1e-5, 1e-6]\n",
    "\n",
    "mults = [1,2,1,1,1,2,2,1,1,1,2,1,1,2,1]\n",
    "\n",
    "for ni, N in enumerate(Ns):\n",
    "    ax = axes[ni]\n",
    "    ax.set_xscale('log', base=10)\n",
    "    ax.set_yscale('log', base=10)\n",
    "    xticks = [1, 2, 6, 11, 21, 31]\n",
    "    ax.set_xticks(xticks, labels=[f\"${x-1}$\" for x in xticks])\n",
    "    ax.set_xticks(range(31), minor=True, labels=[])\n",
    "    ax.set_ylim(2**-51, 2**2)\n",
    "    ax.set_ylabel(\"relative error\")\n",
    "    if ni == 2:\n",
    "        ax.set_xlabel(\"eigenvalue\")\n",
    "\n",
    "    for i, tol in enumerate(tols):\n",
    "        j = 0\n",
    "        \n",
    "        raw = results[N, tol]\n",
    "        k = len(raw)\n",
    "        r = np.abs((raw - seigs[:k])/seigs[:k])\n",
    "\n",
    "        kwargs = dict(\n",
    "            label=f\"$tol={tol}$\",\n",
    "            color=ugent.palet[i],\n",
    "            marker='.', ls='-', lw=1, markersize=4,\n",
    "        )\n",
    "        for mult in mults:\n",
    "            d = r[j:j+mult]\n",
    "            ax.plot(range(j + 1, j+len(d)+1), d, **kwargs)\n",
    "            if j == 0:\n",
    "                del kwargs[\"label\"]\n",
    "            j += mult\n",
    "            if j >= len(r):\n",
    "                break\n",
    "\n",
    "    ax.set_title(f\"$N = {N}$\", y=0.835, x=0.025, loc=\"left\")\n",
    "\n",
    "\n",
    "axes[0].legend(*axes[2].get_legend_handles_labels(), loc=\"lower right\")\n",
    "    \n",
    "fig.show()\n",
    "plt.savefig(f\"ixaru.pdf\", bbox_inches=\"tight\")"
   ]
  },
  {
   "cell_type": "code",
   "execution_count": 72,
   "metadata": {
    "execution": {
     "iopub.execute_input": "2023-03-28T15:31:02.578054Z",
     "iopub.status.busy": "2023-03-28T15:31:02.577715Z",
     "iopub.status.idle": "2023-03-28T15:31:02.583168Z",
     "shell.execute_reply": "2023-03-28T15:31:02.582375Z",
     "shell.execute_reply.started": "2023-03-28T15:31:02.578030Z"
    },
    "tags": []
   },
   "outputs": [
    {
     "data": {
      "text/plain": [
       "20"
      ]
     },
     "execution_count": 72,
     "metadata": {},
     "output_type": "execute_result"
    }
   ],
   "source": [
    "len(results[6,1e-4])"
   ]
  },
  {
   "cell_type": "code",
   "execution_count": null,
   "metadata": {
    "ExecuteTime": {
     "end_time": "2020-05-12T11:46:13.265594Z",
     "start_time": "2020-05-12T11:46:11.016996Z"
    },
    "execution": {
     "iopub.status.busy": "2023-03-28T13:31:17.565542Z",
     "iopub.status.idle": "2023-03-28T13:31:17.565790Z",
     "shell.execute_reply": "2023-03-28T13:31:17.565677Z",
     "shell.execute_reply.started": "2023-03-28T13:31:17.565665Z"
    },
    "tags": []
   },
   "outputs": [],
   "source": [
    "from pyslise2d import Pyslise2D\n",
    "from math import log, sqrt\n",
    "\n",
    "class EvalCounter:\n",
    "    def __init__(self, f):\n",
    "        self.count = 0\n",
    "        self.f = f\n",
    "    \n",
    "    def __call__(self, *args, **kwargs):\n",
    "        self.count += 1\n",
    "        return self.f(*args, **kwargs)\n",
    "\n",
    "@EvalCounter\n",
    "def Vcounter(x, y):\n",
    "    return (1+x*x)*(1+y*y)\n",
    "\n",
    "V = Vcounter.f\n",
    "\n",
    "mx = 5.5\n",
    "my = 5.5\n",
    "N = 19\n",
    "p = Pyslise2D(Vcounter, -mx,mx, -my,my, tolerance=1e-7, N=N)\n",
    "Vcounter.count"
   ]
  },
  {
   "cell_type": "code",
   "execution_count": 4,
   "metadata": {
    "execution": {
     "iopub.execute_input": "2023-03-28T13:11:43.129249Z",
     "iopub.status.busy": "2023-03-28T13:11:43.129046Z",
     "iopub.status.idle": "2023-03-28T13:11:45.262447Z",
     "shell.execute_reply": "2023-03-28T13:11:45.261891Z",
     "shell.execute_reply.started": "2023-03-28T13:11:43.129233Z"
    },
    "tags": []
   },
   "outputs": [
    {
     "data": {
      "text/plain": [
       "[(0, 3.195918111211807, 1),\n",
       " (1, 5.526744074936144, 2),\n",
       " (3, 7.557803572849634, 1),\n",
       " (4, 8.031272363607144, 1),\n",
       " (5, 8.44458175674524, 1),\n",
       " (6, 9.92806115722765, 2),\n",
       " (8, 11.311817613784662, 2),\n",
       " (10, 12.103253444544334, 1),\n",
       " (11, 12.201179825464704, 1),\n",
       " (12, 13.332332973722595, 1)]"
      ]
     },
     "execution_count": 4,
     "metadata": {},
     "output_type": "execute_result"
    }
   ],
   "source": [
    "from pyslise2d import Pyslise2D\n",
    "\n",
    "def V(x, y):\n",
    "    return (1+x*x)*(1+y*y)\n",
    "\n",
    "#var('x, y')\n",
    "#V = fast_callable((1+x**2)*(1+y**2), vars=[x, y], domain=float)\n",
    "\n",
    "problem = Pyslise2D(V, -5.5,5.5, -5.5,5.5, tolerance=1e-8)\n",
    "result = problem.eigenvaluesByIndex(0, 12)\n",
    "result "
   ]
  },
  {
   "cell_type": "code",
   "execution_count": 15,
   "metadata": {
    "execution": {
     "iopub.execute_input": "2021-01-21T15:36:08.547054Z",
     "iopub.status.busy": "2021-01-21T15:36:08.546424Z",
     "iopub.status.idle": "2021-01-21T15:36:08.553985Z",
     "shell.execute_reply": "2021-01-21T15:36:08.553684Z",
     "shell.execute_reply.started": "2021-01-21T15:36:08.546948Z"
    }
   },
   "outputs": [
    {
     "name": "stdout",
     "output_type": "stream",
     "text": [
      "$E_{0}$ & $3.1959181$ & $3.1959181112$ & $1.1(-8)$ \\\\\n",
      "$E_{1} = E_{2}$ & $5.5267439$ & $5.5267440748$ & $1.7(-7)$ \\\\\n",
      "$E_{3}$ & $7.5578033$ & $7.5578035728$ & $2.7(-7)$ \\\\\n",
      "$E_{4}$ & $8.0312723$ & $8.0312723637$ & $6.4(-8)$ \\\\\n",
      "$E_{5}$ & $8.4445814$ & $8.4445817565$ & $3.6(-7)$ \\\\\n",
      "$E_{6} = E_{7}$ & $9.9280611$ & $9.9280611619$ & $6.2(-8)$ \\\\\n",
      "$E_{8} = E_{9}$ & $11.3118171$ & $11.311817614$ & $5.1(-7)$ \\\\\n",
      "$E_{10}$ & $12.1032536$ & $12.103253445$ & $1.6(-7)$ \\\\\n",
      "$E_{11}$ & $12.201179$ & $12.201179825$ & $8.3(-7)$ \\\\\n",
      "$E_{12}$ & $13.3323313$ & $13.332332972$ & $1.7(-6)$ \\\\\n"
     ]
    }
   ],
   "source": [
    "values = [\n",
    "    3.1959181, 5.5267439, 7.5578033, 8.0312723,\n",
    "    8.4445814, 9.9280611, 11.3118171, 12.1032536,\n",
    "    12.2011790, 13.3323313]\n",
    "\n",
    "for ixaru, (index, toon, mult) in zip(values, result):\n",
    "    err, err_e = f\"{abs(toon-ixaru):.1e}\".split(\"e\")\n",
    "    head = \" = \".join(f\"E_{{{i}}}\" for i in range(index, index+mult))\n",
    "    print(f\"${head}$ & ${ixaru}$ & ${toon:.11}$ & ${err}({int(err_e)})$ \\\\\\\\\")"
   ]
  },
  {
   "cell_type": "code",
   "execution_count": 4,
   "metadata": {
    "ExecuteTime": {
     "end_time": "2020-05-12T11:51:32.772559Z",
     "start_time": "2020-05-12T11:51:32.666125Z"
    },
    "execution": {
     "iopub.execute_input": "2021-01-26T08:48:55.594637Z",
     "iopub.status.busy": "2021-01-26T08:48:55.594303Z",
     "iopub.status.idle": "2021-01-26T08:49:04.169131Z",
     "shell.execute_reply": "2021-01-26T08:49:04.168595Z",
     "shell.execute_reply.started": "2021-01-26T08:48:55.594507Z"
    }
   },
   "outputs": [
    {
     "name": "stdout",
     "output_type": "stream",
     "text": [
      "137\n",
      "11\n",
      "15\n",
      "19\n",
      "23\n",
      "27\n",
      "31\n",
      "  -1.0e-05     0.00       2.9e-05     0.00      -1.1e-05     0.00      -9.5e-05     0.00      -1.9e-05     0.00       1.4e-04     0.00      -3.1e-05     0.00      -1.8e-04     0.00\n",
      "  -5.2e-07     9.63       8.8e-07    11.27      -2.9e-07    11.82      -4.6e-06     9.76      -2.5e-06     6.56       6.4e-06     9.87      -4.2e-06     6.39      -8.8e-06     9.74\n",
      "   2.0e-08    13.72       2.4e-07     5.50       1.6e-06    -7.27      -3.1e-07    11.37       4.3e-07     7.36       1.3e-07    16.35       3.8e-07    10.20      -4.1e-06     3.26\n",
      "   1.9e-08     0.24       1.0e-07     4.59       7.2e-07     4.22       2.9e-07     0.38       4.5e-07    -0.20       5.2e-07    -7.09      -3.3e-08    12.82       4.5e-06    -0.55\n",
      "   2.5e-08    -1.59       6.2e-08     2.99       4.8e-07     2.57       1.0e-07     6.63       4.5e-08    14.31       1.5e-07     7.85       3.6e-07   -14.97       6.5e-08    26.47\n",
      "   4.8e-09    12.00       1.6e-09    26.28       2.5e-07     4.84       5.3e-08     4.58       3.7e-07   -15.27       1.4e-07     0.18      -1.1e-07     8.64       3.1e-06   -27.92\n"
     ]
    }
   ],
   "source": [
    "y_counts = [11,15,19,23,27,31]\n",
    "\n",
    "\n",
    "p = Pyslise2D(V, -mx,mx, -my,my, tolerance=1e-10, N=N, x_symmetric=True, steps_per_sector=1)\n",
    "print(len(p.__sectors))\n",
    "Es = [E for i, E, m in p.eigenvaluesByIndex(0,10)]\n",
    "exact = Es\n",
    "\n",
    "data = []\n",
    "\n",
    "for i, y_count in enumerate(y_counts):\n",
    "    p = Pyslise2D(V, -mx,mx, -my,my, tolerance=1e-10, N=N, x_symmetric=True, steps_per_sector=1, y_count=y_count)\n",
    "    print(len(p.__sectors))\n",
    "    row = []\n",
    "    for E, correct in zip(Es, exact):\n",
    "        j = len(row)\n",
    "        row.append(p.eigenvalue(E)[0] - correct)\n",
    "        if i > 0:\n",
    "            row.append(log(abs(data[i-1][j]/row[j]))/log(y_count/y_counts[i-1]))\n",
    "        else:\n",
    "            row.append(0)\n",
    "    data.append(row)\n",
    "\n",
    "for row in data:\n",
    "    print('    '.join(f\"{err:10.1e} {order:8.2f}\" for err, order in zip(row[::2], row[1::2])))"
   ]
  },
  {
   "cell_type": "code",
   "execution_count": 10,
   "metadata": {
    "execution": {
     "iopub.execute_input": "2021-01-26T08:52:04.205000Z",
     "iopub.status.busy": "2021-01-26T08:52:04.204227Z",
     "iopub.status.idle": "2021-01-26T08:52:05.125833Z",
     "shell.execute_reply": "2021-01-26T08:52:05.125357Z",
     "shell.execute_reply.started": "2021-01-26T08:52:04.204871Z"
    }
   },
   "outputs": [],
   "source": []
  },
  {
   "cell_type": "code",
   "execution_count": 55,
   "metadata": {
    "execution": {
     "iopub.execute_input": "2021-01-26T09:38:46.297857Z",
     "iopub.status.busy": "2021-01-26T09:38:46.297146Z",
     "iopub.status.idle": "2021-01-26T09:39:05.950419Z",
     "shell.execute_reply": "2021-01-26T09:39:05.948404Z",
     "shell.execute_reply.started": "2021-01-26T09:38:46.297741Z"
    }
   },
   "outputs": [],
   "source": []
  },
  {
   "cell_type": "code",
   "execution_count": 56,
   "metadata": {
    "execution": {
     "iopub.execute_input": "2021-01-26T09:39:05.953715Z",
     "iopub.status.busy": "2021-01-26T09:39:05.953131Z",
     "iopub.status.idle": "2021-01-26T09:39:06.365625Z",
     "shell.execute_reply": "2021-01-26T09:39:06.365165Z",
     "shell.execute_reply.started": "2021-01-26T09:39:05.953613Z"
    }
   },
   "outputs": [],
   "source": []
  },
  {
   "cell_type": "code",
   "execution_count": 76,
   "metadata": {
    "execution": {
     "iopub.execute_input": "2021-01-26T09:43:21.338095Z",
     "iopub.status.busy": "2021-01-26T09:43:21.337087Z",
     "iopub.status.idle": "2021-01-26T09:43:21.359304Z",
     "shell.execute_reply": "2021-01-26T09:43:21.358841Z",
     "shell.execute_reply.started": "2021-01-26T09:43:21.337692Z"
    }
   },
   "outputs": [
    {
     "ename": "ModuleNotFoundError",
     "evalue": "No module named 'matplotlib.color'",
     "output_type": "error",
     "traceback": [
      "\u001b[0;31m---------------------------------------------------------------------------\u001b[0m",
      "\u001b[0;31mModuleNotFoundError\u001b[0m                       Traceback (most recent call last)",
      "\u001b[0;32m<ipython-input-76-bc841f8b25ee>\u001b[0m in \u001b[0;36m<module>\u001b[0;34m\u001b[0m\n\u001b[1;32m      1\u001b[0m \u001b[0;32mimport\u001b[0m \u001b[0mmatplotlib\u001b[0m\u001b[0;34m.\u001b[0m\u001b[0mpyplot\u001b[0m \u001b[0;32mas\u001b[0m \u001b[0mplt\u001b[0m\u001b[0;34m\u001b[0m\u001b[0;34m\u001b[0m\u001b[0m\n\u001b[0;32m----> 2\u001b[0;31m \u001b[0;32mimport\u001b[0m \u001b[0mmatplotlib\u001b[0m\u001b[0;34m.\u001b[0m\u001b[0mcolor\u001b[0m \u001b[0;32mas\u001b[0m \u001b[0mColor\u001b[0m\u001b[0;34m\u001b[0m\u001b[0;34m\u001b[0m\u001b[0m\n\u001b[0m\u001b[1;32m      3\u001b[0m \u001b[0;34m\u001b[0m\u001b[0m\n\u001b[1;32m      4\u001b[0m \u001b[0mblauw\u001b[0m \u001b[0;34m=\u001b[0m \u001b[0mColor\u001b[0m\u001b[0;34m(\u001b[0m\u001b[0;34m\"#1E64C8\"\u001b[0m\u001b[0;34m)\u001b[0m\u001b[0;34m\u001b[0m\u001b[0;34m\u001b[0m\u001b[0m\n\u001b[1;32m      5\u001b[0m \u001b[0;34m\u001b[0m\u001b[0m\n",
      "\u001b[0;31mModuleNotFoundError\u001b[0m: No module named 'matplotlib.color'"
     ]
    }
   ],
   "source": []
  },
  {
   "cell_type": "code",
   "execution_count": null,
   "metadata": {},
   "outputs": [],
   "source": []
  }
 ],
 "metadata": {
  "kernelspec": {
   "display_name": "Python 3 (ipykernel)",
   "language": "python",
   "name": "python3"
  },
  "language_info": {
   "codemirror_mode": {
    "name": "ipython",
    "version": 3
   },
   "file_extension": ".py",
   "mimetype": "text/x-python",
   "name": "python",
   "nbconvert_exporter": "python",
   "pygments_lexer": "ipython3",
   "version": "3.9.7"
  }
 },
 "nbformat": 4,
 "nbformat_minor": 4
}
