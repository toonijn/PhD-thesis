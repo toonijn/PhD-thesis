{
 "cells": [
  {
   "cell_type": "code",
   "execution_count": 1,
   "metadata": {
    "ExecuteTime": {
     "end_time": "2019-01-29T10:24:51.843688Z",
     "start_time": "2019-01-29T10:24:51.835571Z"
    },
    "execution": {
     "iopub.execute_input": "2020-11-05T08:26:35.824382Z",
     "iopub.status.busy": "2020-11-05T08:26:35.823365Z",
     "iopub.status.idle": "2020-11-05T08:26:35.851081Z",
     "shell.execute_reply": "2020-11-05T08:26:35.848460Z",
     "shell.execute_reply.started": "2020-11-05T08:26:35.824243Z"
    }
   },
   "outputs": [],
   "source": [
    "def rectangle(a, b, *args, **kwargs):\n",
    "    return line([a, (a[0], b[1]), b, (b[0], a[1]), a], *args, **kwargs)"
   ]
  },
  {
   "cell_type": "code",
   "execution_count": 55,
   "metadata": {
    "ExecuteTime": {
     "end_time": "2019-01-29T10:31:47.556896Z",
     "start_time": "2019-01-29T10:31:47.218090Z"
    },
    "execution": {
     "iopub.execute_input": "2020-11-05T08:47:54.833873Z",
     "iopub.status.busy": "2020-11-05T08:47:54.832124Z",
     "iopub.status.idle": "2020-11-05T08:47:55.100096Z",
     "shell.execute_reply": "2020-11-05T08:47:55.099410Z",
     "shell.execute_reply.started": "2020-11-05T08:47:54.833627Z"
    }
   },
   "outputs": [
    {
     "data": {
      "image/png": "[encoded data removed]",
      "text/plain": [
       "Graphics object consisting of 24 graphics primitives"
      ]
     },
     "metadata": {},
     "output_type": "display_data"
    }
   ],
   "source": [
    "var(\"k, K\")\n",
    "\n",
    "import matplotlib as mpl\n",
    "mpl.rcParams['text.usetex'] = True\n",
    "mpl.rcParams['text.latex.preamble'] = ['\\\\usepackage{amsmath}']\n",
    "\n",
    "x = \"y\"\n",
    "\n",
    "tc = \"black\"\n",
    "bc = \"black\"\n",
    "\n",
    "width = 10/2.54\n",
    "\n",
    "h = 1\n",
    "g = rectangle((0, 0), (h, 1), color=bc)\n",
    "\n",
    "g += text(\"$y_{\\\\text{min}} = y_0$\", (-0.02, 0),\n",
    "              vertical_alignment=\"center\", horizontal_alignment=\"right\", fontsize=13, color=tc)\n",
    "\n",
    "g += text(\"$x_{\\\\text{min}}$\", (0,-0.03),\n",
    "              vertical_alignment=\"top\", horizontal_alignment=\"center\", fontsize=13, color=tc)\n",
    "\n",
    "g += text(\"$x_{\\\\text{max}}$\", (h,-0.03),\n",
    "              vertical_alignment=\"top\", horizontal_alignment=\"center\", fontsize=13, color=tc)\n",
    "\n",
    "nK = 6\n",
    "for _i, s in enumerate([1, 2, k-1, k, K-1, K]):\n",
    "    i = _i+1\n",
    "    a = (i-1)/nK\n",
    "    b = i/nK\n",
    "    g += rectangle((0, a), (h, b), color=bc)\n",
    "    if s in (1,2,k,K):\n",
    "        g += text(\"$\\\\text{sector $\"+str(s)+\"$}$\", (h/2, (a+b)/2), color=tc, fontsize=14)\n",
    "    else:\n",
    "        g += text(\"$\\\\cdots$\", ( h/2, (a+b)/2), fontsize=14, color=tc)\n",
    "        g += text(\"$\\\\vdots$\", (-0.04, (a+b)/2), \n",
    "              vertical_alignment=\"center\", horizontal_alignment=\"right\", fontsize=14, color=tc)\n",
    "\n",
    "        \n",
    "    g += text(\"$\" + (\"y_{\\\\text{max}} =\" if s == K else \"\")+\"y_{%s}$\"%str(s), (-0.02, b),\n",
    "              vertical_alignment=\"center\", horizontal_alignment=\"right\", fontsize=13, color=tc)\n",
    "\n",
    "disp_args = {\n",
    "    'figsize': [width,width],\n",
    "    'aspect_ratio': 1,\n",
    "    'axes': False\n",
    "}\n",
    "\n",
    "g.show(**disp_args)"
   ]
  },
  {
   "cell_type": "code",
   "execution_count": 56,
   "metadata": {
    "ExecuteTime": {
     "end_time": "2019-01-29T10:31:48.251479Z",
     "start_time": "2019-01-29T10:31:47.939962Z"
    },
    "execution": {
     "iopub.execute_input": "2020-11-05T08:47:57.872558Z",
     "iopub.status.busy": "2020-11-05T08:47:57.871123Z",
     "iopub.status.idle": "2020-11-05T08:48:02.500856Z",
     "shell.execute_reply": "2020-11-05T08:48:02.499455Z",
     "shell.execute_reply.started": "2020-11-05T08:47:57.872358Z"
    }
   },
   "outputs": [],
   "source": [
    "g.save_image('2dsectors.pdf', **disp_args)"
   ]
  },
  {
   "cell_type": "code",
   "execution_count": null,
   "metadata": {},
   "outputs": [],
   "source": []
  }
 ],
 "metadata": {
  "kernelspec": {
   "display_name": "SageMath 9.1",
   "language": "sage",
   "name": "sagemath"
  },
  "language_info": {
   "codemirror_mode": {
    "name": "ipython",
    "version": 3
   },
   "file_extension": ".py",
   "mimetype": "text/x-python",
   "name": "python",
   "nbconvert_exporter": "python",
   "pygments_lexer": "ipython3",
   "version": "3.7.9"
  },
  "toc": {
   "base_numbering": 1,
   "nav_menu": {},
   "number_sections": true,
   "sideBar": true,
   "skip_h1_title": false,
   "title_cell": "Table of Contents",
   "title_sidebar": "Contents",
   "toc_cell": false,
   "toc_position": {},
   "toc_section_display": true,
   "toc_window_display": false
  }
 },
 "nbformat": 4,
 "nbformat_minor": 4
}
