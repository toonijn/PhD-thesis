{
 "cells": [
  {
   "cell_type": "code",
   "execution_count": 39,
   "id": "3f70ffea-4fd7-4e93-a640-df8ada847c1f",
   "metadata": {
    "execution": {
     "iopub.execute_input": "2023-03-27T14:05:41.998561Z",
     "iopub.status.busy": "2023-03-27T14:05:41.997705Z",
     "iopub.status.idle": "2023-03-27T14:05:42.501784Z",
     "shell.execute_reply": "2023-03-27T14:05:42.500903Z",
     "shell.execute_reply.started": "2023-03-27T14:05:41.998482Z"
    },
    "tags": []
   },
   "outputs": [],
   "source": [
    "import sys\n",
    "sys.path.append('..')\n",
    "import ugent\n",
    "from pyslise2d import Pyslise2D\n",
    "\n",
    "V = lambda x, y: (1+x*x)*(1+y*y)\n",
    "\n",
    "xmin, xmax = -5.5, 5.5\n",
    "ymin, ymax = -5.5, 5.5\n",
    "\n",
    "problem = Pyslise2D(V, xmin,xmax, ymin,ymax, tolerance=1.2e-5)"
   ]
  },
  {
   "cell_type": "code",
   "execution_count": 54,
   "id": "66110541-77de-4009-bc92-0045d945a4aa",
   "metadata": {
    "execution": {
     "iopub.execute_input": "2023-03-27T14:13:11.666088Z",
     "iopub.status.busy": "2023-03-27T14:13:11.665171Z",
     "iopub.status.idle": "2023-03-27T14:13:12.480139Z",
     "shell.execute_reply": "2023-03-27T14:13:12.479406Z",
     "shell.execute_reply.started": "2023-03-27T14:13:11.666040Z"
    },
    "tags": []
   },
   "outputs": [
    {
     "data": {
      "image/png": "[encoded data removed]",
      "text/plain": [
       "<Figure size 500x500 with 1 Axes>"
      ]
     },
     "metadata": {
      "needs_background": "light"
     },
     "output_type": "display_data"
    }
   ],
   "source": [
    "import matplotlib.pyplot as plt\n",
    "\n",
    "fig, ax = plt.subplots(1, 1, figsize=(2.5, 2.5), dpi=200)\n",
    "ax.set_aspect(\"equal\")\n",
    "\n",
    "for i, s in enumerate(problem.__sectors):\n",
    "    for p in s.partition:\n",
    "        ax.plot((p, p), (s.min, s.max),  color=ugent.rood, lw=1)\n",
    "    if i > 0:\n",
    "        ax.plot((xmin, xmax), (s.min, s.min),  color=ugent.blauw, lw=1)\n",
    "\n",
    "ax.set_xticks((xmin, xmax))\n",
    "ax.set_xlim((xmin, xmax))\n",
    "ax.set_xticklabels([\"$x_\\\\text{min}$\", \"$x_\\\\text{max}$\"])\n",
    "ax.set_yticks((ymin, ymax))\n",
    "ax.set_ylim((xmin, xmax))\n",
    "ax.set_yticklabels([\"$y_\\\\text{min}$\", \"$y_\\\\text{max}$\"])\n",
    "plt.savefig('sector_example.pdf', bbox_inches=\"tight\")\n",
    "plt.show()"
   ]
  },
  {
   "cell_type": "code",
   "execution_count": 6,
   "id": "1e35e4e8-d2c8-4a03-bd56-67af51fd017e",
   "metadata": {
    "execution": {
     "iopub.execute_input": "2023-03-27T13:59:53.280769Z",
     "iopub.status.busy": "2023-03-27T13:59:53.279894Z",
     "iopub.status.idle": "2023-03-27T13:59:53.297546Z",
     "shell.execute_reply": "2023-03-27T13:59:53.294062Z",
     "shell.execute_reply.started": "2023-03-27T13:59:53.280696Z"
    },
    "tags": []
   },
   "outputs": [
    {
     "data": {
      "text/plain": [
       "[-5.251092656166881,\n",
       " -5.002185312333761,\n",
       " -4.753277968500642,\n",
       " -4.504370624667523,\n",
       " -4.2554632808344035,\n",
       " -4.006555937001284,\n",
       " -3.757648593168165,\n",
       " -3.5087412493350456,\n",
       " -3.2598339055019263,\n",
       " -3.010926561668807,\n",
       " -2.7620192178356877,\n",
       " -2.5131118740025684,\n",
       " -2.264204530169449,\n",
       " -2.01529718633633,\n",
       " -1.7663898425032105,\n",
       " -1.5174824986700912,\n",
       " -1.268575154836972,\n",
       " -1.0196678110038526,\n",
       " -0.7707604671707333,\n",
       " -0.521853123337614,\n",
       " -0.2729457795044947,\n",
       " 0.27294577936800124,\n",
       " 0.5218531232076202,\n",
       " 0.7707604670472392,\n",
       " 1.0196678108868582,\n",
       " 1.2685751547264772,\n",
       " 1.5174824985660962,\n",
       " 1.7663898424057152,\n",
       " 2.015297186245334,\n",
       " 2.264204530084953,\n",
       " 2.513111873924572,\n",
       " 2.762019217764191,\n",
       " 3.01092656160381,\n",
       " 3.259833905443429,\n",
       " 3.508741249283048,\n",
       " 3.757648593122667,\n",
       " 4.006555936962286,\n",
       " 4.255463280801905,\n",
       " 4.504370624641524,\n",
       " 4.753277968481143,\n",
       " 5.002185312320762,\n",
       " 5.251092656160381]"
      ]
     },
     "execution_count": 6,
     "metadata": {},
     "output_type": "execute_result"
    }
   ],
   "source": [
    "s.partition"
   ]
  },
  {
   "cell_type": "code",
   "execution_count": null,
   "id": "b4fde584-bd02-4100-a541-fd0bdd6489fe",
   "metadata": {},
   "outputs": [],
   "source": []
  },
  {
   "cell_type": "code",
   "execution_count": null,
   "id": "a68b2ba0-4ecb-4d1c-94d9-6a4cf4d9e3eb",
   "metadata": {},
   "outputs": [],
   "source": []
  }
 ],
 "metadata": {
  "kernelspec": {
   "display_name": "Python 3 (ipykernel)",
   "language": "python",
   "name": "python3"
  },
  "language_info": {
   "codemirror_mode": {
    "name": "ipython",
    "version": 3
   },
   "file_extension": ".py",
   "mimetype": "text/x-python",
   "name": "python",
   "nbconvert_exporter": "python",
   "pygments_lexer": "ipython3",
   "version": "3.9.7"
  }
 },
 "nbformat": 4,
 "nbformat_minor": 5
}
