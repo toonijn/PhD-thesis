{
 "cells": [
  {
   "cell_type": "code",
   "execution_count": 1,
   "id": "5cd3cd9b-1c04-47ff-9465-2d6d2ca2718e",
   "metadata": {},
   "outputs": [],
   "source": [
    "import sys\n",
    "sys.path.append('..')\n",
    "import ugent\n",
    "from pyslise2d import Pyslise2D\n",
    "\n",
    "V = lambda x, y: (1+x*x)*(1+y*y)\n",
    "\n",
    "p = Pyslise2D(V, -5.5,5.5, -5.5,5.5, tolerance=1e-8)"
   ]
  },
  {
   "cell_type": "code",
   "execution_count": 2,
   "id": "5f0b14b9-f0e0-4d0a-ad35-fdd89d05eeb6",
   "metadata": {},
   "outputs": [
    {
     "data": {
      "text/plain": [
       "[(0, 3.195918111211807, 1),\n",
       " (1, 5.526744074936144, 2),\n",
       " (3, 7.557803572849634, 1),\n",
       " (4, 8.031272363607144, 1),\n",
       " (5, 8.44458175674524, 1),\n",
       " (6, 9.928061162468902, 2),\n",
       " (8, 11.311817613784642, 2),\n",
       " (10, 12.103253444544332, 1)]"
      ]
     },
     "execution_count": 2,
     "metadata": {},
     "output_type": "execute_result"
    }
   ],
   "source": [
    "p.eigenvaluesByIndex(0, 10)"
   ]
  },
  {
   "cell_type": "code",
   "execution_count": 11,
   "id": "5140a419-77f0-4e1f-9fb1-4d6390b2c633",
   "metadata": {},
   "outputs": [],
   "source": [
    "errors = next(zip(*p.__matchingErrors(3)))"
   ]
  },
  {
   "cell_type": "code",
   "execution_count": null,
   "id": "5b486dd8-e31f-4e92-82f6-c80a62bf711e",
   "metadata": {},
   "outputs": [],
   "source": []
  }
 ],
 "metadata": {
  "kernelspec": {
   "display_name": "Python 3 (ipykernel)",
   "language": "python",
   "name": "python3"
  },
  "language_info": {
   "codemirror_mode": {
    "name": "ipython",
    "version": 3
   },
   "file_extension": ".py",
   "mimetype": "text/x-python",
   "name": "python",
   "nbconvert_exporter": "python",
   "pygments_lexer": "ipython3",
   "version": "3.9.7"
  }
 },
 "nbformat": 4,
 "nbformat_minor": 5
}
