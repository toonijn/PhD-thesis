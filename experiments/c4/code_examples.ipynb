{
 "cells": [
  {
   "cell_type": "code",
   "execution_count": 1,
   "id": "ee13497e-1cde-49a1-abff-54b72e07efed",
   "metadata": {
    "execution": {
     "iopub.execute_input": "2023-02-10T13:44:56.193477Z",
     "iopub.status.busy": "2023-02-10T13:44:56.192561Z",
     "iopub.status.idle": "2023-02-10T13:44:57.651439Z",
     "shell.execute_reply": "2023-02-10T13:44:57.650562Z",
     "shell.execute_reply.started": "2023-02-10T13:44:56.193388Z"
    },
    "tags": []
   },
   "outputs": [],
   "source": [
    "from strands import Schrodinger2D, Circle\n",
    "import matplotlib.pyplot as plt\n",
    "import numpy as np\n",
    "\n",
    "xs = np.linspace(-5, 5, 100)\n",
    "ys = np.linspace(-5, 5, 100)\n",
    "X, Y = np.meshgrid(xs, ys)\n",
    "\n",
    "def V(x, y):\n",
    "    return x*x + y*y\n",
    "\n",
    "schrodinger = Schrodinger2D(V, Circle((0, 0), 9.5), gridSize=(40, 40), maxBasisSize=30)\n",
    "eigs = schrodinger.eigenfunctions(5)"
   ]
  },
  {
   "cell_type": "code",
   "execution_count": 2,
   "id": "a59ae7fd-1a96-44ba-a99d-f56e536c66ec",
   "metadata": {
    "execution": {
     "iopub.execute_input": "2023-02-10T13:44:57.653845Z",
     "iopub.status.busy": "2023-02-10T13:44:57.653439Z",
     "iopub.status.idle": "2023-02-10T13:44:57.665429Z",
     "shell.execute_reply": "2023-02-10T13:44:57.664459Z",
     "shell.execute_reply.started": "2023-02-10T13:44:57.653820Z"
    },
    "tags": []
   },
   "outputs": [
    {
     "data": {
      "text/plain": [
       "'/usr/bin/python'"
      ]
     },
     "execution_count": 2,
     "metadata": {},
     "output_type": "execute_result"
    }
   ],
   "source": [
    "import sys\n",
    "sys.executable"
   ]
  },
  {
   "cell_type": "code",
   "execution_count": 3,
   "id": "84d170a8-9f32-4cf1-a321-3e9ff5c07ed7",
   "metadata": {
    "execution": {
     "iopub.execute_input": "2023-02-10T13:44:57.667063Z",
     "iopub.status.busy": "2023-02-10T13:44:57.666653Z",
     "iopub.status.idle": "2023-02-10T13:44:58.310918Z",
     "shell.execute_reply": "2023-02-10T13:44:58.309182Z",
     "shell.execute_reply.started": "2023-02-10T13:44:57.667028Z"
    },
    "tags": []
   },
   "outputs": [
    {
     "ename": "TypeError",
     "evalue": "__call__(): incompatible function arguments. The following argument types are supported:\n    1. (self: strands.Eigenfunction2D, arg0: float, arg1: float) -> float\n    2. (self: strands.Eigenfunction2D, arg0: numpy.ndarray[numpy.float64[m, 1]], arg1: numpy.ndarray[numpy.float64[m, 1]]) -> numpy.ndarray[numpy.float64[m, 1]]\n\nInvoked with: <strands.Eigenfunction2D object at 0x7fd60c0de0f0>, array([[-5.       , -4.8989899, -4.7979798, ...,  4.7979798,  4.8989899,\n         5.       ],\n       [-5.       , -4.8989899, -4.7979798, ...,  4.7979798,  4.8989899,\n         5.       ],\n       [-5.       , -4.8989899, -4.7979798, ...,  4.7979798,  4.8989899,\n         5.       ],\n       ...,\n       [-5.       , -4.8989899, -4.7979798, ...,  4.7979798,  4.8989899,\n         5.       ],\n       [-5.       , -4.8989899, -4.7979798, ...,  4.7979798,  4.8989899,\n         5.       ],\n       [-5.       , -4.8989899, -4.7979798, ...,  4.7979798,  4.8989899,\n         5.       ]]), array([[-5.       , -5.       , -5.       , ..., -5.       , -5.       ,\n        -5.       ],\n       [-4.8989899, -4.8989899, -4.8989899, ..., -4.8989899, -4.8989899,\n        -4.8989899],\n       [-4.7979798, -4.7979798, -4.7979798, ..., -4.7979798, -4.7979798,\n        -4.7979798],\n       ...,\n       [ 4.7979798,  4.7979798,  4.7979798, ...,  4.7979798,  4.7979798,\n         4.7979798],\n       [ 4.8989899,  4.8989899,  4.8989899, ...,  4.8989899,  4.8989899,\n         4.8989899],\n       [ 5.       ,  5.       ,  5.       , ...,  5.       ,  5.       ,\n         5.       ]])",
     "output_type": "error",
     "traceback": [
      "\u001b[0;31m---------------------------------------------------------------------------\u001b[0m",
      "\u001b[0;31mTypeError\u001b[0m                                 Traceback (most recent call last)",
      "Input \u001b[0;32mIn [3]\u001b[0m, in \u001b[0;36m<cell line: 2>\u001b[0;34m()\u001b[0m\n\u001b[1;32m      1\u001b[0m f \u001b[38;5;241m=\u001b[39m eigs[\u001b[38;5;241m0\u001b[39m][\u001b[38;5;241m1\u001b[39m]\n\u001b[0;32m----> 2\u001b[0m \u001b[43mf\u001b[49m\u001b[43m(\u001b[49m\u001b[43mX\u001b[49m\u001b[43m,\u001b[49m\u001b[43m \u001b[49m\u001b[43mY\u001b[49m\u001b[43m)\u001b[49m\n",
      "\u001b[0;31mTypeError\u001b[0m: __call__(): incompatible function arguments. The following argument types are supported:\n    1. (self: strands.Eigenfunction2D, arg0: float, arg1: float) -> float\n    2. (self: strands.Eigenfunction2D, arg0: numpy.ndarray[numpy.float64[m, 1]], arg1: numpy.ndarray[numpy.float64[m, 1]]) -> numpy.ndarray[numpy.float64[m, 1]]\n\nInvoked with: <strands.Eigenfunction2D object at 0x7fd60c0de0f0>, array([[-5.       , -4.8989899, -4.7979798, ...,  4.7979798,  4.8989899,\n         5.       ],\n       [-5.       , -4.8989899, -4.7979798, ...,  4.7979798,  4.8989899,\n         5.       ],\n       [-5.       , -4.8989899, -4.7979798, ...,  4.7979798,  4.8989899,\n         5.       ],\n       ...,\n       [-5.       , -4.8989899, -4.7979798, ...,  4.7979798,  4.8989899,\n         5.       ],\n       [-5.       , -4.8989899, -4.7979798, ...,  4.7979798,  4.8989899,\n         5.       ],\n       [-5.       , -4.8989899, -4.7979798, ...,  4.7979798,  4.8989899,\n         5.       ]]), array([[-5.       , -5.       , -5.       , ..., -5.       , -5.       ,\n        -5.       ],\n       [-4.8989899, -4.8989899, -4.8989899, ..., -4.8989899, -4.8989899,\n        -4.8989899],\n       [-4.7979798, -4.7979798, -4.7979798, ..., -4.7979798, -4.7979798,\n        -4.7979798],\n       ...,\n       [ 4.7979798,  4.7979798,  4.7979798, ...,  4.7979798,  4.7979798,\n         4.7979798],\n       [ 4.8989899,  4.8989899,  4.8989899, ...,  4.8989899,  4.8989899,\n         4.8989899],\n       [ 5.       ,  5.       ,  5.       , ...,  5.       ,  5.       ,\n         5.       ]])"
     ]
    }
   ],
   "source": [
    "f = eigs[0][1]\n",
    "f(X, Y)"
   ]
  },
  {
   "cell_type": "code",
   "execution_count": 27,
   "id": "61dc15e1-56bb-457f-bda3-9a942610bf66",
   "metadata": {
    "execution": {
     "iopub.execute_input": "2023-02-10T12:11:18.306841Z",
     "iopub.status.busy": "2023-02-10T12:11:18.306312Z",
     "iopub.status.idle": "2023-02-10T12:11:18.338404Z",
     "shell.execute_reply": "2023-02-10T12:11:18.336667Z",
     "shell.execute_reply.started": "2023-02-10T12:11:18.306801Z"
    },
    "tags": []
   },
   "outputs": [
    {
     "ename": "TypeError",
     "evalue": "__call__(): incompatible function arguments. The following argument types are supported:\n    1. (self: strands.Eigenfunction2D, arg0: float, arg1: float) -> float\n    2. (self: strands.Eigenfunction2D, arg0: numpy.ndarray[numpy.float64[m, 1]], arg1: numpy.ndarray[numpy.float64[m, 1]]) -> numpy.ndarray[numpy.float64[m, 1]]\n\nInvoked with: <strands.Eigenfunction2D object at 0x7f296e8ce6f0>, array([[-5.       , -4.8989899, -4.7979798, ...,  4.7979798,  4.8989899,\n         5.       ],\n       [-5.       , -4.8989899, -4.7979798, ...,  4.7979798,  4.8989899,\n         5.       ],\n       [-5.       , -4.8989899, -4.7979798, ...,  4.7979798,  4.8989899,\n         5.       ],\n       ...,\n       [-5.       , -4.8989899, -4.7979798, ...,  4.7979798,  4.8989899,\n         5.       ],\n       [-5.       , -4.8989899, -4.7979798, ...,  4.7979798,  4.8989899,\n         5.       ],\n       [-5.       , -4.8989899, -4.7979798, ...,  4.7979798,  4.8989899,\n         5.       ]]), array([[-5.       , -5.       , -5.       , ..., -5.       , -5.       ,\n        -5.       ],\n       [-4.8989899, -4.8989899, -4.8989899, ..., -4.8989899, -4.8989899,\n        -4.8989899],\n       [-4.7979798, -4.7979798, -4.7979798, ..., -4.7979798, -4.7979798,\n        -4.7979798],\n       ...,\n       [ 4.7979798,  4.7979798,  4.7979798, ...,  4.7979798,  4.7979798,\n         4.7979798],\n       [ 4.8989899,  4.8989899,  4.8989899, ...,  4.8989899,  4.8989899,\n         4.8989899],\n       [ 5.       ,  5.       ,  5.       , ...,  5.       ,  5.       ,\n         5.       ]])",
     "output_type": "error",
     "traceback": [
      "\u001b[0;31m---------------------------------------------------------------------------\u001b[0m",
      "\u001b[0;31mTypeError\u001b[0m                                 Traceback (most recent call last)",
      "Input \u001b[0;32mIn [27]\u001b[0m, in \u001b[0;36m<cell line: 1>\u001b[0;34m()\u001b[0m\n\u001b[1;32m      1\u001b[0m \u001b[38;5;28;01mfor\u001b[39;00m E, f \u001b[38;5;129;01min\u001b[39;00m eigs:\n\u001b[0;32m----> 2\u001b[0m     plt\u001b[38;5;241m.\u001b[39mpcolormesh(X, Y, \u001b[43mf\u001b[49m\u001b[43m(\u001b[49m\u001b[43mX\u001b[49m\u001b[43m,\u001b[49m\u001b[43m \u001b[49m\u001b[43mY\u001b[49m\u001b[43m)\u001b[49m)\n\u001b[1;32m      3\u001b[0m     plt\u001b[38;5;241m.\u001b[39mshow()\n",
      "\u001b[0;31mTypeError\u001b[0m: __call__(): incompatible function arguments. The following argument types are supported:\n    1. (self: strands.Eigenfunction2D, arg0: float, arg1: float) -> float\n    2. (self: strands.Eigenfunction2D, arg0: numpy.ndarray[numpy.float64[m, 1]], arg1: numpy.ndarray[numpy.float64[m, 1]]) -> numpy.ndarray[numpy.float64[m, 1]]\n\nInvoked with: <strands.Eigenfunction2D object at 0x7f296e8ce6f0>, array([[-5.       , -4.8989899, -4.7979798, ...,  4.7979798,  4.8989899,\n         5.       ],\n       [-5.       , -4.8989899, -4.7979798, ...,  4.7979798,  4.8989899,\n         5.       ],\n       [-5.       , -4.8989899, -4.7979798, ...,  4.7979798,  4.8989899,\n         5.       ],\n       ...,\n       [-5.       , -4.8989899, -4.7979798, ...,  4.7979798,  4.8989899,\n         5.       ],\n       [-5.       , -4.8989899, -4.7979798, ...,  4.7979798,  4.8989899,\n         5.       ],\n       [-5.       , -4.8989899, -4.7979798, ...,  4.7979798,  4.8989899,\n         5.       ]]), array([[-5.       , -5.       , -5.       , ..., -5.       , -5.       ,\n        -5.       ],\n       [-4.8989899, -4.8989899, -4.8989899, ..., -4.8989899, -4.8989899,\n        -4.8989899],\n       [-4.7979798, -4.7979798, -4.7979798, ..., -4.7979798, -4.7979798,\n        -4.7979798],\n       ...,\n       [ 4.7979798,  4.7979798,  4.7979798, ...,  4.7979798,  4.7979798,\n         4.7979798],\n       [ 4.8989899,  4.8989899,  4.8989899, ...,  4.8989899,  4.8989899,\n         4.8989899],\n       [ 5.       ,  5.       ,  5.       , ...,  5.       ,  5.       ,\n         5.       ]])"
     ]
    }
   ],
   "source": [
    "for E, f in eigs:\n",
    "    plt.pcolormesh(X, Y, f(X, Y))\n",
    "    plt.show()"
   ]
  },
  {
   "cell_type": "code",
   "execution_count": null,
   "id": "ee35bb53-ff22-4065-acba-1def9279ea15",
   "metadata": {},
   "outputs": [],
   "source": []
  }
 ],
 "metadata": {
  "kernelspec": {
   "display_name": "Python 3 (ipykernel)",
   "language": "python",
   "name": "python3"
  },
  "language_info": {
   "codemirror_mode": {
    "name": "ipython",
    "version": 3
   },
   "file_extension": ".py",
   "mimetype": "text/x-python",
   "name": "python",
   "nbconvert_exporter": "python",
   "pygments_lexer": "ipython3",
   "version": "3.9.7"
  }
 },
 "nbformat": 4,
 "nbformat_minor": 5
}
