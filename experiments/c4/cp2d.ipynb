{
 "cells": [
  {
   "cell_type": "code",
   "execution_count": 20,
   "id": "838c3576-abe0-423c-af4f-fe4d741da3d0",
   "metadata": {},
   "outputs": [
    {
     "data": {
      "text/plain": [
       "(x, y) |--> c_0x*e^(A_0x*x + sqrt(-A_0x^2 - E + Vbar)*y) + c_0y*e^(A_0y*y + sqrt(-A_0y^2 - E + Vbar)*x)"
      ]
     },
     "execution_count": 20,
     "metadata": {},
     "output_type": "execute_result"
    }
   ],
   "source": [
    "n = 1\n",
    "cx = [var(f'c_{i}x') for i in range(n)]\n",
    "cy = [var(f'c_{i}y') for i in range(n)]\n",
    "\n",
    "A = []\n",
    "Ax = [var(f'A_{i}x') for i in range(n)]\n",
    "Ay = [var(f'A_{i}y') for i in range(n)]\n",
    "\n",
    "var('E, Vbar')\n",
    "Z = Vbar - E\n",
    "\n",
    "f(x, y) = sum(cx[i]*exp(Ax[i]*x + sqrt(Z - Ax[i]**2)*y) for i in range(n)) + sum(cy[i]*exp(Ay[i]*y + sqrt(Z - Ay[i]**2)*x) for i in range(n))\n",
    "f"
   ]
  },
  {
   "cell_type": "code",
   "execution_count": 21,
   "id": "f42b6cc6-193d-42fb-a11d-748326bcb64f",
   "metadata": {},
   "outputs": [
    {
     "data": {
      "text/plain": [
       "(x, y) |--> 0"
      ]
     },
     "execution_count": 21,
     "metadata": {},
     "output_type": "execute_result"
    }
   ],
   "source": [
    "(-(diff(f, x, x) + diff(f, y, y)) + Z * f).simplify_full()"
   ]
  },
  {
   "cell_type": "code",
   "execution_count": 30,
   "id": "13e31d0b-70e2-4e95-acfd-4e2e8ab549da",
   "metadata": {},
   "outputs": [
    {
     "data": {
      "text/plain": [
       "A_0y*c_0y*e^(sqrt(-A_0y^2 - E + Vbar)*x) + sqrt(-A_0x^2 - E + Vbar)*c_0x*e^(A_0x*x)"
      ]
     },
     "execution_count": 30,
     "metadata": {},
     "output_type": "execute_result"
    }
   ],
   "source": [
    "diff(f, y)(x, 0)"
   ]
  },
  {
   "cell_type": "code",
   "execution_count": 31,
   "id": "f540cd25-74e5-4118-a465-c16a76507726",
   "metadata": {},
   "outputs": [
    {
     "data": {
      "text/plain": [
       "[psi_0, psi_1, psi_2, psi_3, psi_4]"
      ]
     },
     "execution_count": 31,
     "metadata": {},
     "output_type": "execute_result"
    }
   ],
   "source": [
    "var('psi')\n",
    "psi_k = [var(f'psi_{i}') for i in range(5)]\n",
    "\n"
   ]
  },
  {
   "cell_type": "code",
   "execution_count": 42,
   "id": "08bbc718-3c60-4f53-878c-dfe015d01524",
   "metadata": {},
   "outputs": [
    {
     "data": {
      "text/plain": [
       "[{B: -1/18*(-I*sqrt(3) + 1)*(4*sin(pi*B)^2/pi^2 + 3)/(-1/6*sin(pi*B)/pi + 8/27*sin(pi*B)^3/pi^3 + 1/6*sqrt(-4/3*pi^4 - 13/3*pi^2*sin(pi*B)^2 - 32/3*sin(pi*B)^4)/pi^2)^(1/3) - 1/2*(I*sqrt(3) + 1)*(-1/6*sin(pi*B)/pi + 8/27*sin(pi*B)^3/pi^3 + 1/6*sqrt(-4/3*pi^4 - 13/3*pi^2*sin(pi*B)^2 - 32/3*sin(pi*B)^4)/pi^2)^(1/3) + 2/3*sin(pi*B)/pi},\n",
       " {B: -1/18*(I*sqrt(3) + 1)*(4*sin(pi*B)^2/pi^2 + 3)/(-1/6*sin(pi*B)/pi + 8/27*sin(pi*B)^3/pi^3 + 1/6*sqrt(-4/3*pi^4 - 13/3*pi^2*sin(pi*B)^2 - 32/3*sin(pi*B)^4)/pi^2)^(1/3) - 1/2*(-I*sqrt(3) + 1)*(-1/6*sin(pi*B)/pi + 8/27*sin(pi*B)^3/pi^3 + 1/6*sqrt(-4/3*pi^4 - 13/3*pi^2*sin(pi*B)^2 - 32/3*sin(pi*B)^4)/pi^2)^(1/3) + 2/3*sin(pi*B)/pi},\n",
       " {B: 1/9*(4*sin(pi*B)^2/pi^2 + 3)/(-1/6*sin(pi*B)/pi + 8/27*sin(pi*B)^3/pi^3 + 1/6*sqrt(-4/3*pi^4 - 13/3*pi^2*sin(pi*B)^2 - 32/3*sin(pi*B)^4)/pi^2)^(1/3) + (-1/6*sin(pi*B)/pi + 8/27*sin(pi*B)^3/pi^3 + 1/6*sqrt(-4/3*pi^4 - 13/3*pi^2*sin(pi*B)^2 - 32/3*sin(pi*B)^4)/pi^2)^(1/3) + 2/3*sin(pi*B)/pi}]"
      ]
     },
     "execution_count": 42,
     "metadata": {},
     "output_type": "execute_result"
    }
   ],
   "source": [
    "var('A, B, x')\n",
    "v = solve(integrate((cos(x)-1)*(cos(B*x) - 1), x, 0, pi) == 0, (B,), solution_dict=True)\n",
    "v"
   ]
  },
  {
   "cell_type": "code",
   "execution_count": 60,
   "id": "45fdcd6f-5961-4935-845b-aea512dc2978",
   "metadata": {},
   "outputs": [
    {
     "name": "stdout",
     "output_type": "stream",
     "text": [
      "sqrt(2)*(sqrt(2)*cosh(pi*x)*e^pi - sqrt(2)*e^pi)*(e^(2*pi) - 1)/(12*pi*e^(2*pi) - 16*e^(2*pi)*sinh(pi) + e^(4*pi) - 1) + cos(pi*x)\n",
      "-2/5*sqrt(2)*(sqrt(2)*cosh(pi*x)*e^pi - sqrt(2)*e^pi)*(e^(2*pi) - 1)/(12*pi*e^(2*pi) - 16*e^(2*pi)*sinh(pi) + e^(4*pi) - 1) - 1/5*(12*pi^2*e^(2*pi) - 16*pi*e^(2*pi)*sinh(pi) + pi*(e^(4*pi) - 1))*((12*sqrt(2)*pi*e^(2*pi) - 16*sqrt(2)*e^(2*pi)*sinh(pi) + sqrt(2)*e^(4*pi) - sqrt(2))*cos(pi*x) - 2*(sqrt(2)*e^pi - sqrt(2)*e^(3*pi))*cosh(pi*x) + 2*sqrt(2)*e^pi - 2*sqrt(2)*e^(3*pi))*(sqrt(2)*e^(4*pi) - 2*sqrt(2)*e^(2*pi) + sqrt(2))/(pi*(12*pi^2*e^(2*pi) - 16*pi*e^(2*pi)*sinh(pi) + pi*(e^(4*pi) - 1) - e^(4*pi) + 2*e^(2*pi) - 1)*(12*pi*e^(2*pi) - 16*e^(2*pi)*sinh(pi) + e^(4*pi) - 1)^2) + cos(2*pi*x)\n"
     ]
    }
   ],
   "source": [
    "def dot(u, v):\n",
    "    return integrate(u*v, x, 0, 1)\n",
    "\n",
    "fs = [cosh(pi*x)-1]\n",
    "fs[-1] = (fs[-1]/sqrt(dot(fs[-1], fs[-1]))).simplify_full()\n",
    "\n",
    "for i in range(1, 3):\n",
    "    c = cos(x*i*pi)\n",
    "    n = c\n",
    "    for f in fs:\n",
    "        n -= dot(f, c)*f\n",
    "    print(n)\n",
    "    n = (n / sqrt(dot(n, n))).simplify_full()\n",
    "    fs.append(n)"
   ]
  },
  {
   "cell_type": "code",
   "execution_count": null,
   "id": "0773cb52-a83c-4e40-9642-8c7e429aad07",
   "metadata": {},
   "outputs": [],
   "source": [
    "sum(plot(f, (x, 0, 1), color=hue(golden_ratio*i)) for i, f in enumerate(fs))"
   ]
  },
  {
   "cell_type": "code",
   "execution_count": null,
   "id": "f7aecc91-f501-405c-92ca-5c0b32b29531",
   "metadata": {},
   "outputs": [],
   "source": []
  }
 ],
 "metadata": {
  "kernelspec": {
   "display_name": "SageMath 9.5",
   "language": "sage",
   "name": "sagemath"
  },
  "language_info": {
   "codemirror_mode": {
    "name": "ipython",
    "version": 3
   },
   "file_extension": ".py",
   "mimetype": "text/x-python",
   "name": "python",
   "nbconvert_exporter": "python",
   "pygments_lexer": "ipython3",
   "version": "3.9.9"
  }
 },
 "nbformat": 4,
 "nbformat_minor": 5
}
