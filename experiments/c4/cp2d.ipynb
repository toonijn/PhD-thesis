{
 "cells": [
  {
   "cell_type": "code",
   "execution_count": 81,
   "id": "248c00c4",
   "metadata": {
    "execution": {
     "iopub.execute_input": "2022-09-19T06:43:04.177758Z",
     "iopub.status.busy": "2022-09-19T06:43:04.174662Z",
     "iopub.status.idle": "2022-09-19T06:43:04.259792Z",
     "shell.execute_reply": "2022-09-19T06:43:04.256914Z",
     "shell.execute_reply.started": "2022-09-19T06:43:04.177621Z"
    }
   },
   "outputs": [
    {
     "data": {
      "text/plain": [
       "array([[0.15594369, 0.698456  ],\n",
       "       [0.95041528, 0.98341647],\n",
       "       [1.05041806, 1.0167502 ],\n",
       "       [2.17818356, 1.36829887]])"
      ]
     },
     "execution_count": 81,
     "metadata": {},
     "output_type": "execute_result"
    }
   ],
   "source": [
    "import numpy as np\n",
    "\n",
    "def etas(z):\n",
    "    if isinstance(z, float):\n",
    "        if z < -0.5:\n",
    "            v = sqrt(-z)\n",
    "            return cos(v), sin(v)/v\n",
    "        elif z > 0.5:\n",
    "            v = sqrt(z)\n",
    "            return cosh(v), sinh(v)/v\n",
    "        else:\n",
    "            return (\n",
    "                1/3628800*z^5 + 1/40320*z^4 + 1/720*z^3 + 1/24*z^2 + 1/2*z + 1,\n",
    "                1/39916800*z^5 + 1/362880*z^4 + 1/5040*z^3 + 1/120*z^2 + 1/6*z + 1\n",
    "            )\n",
    "    else:\n",
    "        assert len(z.shape) == 1\n",
    "        r = np.ndarray((z.shape[0], 2))\n",
    "        low = np.where(z <= -0.5)\n",
    "        mid = np.where(np.logical_and(-0.5 < z, z < 0.5))\n",
    "        high = np.where(z >= 0.5)\n",
    "        sz = np.sqrt(np.abs(z))\n",
    "        r[low, 0] = np.cos(sz[low])\n",
    "        r[low, 1] = np.sin(sz[low])/sz[low]\n",
    "        r[high, 0] = np.cosh(sz[high])\n",
    "        r[high, 1] = np.sinh(sz[high])/sz[high]\n",
    "        zm = z[mid]\n",
    "        r[mid, 0] = zm**5/3628800 + zm**4/40320 + zm**3/720 + zm**2/24 + zm/2 + 1,\n",
    "        r[mid, 1] = zm**5/39916800 + zm**4/362880 + zm**3/5040 + zm**2/120 + zm/6 + 1,\n",
    "        return r\n",
    "\n",
    "class Basis:\n",
    "    def __init__(self, Z):\n",
    "        Z = float(Z)\n",
    "        self.Z = Z\n",
    "        s = Z/2\n",
    "        freqs = [(s, s)]\n",
    "        for i in range(1, 5):\n",
    "            AA = s + i*5\n",
    "            BB = Z - AA\n",
    "            freqs.append((AA, BB))\n",
    "            freqs.append((BB, AA))\n",
    "        self.freqs = np.array(freqs)\n",
    "\n",
    "    def __call__(self, x, y):\n",
    "        x = float(x)\n",
    "        y = float(y)\n",
    "        ex = etas(self.freqs[:, 0]*x*x)\n",
    "        ey = etas(self.freqs[:, 1]*y*y)\n",
    "        r = np.ndarray((len(self.freqs), 4))\n",
    "        r[:, 0] = ex[:, 0] * ey[:, 0]\n",
    "        r[:, 1] = ex[:, 0] * ey[:, 1]\n",
    "        r[:, 2] = ex[:, 1] * ey[:, 0]\n",
    "        r[:, 3] = ex[:, 1] * ey[:, 1]\n",
    "        return r\n",
    "    \n",
    "b = Basis(5)\n",
    "etas(np.array([-2, -0.1, 0.1, 2]))"
   ]
  },
  {
   "cell_type": "code",
   "execution_count": 82,
   "id": "0276e8c2",
   "metadata": {
    "execution": {
     "iopub.execute_input": "2022-09-19T06:43:05.446489Z",
     "iopub.status.busy": "2022-09-19T06:43:05.443849Z",
     "iopub.status.idle": "2022-09-19T06:43:05.466160Z",
     "shell.execute_reply": "2022-09-19T06:43:05.463417Z",
     "shell.execute_reply.started": "2022-09-19T06:43:05.446352Z"
    }
   },
   "outputs": [
    {
     "data": {
      "text/plain": [
       "array([[  2.5,   2.5],\n",
       "       [  7.5,  -2.5],\n",
       "       [ -2.5,   7.5],\n",
       "       [ 12.5,  -7.5],\n",
       "       [ -7.5,  12.5],\n",
       "       [ 17.5, -12.5],\n",
       "       [-12.5,  17.5],\n",
       "       [ 22.5, -17.5],\n",
       "       [-17.5,  22.5]])"
      ]
     },
     "execution_count": 82,
     "metadata": {},
     "output_type": "execute_result"
    }
   ],
   "source": [
    "b.freqs"
   ]
  },
  {
   "cell_type": "code",
   "execution_count": 83,
   "id": "06f533d9",
   "metadata": {
    "execution": {
     "iopub.execute_input": "2022-09-19T06:43:08.649724Z",
     "iopub.status.busy": "2022-09-19T06:43:08.647952Z",
     "iopub.status.idle": "2022-09-19T06:43:08.676726Z",
     "shell.execute_reply": "2022-09-19T06:43:08.674133Z",
     "shell.execute_reply.started": "2022-09-19T06:43:08.649596Z"
    }
   },
   "outputs": [
    {
     "data": {
      "text/plain": [
       "array([[1.11462526, 1.03792414, 1.11462526, 1.03792414],\n",
       "       [0.88959362, 0.96291962, 0.88959362, 0.96291962],\n",
       "       [1.35691671, 1.11635847, 1.35691671, 1.11635847],\n",
       "       [0.68106234, 0.89123642, 0.68106234, 0.89123642],\n",
       "       [1.61725214, 1.19833384, 1.61725214, 1.19833384],\n",
       "       [0.48829607, 0.82276874, 0.48829607, 0.82276874],\n",
       "       [1.89644106, 1.28396427, 1.89644106, 1.28396427],\n",
       "       [0.31058299, 0.7574134 , 0.31058299, 0.7574134 ],\n",
       "       [2.19531895, 1.37336665, 2.19531895, 1.37336665]])"
      ]
     },
     "execution_count": 83,
     "metadata": {},
     "output_type": "execute_result"
    }
   ],
   "source": [
    "b(0, 0.3)"
   ]
  },
  {
   "cell_type": "code",
   "execution_count": 24,
   "id": "757e0de6",
   "metadata": {
    "execution": {
     "iopub.execute_input": "2022-09-19T06:10:54.286442Z",
     "iopub.status.busy": "2022-09-19T06:10:54.285293Z",
     "iopub.status.idle": "2022-09-19T06:10:54.308242Z",
     "shell.execute_reply": "2022-09-19T06:10:54.306151Z",
     "shell.execute_reply.started": "2022-09-19T06:10:54.286371Z"
    }
   },
   "outputs": [
    {
     "data": {
      "text/plain": [
       "1/3628800*x^5 + 1/40320*x^4 + 1/720*x^3 + 1/24*x^2 + 1/2*x + 1"
      ]
     },
     "execution_count": 24,
     "metadata": {},
     "output_type": "execute_result"
    }
   ],
   "source": [
    "taylor(cosh(sqrt(x)), x, 0, 5)"
   ]
  },
  {
   "cell_type": "code",
   "execution_count": 20,
   "id": "21eaf2a3",
   "metadata": {},
   "outputs": [
    {
     "data": {
      "text/plain": [
       "(x, y) |--> c_0x*e^(A_0x*x + sqrt(-A_0x^2 - E + Vbar)*y) + c_0y*e^(A_0y*y + sqrt(-A_0y^2 - E + Vbar)*x)"
      ]
     },
     "execution_count": 20,
     "metadata": {},
     "output_type": "execute_result"
    }
   ],
   "source": [
    "n = 1\n",
    "cx = [var(f'c_{i}x') for i in range(n)]\n",
    "cy = [var(f'c_{i}y') for i in range(n)]\n",
    "\n",
    "A = []\n",
    "Ax = [var(f'A_{i}x') for i in range(n)]\n",
    "Ay = [var(f'A_{i}y') for i in range(n)]\n",
    "\n",
    "var('E, Vbar')\n",
    "Z = Vbar - E\n",
    "\n",
    "f(x, y) = sum(cx[i]*exp(Ax[i]*x + sqrt(Z - Ax[i]**2)*y) for i in range(n)) + sum(cy[i]*exp(Ay[i]*y + sqrt(Z - Ay[i]**2)*x) for i in range(n))\n",
    "f"
   ]
  },
  {
   "cell_type": "code",
   "execution_count": 21,
   "id": "00f68fc1",
   "metadata": {},
   "outputs": [
    {
     "data": {
      "text/plain": [
       "(x, y) |--> 0"
      ]
     },
     "execution_count": 21,
     "metadata": {},
     "output_type": "execute_result"
    }
   ],
   "source": [
    "(-(diff(f, x, x) + diff(f, y, y)) + Z * f).simplify_full()"
   ]
  },
  {
   "cell_type": "code",
   "execution_count": 30,
   "id": "9328f92e",
   "metadata": {},
   "outputs": [
    {
     "data": {
      "text/plain": [
       "A_0y*c_0y*e^(sqrt(-A_0y^2 - E + Vbar)*x) + sqrt(-A_0x^2 - E + Vbar)*c_0x*e^(A_0x*x)"
      ]
     },
     "execution_count": 30,
     "metadata": {},
     "output_type": "execute_result"
    }
   ],
   "source": [
    "diff(f, y)(x, 0)"
   ]
  },
  {
   "cell_type": "code",
   "execution_count": 31,
   "id": "895700dd",
   "metadata": {},
   "outputs": [
    {
     "data": {
      "text/plain": [
       "[psi_0, psi_1, psi_2, psi_3, psi_4]"
      ]
     },
     "execution_count": 31,
     "metadata": {},
     "output_type": "execute_result"
    }
   ],
   "source": [
    "var('psi')\n",
    "psi_k = [var(f'psi_{i}') for i in range(5)]\n",
    "\n"
   ]
  },
  {
   "cell_type": "code",
   "execution_count": 42,
   "id": "cccfe40b",
   "metadata": {},
   "outputs": [
    {
     "data": {
      "text/plain": [
       "[{B: -1/18*(-I*sqrt(3) + 1)*(4*sin(pi*B)^2/pi^2 + 3)/(-1/6*sin(pi*B)/pi + 8/27*sin(pi*B)^3/pi^3 + 1/6*sqrt(-4/3*pi^4 - 13/3*pi^2*sin(pi*B)^2 - 32/3*sin(pi*B)^4)/pi^2)^(1/3) - 1/2*(I*sqrt(3) + 1)*(-1/6*sin(pi*B)/pi + 8/27*sin(pi*B)^3/pi^3 + 1/6*sqrt(-4/3*pi^4 - 13/3*pi^2*sin(pi*B)^2 - 32/3*sin(pi*B)^4)/pi^2)^(1/3) + 2/3*sin(pi*B)/pi},\n",
       " {B: -1/18*(I*sqrt(3) + 1)*(4*sin(pi*B)^2/pi^2 + 3)/(-1/6*sin(pi*B)/pi + 8/27*sin(pi*B)^3/pi^3 + 1/6*sqrt(-4/3*pi^4 - 13/3*pi^2*sin(pi*B)^2 - 32/3*sin(pi*B)^4)/pi^2)^(1/3) - 1/2*(-I*sqrt(3) + 1)*(-1/6*sin(pi*B)/pi + 8/27*sin(pi*B)^3/pi^3 + 1/6*sqrt(-4/3*pi^4 - 13/3*pi^2*sin(pi*B)^2 - 32/3*sin(pi*B)^4)/pi^2)^(1/3) + 2/3*sin(pi*B)/pi},\n",
       " {B: 1/9*(4*sin(pi*B)^2/pi^2 + 3)/(-1/6*sin(pi*B)/pi + 8/27*sin(pi*B)^3/pi^3 + 1/6*sqrt(-4/3*pi^4 - 13/3*pi^2*sin(pi*B)^2 - 32/3*sin(pi*B)^4)/pi^2)^(1/3) + (-1/6*sin(pi*B)/pi + 8/27*sin(pi*B)^3/pi^3 + 1/6*sqrt(-4/3*pi^4 - 13/3*pi^2*sin(pi*B)^2 - 32/3*sin(pi*B)^4)/pi^2)^(1/3) + 2/3*sin(pi*B)/pi}]"
      ]
     },
     "execution_count": 42,
     "metadata": {},
     "output_type": "execute_result"
    }
   ],
   "source": [
    "var('A, B, x')\n",
    "v = solve(integrate((cos(x)-1)*(cos(B*x) - 1), x, 0, pi) == 0, (B,), solution_dict=True)\n",
    "v"
   ]
  },
  {
   "cell_type": "code",
   "execution_count": 60,
   "id": "56ff8b90",
   "metadata": {},
   "outputs": [
    {
     "name": "stdout",
     "output_type": "stream",
     "text": [
      "sqrt(2)*(sqrt(2)*cosh(pi*x)*e^pi - sqrt(2)*e^pi)*(e^(2*pi) - 1)/(12*pi*e^(2*pi) - 16*e^(2*pi)*sinh(pi) + e^(4*pi) - 1) + cos(pi*x)\n",
      "-2/5*sqrt(2)*(sqrt(2)*cosh(pi*x)*e^pi - sqrt(2)*e^pi)*(e^(2*pi) - 1)/(12*pi*e^(2*pi) - 16*e^(2*pi)*sinh(pi) + e^(4*pi) - 1) - 1/5*(12*pi^2*e^(2*pi) - 16*pi*e^(2*pi)*sinh(pi) + pi*(e^(4*pi) - 1))*((12*sqrt(2)*pi*e^(2*pi) - 16*sqrt(2)*e^(2*pi)*sinh(pi) + sqrt(2)*e^(4*pi) - sqrt(2))*cos(pi*x) - 2*(sqrt(2)*e^pi - sqrt(2)*e^(3*pi))*cosh(pi*x) + 2*sqrt(2)*e^pi - 2*sqrt(2)*e^(3*pi))*(sqrt(2)*e^(4*pi) - 2*sqrt(2)*e^(2*pi) + sqrt(2))/(pi*(12*pi^2*e^(2*pi) - 16*pi*e^(2*pi)*sinh(pi) + pi*(e^(4*pi) - 1) - e^(4*pi) + 2*e^(2*pi) - 1)*(12*pi*e^(2*pi) - 16*e^(2*pi)*sinh(pi) + e^(4*pi) - 1)^2) + cos(2*pi*x)\n"
     ]
    }
   ],
   "source": [
    "def dot(u, v):\n",
    "    return integrate(u*v, x, 0, 1)\n",
    "\n",
    "fs = [cosh(pi*x)-1]\n",
    "fs[-1] = (fs[-1]/sqrt(dot(fs[-1], fs[-1]))).simplify_full()\n",
    "\n",
    "for i in range(1, 3):\n",
    "    c = cos(x*i*pi)\n",
    "    n = c\n",
    "    for f in fs:\n",
    "        n -= dot(f, c)*f\n",
    "    print(n)\n",
    "    n = (n / sqrt(dot(n, n))).simplify_full()\n",
    "    fs.append(n)"
   ]
  },
  {
   "cell_type": "code",
   "execution_count": null,
   "id": "c21b181b",
   "metadata": {},
   "outputs": [],
   "source": [
    "sum(plot(f, (x, 0, 1), color=hue(golden_ratio*i)) for i, f in enumerate(fs))"
   ]
  },
  {
   "cell_type": "code",
   "execution_count": null,
   "id": "cc003d24",
   "metadata": {},
   "outputs": [],
   "source": []
  }
 ],
 "metadata": {
  "kernelspec": {
   "display_name": "SageMath 9.5",
   "language": "sage",
   "name": "sagemath"
  },
  "language_info": {
   "codemirror_mode": {
    "name": "ipython",
    "version": 3
   },
   "file_extension": ".py",
   "mimetype": "text/x-python",
   "name": "python",
   "nbconvert_exporter": "python",
   "pygments_lexer": "ipython3",
   "version": "3.9.9"
  }
 },
 "nbformat": 4,
 "nbformat_minor": 5
}
