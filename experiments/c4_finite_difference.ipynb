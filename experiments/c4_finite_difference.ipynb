{
 "cells": [
  {
   "cell_type": "code",
   "execution_count": 36,
   "id": "77b41d0c-be3b-45ae-b589-738acfc6e496",
   "metadata": {},
   "outputs": [],
   "source": [
    "coeffs = {}\n",
    "for left in range(-8, -1):\n",
    "    for right in range(1, 8):\n",
    "        n = right - left + 1\n",
    "        S = matrix(QQ, n, n)\n",
    "        for row in range(n):\n",
    "            for c in range(left, right+1):\n",
    "                S[row, c-left] = c**row\n",
    "        rhs = vector(QQ, n)\n",
    "        rhs[2]=1\n",
    "        coeffs[left, right] = S.solve_right(rhs)"
   ]
  },
  {
   "cell_type": "code",
   "execution_count": null,
   "id": "cfca30f8-c565-4fb0-a1bb-171722c22646",
   "metadata": {},
   "outputs": [],
   "source": [
    "\n",
    "\n"
   ]
  },
  {
   "cell_type": "code",
   "execution_count": null,
   "id": "f8676b4f-ec3f-4972-8eea-ea2f9e44f786",
   "metadata": {},
   "outputs": [],
   "source": [
    "\n",
    "\n"
   ]
  }
 ],
 "metadata": {
  "kernelspec": {
   "display_name": "SageMath 9.5",
   "language": "sage",
   "name": "sagemath"
  },
  "language_info": {
   "codemirror_mode": {
    "name": "ipython",
    "version": 3
   },
   "file_extension": ".py",
   "mimetype": "text/x-python",
   "name": "python",
   "nbconvert_exporter": "python",
   "pygments_lexer": "ipython3",
   "version": "3.9.9"
  }
 },
 "nbformat": 4,
 "nbformat_minor": 5
}
