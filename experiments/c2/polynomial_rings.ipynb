{
 "cells": [
  {
   "cell_type": "code",
   "execution_count": 27,
   "id": "6152820b-44ed-44d3-a188-7c1afd7bde80",
   "metadata": {
    "execution": {
     "iopub.execute_input": "2023-03-06T11:16:56.407889Z",
     "iopub.status.busy": "2023-03-06T11:16:56.406150Z",
     "iopub.status.idle": "2023-03-06T11:16:56.425257Z",
     "shell.execute_reply": "2023-03-06T11:16:56.423949Z",
     "shell.execute_reply.started": "2023-03-06T11:16:56.407800Z"
    },
    "tags": []
   },
   "outputs": [
    {
     "data": {
      "text/plain": [
       "V_{0} V_{1} \\delta^{2} + 2 V_{0} V_{1} h \\delta + V_{0} V_{1} h^{2}"
      ]
     },
     "execution_count": 27,
     "metadata": {},
     "output_type": "execute_result"
    }
   ],
   "source": [
    "pr_V = QQ['V0', 'V1', 'V2']\n",
    "pr_h = pr_V['h']\n",
    "pr_δ = pr_h['delta']\n",
    "\n",
    "V0, V1, V2 = pr_V.gens()\n",
    "h = pr_h.gen()\n",
    "δ = pr_δ.gen()\n",
    "\n",
    "latex(V1 * (δ + h) ** 2 * V0)"
   ]
  },
  {
   "cell_type": "code",
   "execution_count": 12,
   "id": "ae1e6958-7904-4c95-812f-01432938464a",
   "metadata": {
    "execution": {
     "iopub.execute_input": "2023-03-06T11:08:23.256865Z",
     "iopub.status.busy": "2023-03-06T11:08:23.255389Z",
     "iopub.status.idle": "2023-03-06T11:08:23.265857Z",
     "shell.execute_reply": "2023-03-06T11:08:23.264614Z",
     "shell.execute_reply.started": "2023-03-06T11:08:23.256809Z"
    },
    "tags": []
   },
   "outputs": [
    {
     "data": {
      "text/plain": [
       "Univariate Polynomial Ring in δ over Univariate Polynomial Ring in h over Multivariate Polynomial Ring in V0, V1, V2 over Rational Field"
      ]
     },
     "execution_count": 12,
     "metadata": {},
     "output_type": "execute_result"
    }
   ],
   "source": [
    "polynomial_ring"
   ]
  },
  {
   "cell_type": "code",
   "execution_count": 29,
   "id": "69a25e22-5ff2-4e6c-97f3-efd48f3b7502",
   "metadata": {
    "execution": {
     "iopub.execute_input": "2023-03-06T11:20:48.299481Z",
     "iopub.status.busy": "2023-03-06T11:20:48.298066Z",
     "iopub.status.idle": "2023-03-06T11:20:48.320214Z",
     "shell.execute_reply": "2023-03-06T11:20:48.318411Z",
     "shell.execute_reply.started": "2023-03-06T11:20:48.299396Z"
    },
    "tags": []
   },
   "outputs": [
    {
     "data": {
      "text/plain": [
       "V_{0}^{2} + V_{0} V_{1} + V_{1} V_{0} + V_{1}^{2}"
      ]
     },
     "execution_count": 29,
     "metadata": {},
     "output_type": "execute_result"
    }
   ],
   "source": [
    "pr_V = FreeAlgebra(QQ, ['V0', 'V1', 'V2'])\n",
    "\n",
    "latex((V1 + V0) ** 2)"
   ]
  },
  {
   "cell_type": "code",
   "execution_count": null,
   "id": "ba7fb2b9-48d8-41a9-b185-8c7fdaebdc20",
   "metadata": {},
   "outputs": [],
   "source": []
  }
 ],
 "metadata": {
  "kernelspec": {
   "display_name": "SageMath 9.5",
   "language": "sage",
   "name": "sagemath"
  },
  "language_info": {
   "codemirror_mode": {
    "name": "ipython",
    "version": 3
   },
   "file_extension": ".py",
   "mimetype": "text/x-python",
   "name": "python",
   "nbconvert_exporter": "python",
   "pygments_lexer": "ipython3",
   "version": "3.9.9"
  }
 },
 "nbformat": 4,
 "nbformat_minor": 5
}
