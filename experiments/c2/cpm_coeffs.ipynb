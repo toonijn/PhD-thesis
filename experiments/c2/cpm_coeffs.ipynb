{
 "cells": [
  {
   "cell_type": "code",
   "execution_count": 46,
   "id": "995ba1bb-6b62-4575-ac52-87c23633634d",
   "metadata": {
    "execution": {
     "iopub.execute_input": "2022-11-21T14:16:32.048829Z",
     "iopub.status.busy": "2022-11-21T14:16:32.047004Z",
     "iopub.status.idle": "2022-11-21T14:16:32.439626Z",
     "shell.execute_reply": "2022-11-21T14:16:32.439116Z",
     "shell.execute_reply.started": "2022-11-21T14:16:32.048688Z"
    },
    "tags": []
   },
   "outputs": [],
   "source": [
    "var('d, F')\n",
    "Z = F * d\n",
    "\n",
    "eta = {\n",
    "    -1: cosh(sqrt(F)*d),\n",
    "    0: sinh(sqrt(F)*d)/(sqrt(F)*d)\n",
    "}\n",
    "for m in range(1, 8):\n",
    "    eta[m] = ((eta[m-2] - (2*m-1)*eta[m-1])/Z).simplify_full()"
   ]
  },
  {
   "cell_type": "code",
   "execution_count": 86,
   "id": "fd91ab9a-f453-4cbd-97b6-40da125eb953",
   "metadata": {
    "execution": {
     "iopub.execute_input": "2022-11-21T14:26:53.617650Z",
     "iopub.status.busy": "2022-11-21T14:26:53.616253Z",
     "iopub.status.idle": "2022-11-21T14:26:55.083659Z",
     "shell.execute_reply": "2022-11-21T14:26:55.082931Z",
     "shell.execute_reply.started": "2022-11-21T14:26:53.617546Z"
    },
    "tags": []
   },
   "outputs": [],
   "source": [
    "var('e')\n",
    "\n",
    "forget()\n",
    "assume(d > 0)\n",
    "\n",
    "as_u = True\n",
    "dV = sum(var(f'V_{i}')*d**i for i in range(1, 3))\n",
    "\n",
    "i_max = 3\n",
    "q_max = 4\n",
    "\n",
    "# q, i\n",
    "C = {\n",
    "    (0, i): d if i == -1 and as_u else 1 if not as_u and i == 0 else 0 for i in range(-1, i_max+1)\n",
    "}\n",
    "for q in range(1, q_max+1):\n",
    "    C[q, -1] = 0\n",
    "    for i in range(0, i_max+1):\n",
    "        C[q, i] = (d**(-i)/2*integrate(e**(i-1)*(C[q-1, i-1].subs(d=e)*dV.subs(d=e) - diff(C[q, i-1], d, d).subs(d=e)), e, 0, d)).simplify_full()\n",
    "\n",
    "ps = [sum(C[q, i]*eta[i]*d**(2*i+1) for i in range(-1, i_max+1)) for q in range(0, q_max+1)]\n",
    "p = sum(ps)\n",
    "r = (diff(p, d, d) - (dV + F)*p).simplify_full()"
   ]
  },
  {
   "cell_type": "code",
   "execution_count": 87,
   "id": "e3462c37-4599-46db-9721-e40bb8e4f88e",
   "metadata": {
    "execution": {
     "iopub.execute_input": "2022-11-21T14:26:55.085814Z",
     "iopub.status.busy": "2022-11-21T14:26:55.085218Z",
     "iopub.status.idle": "2022-11-21T14:26:55.119998Z",
     "shell.execute_reply": "2022-11-21T14:26:55.119141Z",
     "shell.execute_reply.started": "2022-11-21T14:26:55.085775Z"
    },
    "tags": []
   },
   "outputs": [
    {
     "data": {
      "text/plain": [
       "-(V_1 - V_2)*d^2 + 1/2*V_1*d + 1/24*(2*F^3*V_1 - 35*F*V_1^2 - 20*(2*F^2 + 5*V_1)*V_2)*d^3/F^2"
      ]
     },
     "execution_count": 87,
     "metadata": {},
     "output_type": "execute_result"
    }
   ],
   "source": [
    "taylor(r, d, 0, 3)"
   ]
  },
  {
   "cell_type": "code",
   "execution_count": 88,
   "id": "1ea0239c-1000-4ffa-842b-9dee626995f5",
   "metadata": {
    "execution": {
     "iopub.execute_input": "2022-11-21T14:26:55.123087Z",
     "iopub.status.busy": "2022-11-21T14:26:55.121503Z",
     "iopub.status.idle": "2022-11-21T14:26:55.142248Z",
     "shell.execute_reply": "2022-11-21T14:26:55.141148Z",
     "shell.execute_reply.started": "2022-11-21T14:26:55.123024Z"
    },
    "tags": []
   },
   "outputs": [
    {
     "data": {
      "text/plain": [
       "0"
      ]
     },
     "execution_count": 88,
     "metadata": {},
     "output_type": "execute_result"
    }
   ],
   "source": [
    "(diff(ps[0], d, d) - F*ps[0]).simplify_full()"
   ]
  },
  {
   "cell_type": "code",
   "execution_count": 89,
   "id": "19ce0e3b-06a5-4470-8b39-7be80884f8e5",
   "metadata": {
    "execution": {
     "iopub.execute_input": "2022-11-21T14:26:55.144365Z",
     "iopub.status.busy": "2022-11-21T14:26:55.143586Z",
     "iopub.status.idle": "2022-11-21T14:26:55.151245Z",
     "shell.execute_reply": "2022-11-21T14:26:55.150248Z",
     "shell.execute_reply.started": "2022-11-21T14:26:55.144313Z"
    },
    "tags": []
   },
   "outputs": [
    {
     "data": {
      "text/plain": [
       "cosh(sqrt(F)*d)"
      ]
     },
     "execution_count": 89,
     "metadata": {},
     "output_type": "execute_result"
    }
   ],
   "source": [
    "ps[0]"
   ]
  },
  {
   "cell_type": "code",
   "execution_count": 64,
   "id": "d23e1cf3-f6c1-4b86-abfb-8945ffaeda20",
   "metadata": {
    "execution": {
     "iopub.execute_input": "2022-11-21T14:19:03.722671Z",
     "iopub.status.busy": "2022-11-21T14:19:03.719854Z",
     "iopub.status.idle": "2022-11-21T14:19:03.741945Z",
     "shell.execute_reply": "2022-11-21T14:19:03.740147Z",
     "shell.execute_reply.started": "2022-11-21T14:19:03.722554Z"
    },
    "tags": []
   },
   "outputs": [
    {
     "data": {
      "text/plain": [
       "{(0, -1): 0,\n",
       " (0, 0): 1,\n",
       " (0, 1): 0,\n",
       " (0, 2): 0,\n",
       " (0, 3): 0,\n",
       " (1, -1): 0,\n",
       " (1, 0): 0,\n",
       " (1, 1): 1/6*V_2*d^2 + 1/4*V_1*d,\n",
       " (1, 2): -1/12*V_2,\n",
       " (1, 3): 0,\n",
       " (2, -1): 0,\n",
       " (2, 0): 0,\n",
       " (2, 1): 0,\n",
       " (2, 2): 1/72*V_2^2*d^4 + 1/24*V_1*V_2*d^3 + 1/32*V_1^2*d^2,\n",
       " (2, 3): -1/40*V_2^2*d^2 - 1/24*V_1*V_2*d - 1/96*V_1^2,\n",
       " (3, -1): 0,\n",
       " (3, 0): 0,\n",
       " (3, 1): 0,\n",
       " (3, 2): 0,\n",
       " (3,\n",
       "  3): 1/1296*V_2^3*d^6 + 1/288*V_1*V_2^2*d^5 + 1/192*V_1^2*V_2*d^4 + 1/384*V_1^3*d^3,\n",
       " (4, -1): 0,\n",
       " (4, 0): 0,\n",
       " (4, 1): 0,\n",
       " (4, 2): 0,\n",
       " (4, 3): 0}"
      ]
     },
     "execution_count": 64,
     "metadata": {},
     "output_type": "execute_result"
    }
   ],
   "source": [
    "C"
   ]
  },
  {
   "cell_type": "code",
   "execution_count": null,
   "id": "429301fd-1ae1-410f-9577-4fc864d5cc67",
   "metadata": {},
   "outputs": [],
   "source": []
  }
 ],
 "metadata": {
  "kernelspec": {
   "display_name": "SageMath 9.5",
   "language": "sage",
   "name": "sagemath"
  },
  "language_info": {
   "codemirror_mode": {
    "name": "ipython",
    "version": 3
   },
   "file_extension": ".py",
   "mimetype": "text/x-python",
   "name": "python",
   "nbconvert_exporter": "python",
   "pygments_lexer": "ipython3",
   "version": "3.9.9"
  }
 },
 "nbformat": 4,
 "nbformat_minor": 5
}
