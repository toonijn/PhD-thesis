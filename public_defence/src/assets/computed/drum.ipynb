{
 "cells": [
  {
   "cell_type": "code",
   "execution_count": 1,
   "id": "f3df8eae-3c79-448c-9625-2287b674cb7f",
   "metadata": {
    "execution": {
     "iopub.execute_input": "2023-06-26T16:12:35.992021Z",
     "iopub.status.busy": "2023-06-26T16:12:35.989789Z",
     "iopub.status.idle": "2023-06-26T16:12:36.346681Z",
     "shell.execute_reply": "2023-06-26T16:12:36.345974Z",
     "shell.execute_reply.started": "2023-06-26T16:12:35.991810Z"
    },
    "tags": []
   },
   "outputs": [],
   "source": [
    "from scipy import special\n",
    "import numpy as np\n",
    "\n",
    "def drumhead_height(n, k, distance, angle, offset=0):\n",
    "    kth_zero = special.jn_zeros(n, k)[-1]\n",
    "    E = kth_zero ** 2\n",
    "    jn = special.jn(n, distance*kth_zero)\n",
    "    eigf = [np.cos(n*angle) * jn]\n",
    "    if n > 0:\n",
    "        eigf.append(np.sin(n*angle) * jn)\n",
    "    return E, eigf\n",
    "\n",
    "\n",
    "theta = np.r_[0:2*np.pi:60j][:-1]\n",
    "radius = np.r_[0:1:40j]\n",
    "x = np.array([r * np.cos(theta) for r in radius])\n",
    "y = np.array([r * np.sin(theta) for r in radius])"
   ]
  },
  {
   "cell_type": "code",
   "execution_count": 2,
   "id": "e2bea4c2-6cc5-414d-83d8-0d84b95cfb64",
   "metadata": {
    "execution": {
     "iopub.execute_input": "2023-06-26T16:12:36.536676Z",
     "iopub.status.busy": "2023-06-26T16:12:36.534273Z",
     "iopub.status.idle": "2023-06-26T16:12:37.605846Z",
     "shell.execute_reply": "2023-06-26T16:12:37.605130Z",
     "shell.execute_reply.started": "2023-06-26T16:12:36.536583Z"
    },
    "tags": []
   },
   "outputs": [],
   "source": [
    "R, T = np.meshgrid(radius, theta)\n",
    "\n",
    "eigs = []\n",
    "for n in range(20):\n",
    "    for k in range(1, 20):\n",
    "        eigs.append(drumhead_height(n, k, R, T, 0.5))\n",
    "eigs.sort()\n",
    "eigs = eigs[:20]"
   ]
  },
  {
   "cell_type": "code",
   "execution_count": 3,
   "id": "be34f6a7-b8ca-4dd4-86e6-beef7ca4192b",
   "metadata": {
    "execution": {
     "iopub.execute_input": "2023-06-26T16:12:38.297360Z",
     "iopub.status.busy": "2023-06-26T16:12:38.296814Z",
     "iopub.status.idle": "2023-06-26T16:12:38.412709Z",
     "shell.execute_reply": "2023-06-26T16:12:38.411735Z",
     "shell.execute_reply.started": "2023-06-26T16:12:38.297333Z"
    },
    "tags": []
   },
   "outputs": [
    {
     "name": "stdout",
     "output_type": "stream",
     "text": [
      "5.783185962946785 1\n",
      "14.681970642123895 2\n",
      "26.374616427163392 2\n",
      "30.471262343662087 1\n",
      "40.70646581820033 2\n",
      "49.2184563216946 2\n",
      "57.58294090329111 2\n",
      "70.84999891909585 2\n",
      "74.88700679069518 1\n",
      "76.9389283336474 2\n",
      "95.27757254403716 2\n",
      "98.72627247724938 2\n",
      "103.49945389513657 2\n",
      "122.42779606492816 2\n",
      "122.90760020361625 2\n",
      "135.02070886597045 2\n",
      "139.04028442645983 1\n",
      "149.4528808634265 2\n",
      "152.2411535417489 2\n",
      "169.39544982609945 2\n"
     ]
    }
   ],
   "source": [
    "import json\n",
    "with open(\"drum.json\", 'w') as f:\n",
    "    json.dump({\n",
    "        \"x\": list(map(list, x)),\n",
    "        \"y\": list(map(list, y)),\n",
    "        \"eigs\": [{\n",
    "            'E': E,\n",
    "            'zs': [list(map(list, f)) for f in fs]\n",
    "        } for E, fs in eigs[:6]]\n",
    "    }, f)\n",
    "\n",
    "for E, fs in eigs:\n",
    "    print(E, len(fs))"
   ]
  },
  {
   "cell_type": "code",
   "execution_count": 12,
   "id": "7fe514f1-8ba2-4e25-bbbb-2b062d0bc7da",
   "metadata": {
    "execution": {
     "iopub.execute_input": "2023-06-26T16:25:42.683098Z",
     "iopub.status.busy": "2023-06-26T16:25:42.681979Z",
     "iopub.status.idle": "2023-06-26T16:25:42.711011Z",
     "shell.execute_reply": "2023-06-26T16:25:42.709882Z",
     "shell.execute_reply.started": "2023-06-26T16:25:42.682998Z"
    },
    "tags": []
   },
   "outputs": [
    {
     "data": {
      "text/plain": [
       "array([[1, 2],\n",
       "       [3, 4]])"
      ]
     },
     "execution_count": 12,
     "metadata": {},
     "output_type": "execute_result"
    }
   ],
   "source": [
    "a = np.array([[1, 2],[3,4]])\n",
    "a"
   ]
  },
  {
   "cell_type": "code",
   "execution_count": 26,
   "id": "a32505df-b1a8-4720-b12a-e0b1ccf2939d",
   "metadata": {
    "execution": {
     "iopub.execute_input": "2023-06-26T16:27:30.529414Z",
     "iopub.status.busy": "2023-06-26T16:27:30.528589Z",
     "iopub.status.idle": "2023-06-26T16:27:30.542523Z",
     "shell.execute_reply": "2023-06-26T16:27:30.540805Z",
     "shell.execute_reply.started": "2023-06-26T16:27:30.529340Z"
    },
    "tags": []
   },
   "outputs": [
    {
     "data": {
      "text/plain": [
       "[array([[ 1.00000000e+00,  9.99049669e-01,  9.96201387e-01, ...,\n",
       "          6.55570735e-02,  3.24087873e-02, -1.02392318e-16],\n",
       "        [ 1.00000000e+00,  9.99049669e-01,  9.96201387e-01, ...,\n",
       "          6.55570735e-02,  3.24087873e-02, -1.02392318e-16],\n",
       "        [ 1.00000000e+00,  9.99049669e-01,  9.96201387e-01, ...,\n",
       "          6.55570735e-02,  3.24087873e-02, -1.02392318e-16],\n",
       "        ...,\n",
       "        [ 1.00000000e+00,  9.99049669e-01,  9.96201387e-01, ...,\n",
       "          6.55570735e-02,  3.24087873e-02, -1.02392318e-16],\n",
       "        [ 1.00000000e+00,  9.99049669e-01,  9.96201387e-01, ...,\n",
       "          6.55570735e-02,  3.24087873e-02, -1.02392318e-16],\n",
       "        [ 1.00000000e+00,  9.99049669e-01,  9.96201387e-01, ...,\n",
       "          6.55570735e-02,  3.24087873e-02, -1.02392318e-16]])]"
      ]
     },
     "execution_count": 26,
     "metadata": {},
     "output_type": "execute_result"
    }
   ],
   "source": []
  },
  {
   "cell_type": "code",
   "execution_count": 42,
   "id": "64a02a9e-45b1-4b6b-b563-8ee7d6b3d044",
   "metadata": {
    "execution": {
     "iopub.execute_input": "2023-06-26T17:18:11.842345Z",
     "iopub.status.busy": "2023-06-26T17:18:11.840742Z",
     "iopub.status.idle": "2023-06-26T17:18:11.854784Z",
     "shell.execute_reply": "2023-06-26T17:18:11.853265Z",
     "shell.execute_reply.started": "2023-06-26T17:18:11.842280Z"
    },
    "tags": []
   },
   "outputs": [
    {
     "data": {
      "text/plain": [
       "(array([[0.        , 0.        , 0.        , ..., 0.        , 0.        ,\n",
       "         0.        ],\n",
       "        [0.02564103, 0.02549576, 0.02506163, ..., 0.02434353, 0.02506163,\n",
       "         0.02549576],\n",
       "        [0.05128205, 0.05099153, 0.05012325, ..., 0.04868706, 0.05012325,\n",
       "         0.05099153],\n",
       "        ...,\n",
       "        [0.94871795, 0.94334327, 0.92728014, ..., 0.90071055, 0.92728014,\n",
       "         0.94334327],\n",
       "        [0.97435897, 0.96883904, 0.95234176, ..., 0.92505408, 0.95234176,\n",
       "         0.96883904],\n",
       "        [1.        , 0.9943348 , 0.97740339, ..., 0.94939761, 0.97740339,\n",
       "         0.9943348 ]]),\n",
       " array([[ 0.        ,  0.        ,  0.        , ..., -0.        ,\n",
       "         -0.        , -0.        ],\n",
       "        [ 0.        ,  0.00272547,  0.00542007, ..., -0.00805325,\n",
       "         -0.00542007, -0.00272547],\n",
       "        [ 0.        ,  0.00545095,  0.01084013, ..., -0.0161065 ,\n",
       "         -0.01084013, -0.00545095],\n",
       "        ...,\n",
       "        [ 0.        ,  0.10084254,  0.20054249, ..., -0.29797021,\n",
       "         -0.20054249, -0.10084254],\n",
       "        [ 0.        ,  0.10356801,  0.20596256, ..., -0.30602346,\n",
       "         -0.20596256, -0.10356801],\n",
       "        [ 0.        ,  0.10629349,  0.21138262, ..., -0.31407671,\n",
       "         -0.21138262, -0.10629349]]))"
      ]
     },
     "execution_count": 42,
     "metadata": {},
     "output_type": "execute_result"
    }
   ],
   "source": [
    "x, y"
   ]
  },
  {
   "cell_type": "code",
   "execution_count": 50,
   "id": "a0166631-1510-45cb-aa7d-c9f292597812",
   "metadata": {
    "execution": {
     "iopub.execute_input": "2023-06-26T17:46:31.427164Z",
     "iopub.status.busy": "2023-06-26T17:46:31.426741Z",
     "iopub.status.idle": "2023-06-26T17:46:38.530082Z",
     "shell.execute_reply": "2023-06-26T17:46:38.528980Z",
     "shell.execute_reply.started": "2023-06-26T17:46:31.427134Z"
    },
    "tags": []
   },
   "outputs": [],
   "source": [
    "import json\n",
    "from scipy.interpolate import CloughTocher2DInterpolator\n",
    "\n",
    "def interpolate_strand(t, z, xdirection=True):\n",
    "    f = CloughTocher2DInterpolator(\n",
    "        list(zip(x.flatten(), y.flatten())) if xdirection else list(zip(y.flatten(), x.flatten())),\n",
    "        z.T.flatten())\n",
    "    \n",
    "    h = 1e-3\n",
    "    b = np.sqrt(1 - t*t) - 1e-2\n",
    "    ts = np.linspace(-b, b, round(14*b))\n",
    "    \n",
    "    mid = f(t, ts)\n",
    "    left = f(t, ts[1:] - h)\n",
    "    right = f(t, ts[:-1] + h)\n",
    "    return {\n",
    "        't': t,\n",
    "        'ts': list(ts),\n",
    "        'strand': list(zip(list(mid), [(right[0] - mid[0])/h, *(right[1:] - left[:-1])/(2*h), (mid[-1] - left[-1])/h]))\n",
    "    }\n",
    "\n",
    "ts = np.linspace(-1, 1, 8)[1:-1]\n",
    "\n",
    "with open(\"drum_strands.json\", 'w') as f:\n",
    "    json.dump({\n",
    "        \"eigs\": [{\n",
    "            'E': E,\n",
    "            'zs': [{\n",
    "                'x': [interpolate_strand(t, z, True) for t in ts],\n",
    "                'y': [interpolate_strand(t, z, False) for t in ts]\n",
    "            } for z in zs]\n",
    "        } for E, zs in eigs[:6]]\n",
    "    }, f)"
   ]
  },
  {
   "cell_type": "code",
   "execution_count": 14,
   "id": "9ee12a14-f721-4425-a977-c0cbdd28fd2d",
   "metadata": {
    "execution": {
     "iopub.execute_input": "2023-06-26T10:13:48.752796Z",
     "iopub.status.busy": "2023-06-26T10:13:48.751968Z",
     "iopub.status.idle": "2023-06-26T10:13:48.765664Z",
     "shell.execute_reply": "2023-06-26T10:13:48.764151Z",
     "shell.execute_reply.started": "2023-06-26T10:13:48.752722Z"
    },
    "tags": []
   },
   "outputs": [
    {
     "name": "stdout",
     "output_type": "stream",
     "text": [
      "E_{0} \\approx 5.78\n",
      "E_{1} = E_{2} \\approx 14.68\n",
      "E_{3} = E_{4} \\approx 26.37\n",
      "E_{5} \\approx 30.47\n",
      "E_{6} = E_{7} \\approx 40.71\n",
      "E_{8} = E_{9} \\approx 49.22\n",
      "E_{10} = E_{11} \\approx 57.58\n",
      "E_{12} = E_{13} \\approx 70.85\n",
      "E_{14} \\approx 74.89\n",
      "E_{15} = E_{16} \\approx 76.94\n",
      "E_{17} = E_{18} \\approx 95.28\n",
      "E_{19} = E_{20} \\approx 98.73\n",
      "E_{21} = E_{22} \\approx 103.50\n",
      "E_{23} = E_{24} \\approx 122.43\n",
      "E_{25} = E_{26} \\approx 122.91\n",
      "E_{27} = E_{28} \\approx 135.02\n",
      "E_{29} \\approx 139.04\n",
      "E_{30} = E_{31} \\approx 149.45\n",
      "E_{32} = E_{33} \\approx 152.24\n",
      "E_{34} = E_{35} \\approx 169.40\n"
     ]
    }
   ],
   "source": [
    "i = 0\n",
    "for E, fs in eigs:\n",
    "    r = ' = '.join(f'E_{{{i+j}}}' for j in range(len(fs)))\n",
    "    r += f' \\\\approx {E:.2f}'\n",
    "    print(r)\n",
    "    i += len(fs)"
   ]
  },
  {
   "cell_type": "code",
   "execution_count": 50,
   "id": "0ba6d35c-f092-4284-9eb9-0f5115dedf3d",
   "metadata": {
    "execution": {
     "iopub.execute_input": "2023-06-24T16:15:41.040065Z",
     "iopub.status.busy": "2023-06-24T16:15:41.039540Z",
     "iopub.status.idle": "2023-06-24T16:15:42.865049Z",
     "shell.execute_reply": "2023-06-24T16:15:42.863943Z",
     "shell.execute_reply.started": "2023-06-24T16:15:41.040007Z"
    },
    "tags": []
   },
   "outputs": [
    {
     "ename": "ValueError",
     "evalue": "shape mismatch: objects cannot be broadcast to a single shape.  Mismatch is between arg 0 with shape (40, 60) and arg 2 with shape (50, 50).",
     "output_type": "error",
     "traceback": [
      "\u001b[0;31m---------------------------------------------------------------------------\u001b[0m",
      "\u001b[0;31mValueError\u001b[0m                                Traceback (most recent call last)",
      "Input \u001b[0;32mIn [50]\u001b[0m, in \u001b[0;36m<cell line: 4>\u001b[0;34m()\u001b[0m\n\u001b[1;32m      2\u001b[0m fig \u001b[38;5;241m=\u001b[39m plt\u001b[38;5;241m.\u001b[39mfigure()\n\u001b[1;32m      3\u001b[0m ax \u001b[38;5;241m=\u001b[39m fig\u001b[38;5;241m.\u001b[39madd_axes(rect\u001b[38;5;241m=\u001b[39m(\u001b[38;5;241m0\u001b[39m, \u001b[38;5;241m0.05\u001b[39m, \u001b[38;5;241m0.95\u001b[39m, \u001b[38;5;241m0.95\u001b[39m), projection\u001b[38;5;241m=\u001b[39m\u001b[38;5;124m'\u001b[39m\u001b[38;5;124m3d\u001b[39m\u001b[38;5;124m'\u001b[39m)\n\u001b[0;32m----> 4\u001b[0m \u001b[43max\u001b[49m\u001b[38;5;241;43m.\u001b[39;49m\u001b[43mplot_surface\u001b[49m\u001b[43m(\u001b[49m\u001b[43mx\u001b[49m\u001b[43m,\u001b[49m\u001b[43m \u001b[49m\u001b[43my\u001b[49m\u001b[43m,\u001b[49m\u001b[43m \u001b[49m\u001b[43mz\u001b[49m\u001b[43m,\u001b[49m\u001b[43m \u001b[49m\u001b[43mrstride\u001b[49m\u001b[38;5;241;43m=\u001b[39;49m\u001b[38;5;241;43m1\u001b[39;49m\u001b[43m,\u001b[49m\u001b[43m \u001b[49m\u001b[43mcstride\u001b[49m\u001b[38;5;241;43m=\u001b[39;49m\u001b[38;5;241;43m1\u001b[39;49m\u001b[43m,\u001b[49m\u001b[43m \u001b[49m\u001b[43mcmap\u001b[49m\u001b[38;5;241;43m=\u001b[39;49m\u001b[38;5;124;43m'\u001b[39;49m\u001b[38;5;124;43mRdBu_r\u001b[39;49m\u001b[38;5;124;43m'\u001b[39;49m\u001b[43m,\u001b[49m\u001b[43m \u001b[49m\u001b[43mvmin\u001b[49m\u001b[38;5;241;43m=\u001b[39;49m\u001b[38;5;241;43m-\u001b[39;49m\u001b[38;5;241;43m0.5\u001b[39;49m\u001b[43m,\u001b[49m\u001b[43m \u001b[49m\u001b[43mvmax\u001b[49m\u001b[38;5;241;43m=\u001b[39;49m\u001b[38;5;241;43m0.5\u001b[39;49m\u001b[43m)\u001b[49m\n\u001b[1;32m      5\u001b[0m ax\u001b[38;5;241m.\u001b[39mset_xlabel(\u001b[38;5;124m'\u001b[39m\u001b[38;5;124mX\u001b[39m\u001b[38;5;124m'\u001b[39m)\n\u001b[1;32m      6\u001b[0m ax\u001b[38;5;241m.\u001b[39mset_ylabel(\u001b[38;5;124m'\u001b[39m\u001b[38;5;124mY\u001b[39m\u001b[38;5;124m'\u001b[39m)\n",
      "File \u001b[0;32m/usr/local/lib/python3.9/dist-packages/matplotlib/_api/deprecation.py:415\u001b[0m, in \u001b[0;36mdelete_parameter.<locals>.wrapper\u001b[0;34m(*inner_args, **inner_kwargs)\u001b[0m\n\u001b[1;32m    405\u001b[0m     deprecation_addendum \u001b[38;5;241m=\u001b[39m (\n\u001b[1;32m    406\u001b[0m         \u001b[38;5;124mf\u001b[39m\u001b[38;5;124m\"\u001b[39m\u001b[38;5;124mIf any parameter follows \u001b[39m\u001b[38;5;132;01m{\u001b[39;00mname\u001b[38;5;132;01m!r}\u001b[39;00m\u001b[38;5;124m, they should be passed as \u001b[39m\u001b[38;5;124m\"\u001b[39m\n\u001b[1;32m    407\u001b[0m         \u001b[38;5;124mf\u001b[39m\u001b[38;5;124m\"\u001b[39m\u001b[38;5;124mkeyword, not positionally.\u001b[39m\u001b[38;5;124m\"\u001b[39m)\n\u001b[1;32m    408\u001b[0m     warn_deprecated(\n\u001b[1;32m    409\u001b[0m         since,\n\u001b[1;32m    410\u001b[0m         name\u001b[38;5;241m=\u001b[39m\u001b[38;5;28mrepr\u001b[39m(name),\n\u001b[0;32m   (...)\u001b[0m\n\u001b[1;32m    413\u001b[0m                  \u001b[38;5;28;01melse\u001b[39;00m deprecation_addendum,\n\u001b[1;32m    414\u001b[0m         \u001b[38;5;241m*\u001b[39m\u001b[38;5;241m*\u001b[39mkwargs)\n\u001b[0;32m--> 415\u001b[0m \u001b[38;5;28;01mreturn\u001b[39;00m \u001b[43mfunc\u001b[49m\u001b[43m(\u001b[49m\u001b[38;5;241;43m*\u001b[39;49m\u001b[43minner_args\u001b[49m\u001b[43m,\u001b[49m\u001b[43m \u001b[49m\u001b[38;5;241;43m*\u001b[39;49m\u001b[38;5;241;43m*\u001b[39;49m\u001b[43minner_kwargs\u001b[49m\u001b[43m)\u001b[49m\n",
      "File \u001b[0;32m/usr/local/lib/python3.9/dist-packages/mpl_toolkits/mplot3d/axes3d.py:1584\u001b[0m, in \u001b[0;36mAxes3D.plot_surface\u001b[0;34m(self, X, Y, Z, norm, vmin, vmax, lightsource, *args, **kwargs)\u001b[0m\n\u001b[1;32m   1581\u001b[0m     \u001b[38;5;28;01mraise\u001b[39;00m \u001b[38;5;167;01mValueError\u001b[39;00m(\u001b[38;5;124m\"\u001b[39m\u001b[38;5;124mArgument Z must be 2-dimensional.\u001b[39m\u001b[38;5;124m\"\u001b[39m)\n\u001b[1;32m   1583\u001b[0m Z \u001b[38;5;241m=\u001b[39m cbook\u001b[38;5;241m.\u001b[39m_to_unmasked_float_array(Z)\n\u001b[0;32m-> 1584\u001b[0m X, Y, Z \u001b[38;5;241m=\u001b[39m \u001b[43mnp\u001b[49m\u001b[38;5;241;43m.\u001b[39;49m\u001b[43mbroadcast_arrays\u001b[49m\u001b[43m(\u001b[49m\u001b[43mX\u001b[49m\u001b[43m,\u001b[49m\u001b[43m \u001b[49m\u001b[43mY\u001b[49m\u001b[43m,\u001b[49m\u001b[43m \u001b[49m\u001b[43mZ\u001b[49m\u001b[43m)\u001b[49m\n\u001b[1;32m   1585\u001b[0m rows, cols \u001b[38;5;241m=\u001b[39m Z\u001b[38;5;241m.\u001b[39mshape\n\u001b[1;32m   1587\u001b[0m has_stride \u001b[38;5;241m=\u001b[39m \u001b[38;5;124m'\u001b[39m\u001b[38;5;124mrstride\u001b[39m\u001b[38;5;124m'\u001b[39m \u001b[38;5;129;01min\u001b[39;00m kwargs \u001b[38;5;129;01mor\u001b[39;00m \u001b[38;5;124m'\u001b[39m\u001b[38;5;124mcstride\u001b[39m\u001b[38;5;124m'\u001b[39m \u001b[38;5;129;01min\u001b[39;00m kwargs\n",
      "File \u001b[0;32m<__array_function__ internals>:200\u001b[0m, in \u001b[0;36mbroadcast_arrays\u001b[0;34m(*args, **kwargs)\u001b[0m\n",
      "File \u001b[0;32m/usr/local/lib/python3.9/dist-packages/numpy/lib/stride_tricks.py:540\u001b[0m, in \u001b[0;36mbroadcast_arrays\u001b[0;34m(subok, *args)\u001b[0m\n\u001b[1;32m    533\u001b[0m \u001b[38;5;66;03m# nditer is not used here to avoid the limit of 32 arrays.\u001b[39;00m\n\u001b[1;32m    534\u001b[0m \u001b[38;5;66;03m# Otherwise, something like the following one-liner would suffice:\u001b[39;00m\n\u001b[1;32m    535\u001b[0m \u001b[38;5;66;03m# return np.nditer(args, flags=['multi_index', 'zerosize_ok'],\u001b[39;00m\n\u001b[1;32m    536\u001b[0m \u001b[38;5;66;03m#                  order='C').itviews\u001b[39;00m\n\u001b[1;32m    538\u001b[0m args \u001b[38;5;241m=\u001b[39m [np\u001b[38;5;241m.\u001b[39marray(_m, copy\u001b[38;5;241m=\u001b[39m\u001b[38;5;28;01mFalse\u001b[39;00m, subok\u001b[38;5;241m=\u001b[39msubok) \u001b[38;5;28;01mfor\u001b[39;00m _m \u001b[38;5;129;01min\u001b[39;00m args]\n\u001b[0;32m--> 540\u001b[0m shape \u001b[38;5;241m=\u001b[39m \u001b[43m_broadcast_shape\u001b[49m\u001b[43m(\u001b[49m\u001b[38;5;241;43m*\u001b[39;49m\u001b[43margs\u001b[49m\u001b[43m)\u001b[49m\n\u001b[1;32m    542\u001b[0m \u001b[38;5;28;01mif\u001b[39;00m \u001b[38;5;28mall\u001b[39m(array\u001b[38;5;241m.\u001b[39mshape \u001b[38;5;241m==\u001b[39m shape \u001b[38;5;28;01mfor\u001b[39;00m array \u001b[38;5;129;01min\u001b[39;00m args):\n\u001b[1;32m    543\u001b[0m     \u001b[38;5;66;03m# Common case where nothing needs to be broadcasted.\u001b[39;00m\n\u001b[1;32m    544\u001b[0m     \u001b[38;5;28;01mreturn\u001b[39;00m args\n",
      "File \u001b[0;32m/usr/local/lib/python3.9/dist-packages/numpy/lib/stride_tricks.py:422\u001b[0m, in \u001b[0;36m_broadcast_shape\u001b[0;34m(*args)\u001b[0m\n\u001b[1;32m    417\u001b[0m \u001b[38;5;124;03m\"\"\"Returns the shape of the arrays that would result from broadcasting the\u001b[39;00m\n\u001b[1;32m    418\u001b[0m \u001b[38;5;124;03msupplied arrays against each other.\u001b[39;00m\n\u001b[1;32m    419\u001b[0m \u001b[38;5;124;03m\"\"\"\u001b[39;00m\n\u001b[1;32m    420\u001b[0m \u001b[38;5;66;03m# use the old-iterator because np.nditer does not handle size 0 arrays\u001b[39;00m\n\u001b[1;32m    421\u001b[0m \u001b[38;5;66;03m# consistently\u001b[39;00m\n\u001b[0;32m--> 422\u001b[0m b \u001b[38;5;241m=\u001b[39m \u001b[43mnp\u001b[49m\u001b[38;5;241;43m.\u001b[39;49m\u001b[43mbroadcast\u001b[49m\u001b[43m(\u001b[49m\u001b[38;5;241;43m*\u001b[39;49m\u001b[43margs\u001b[49m\u001b[43m[\u001b[49m\u001b[43m:\u001b[49m\u001b[38;5;241;43m32\u001b[39;49m\u001b[43m]\u001b[49m\u001b[43m)\u001b[49m\n\u001b[1;32m    423\u001b[0m \u001b[38;5;66;03m# unfortunately, it cannot handle 32 or more arguments directly\u001b[39;00m\n\u001b[1;32m    424\u001b[0m \u001b[38;5;28;01mfor\u001b[39;00m pos \u001b[38;5;129;01min\u001b[39;00m \u001b[38;5;28mrange\u001b[39m(\u001b[38;5;241m32\u001b[39m, \u001b[38;5;28mlen\u001b[39m(args), \u001b[38;5;241m31\u001b[39m):\n\u001b[1;32m    425\u001b[0m     \u001b[38;5;66;03m# ironically, np.broadcast does not properly handle np.broadcast\u001b[39;00m\n\u001b[1;32m    426\u001b[0m     \u001b[38;5;66;03m# objects (it treats them as scalars)\u001b[39;00m\n\u001b[1;32m    427\u001b[0m     \u001b[38;5;66;03m# use broadcasting to avoid allocating the full array\u001b[39;00m\n",
      "\u001b[0;31mValueError\u001b[0m: shape mismatch: objects cannot be broadcast to a single shape.  Mismatch is between arg 0 with shape (40, 60) and arg 2 with shape (50, 50)."
     ]
    },
    {
     "data": {
      "image/png": "[encoded data removed]",
      "text/plain": [
       "<Figure size 432x288 with 1 Axes>"
      ]
     },
     "metadata": {
      "needs_background": "light"
     },
     "output_type": "display_data"
    }
   ],
   "source": [
    "import matplotlib.pyplot as plt\n",
    "fig = plt.figure()\n",
    "ax = fig.add_axes(rect=(0, 0.05, 0.95, 0.95), projection='3d')\n",
    "ax.plot_surface(x, y, z, rstride=1, cstride=1, cmap='RdBu_r', vmin=-0.5, vmax=0.5)\n",
    "ax.set_xlabel('X')\n",
    "ax.set_ylabel('Y')\n",
    "ax.set_xticks(np.arange(-1, 1.1, 0.5))\n",
    "ax.set_yticks(np.arange(-1, 1.1, 0.5))\n",
    "ax.set_zlabel('Z')\n",
    "plt.show()"
   ]
  },
  {
   "cell_type": "code",
   "execution_count": 44,
   "id": "e78e229a-987f-4285-86b4-496ae3569533",
   "metadata": {
    "execution": {
     "iopub.execute_input": "2023-06-24T16:14:56.799186Z",
     "iopub.status.busy": "2023-06-24T16:14:56.798373Z",
     "iopub.status.idle": "2023-06-24T16:14:56.806643Z",
     "shell.execute_reply": "2023-06-24T16:14:56.805075Z",
     "shell.execute_reply.started": "2023-06-24T16:14:56.799145Z"
    },
    "tags": []
   },
   "outputs": [
    {
     "data": {
      "text/plain": [
       "6.283185307179586"
      ]
     },
     "execution_count": 44,
     "metadata": {},
     "output_type": "execute_result"
    }
   ],
   "source": [
    "theta[-1]"
   ]
  },
  {
   "cell_type": "code",
   "execution_count": null,
   "id": "9bdf1bf6-8bdf-47f9-b440-e3f864cf3e99",
   "metadata": {},
   "outputs": [],
   "source": []
  }
 ],
 "metadata": {
  "kernelspec": {
   "display_name": "Python 3 (ipykernel)",
   "language": "python",
   "name": "python3"
  },
  "language_info": {
   "codemirror_mode": {
    "name": "ipython",
    "version": 3
   },
   "file_extension": ".py",
   "mimetype": "text/x-python",
   "name": "python",
   "nbconvert_exporter": "python",
   "pygments_lexer": "ipython3",
   "version": "3.9.7"
  }
 },
 "nbformat": 4,
 "nbformat_minor": 5
}
