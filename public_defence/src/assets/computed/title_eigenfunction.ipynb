{
 "cells": [
  {
   "cell_type": "code",
   "execution_count": 57,
   "metadata": {
    "execution": {
     "iopub.execute_input": "2023-06-09T09:11:40.810654Z",
     "iopub.status.busy": "2023-06-09T09:11:40.810229Z",
     "iopub.status.idle": "2023-06-09T09:11:41.219249Z",
     "shell.execute_reply": "2023-06-09T09:11:41.218275Z",
     "shell.execute_reply.started": "2023-06-09T09:11:40.810621Z"
    }
   },
   "outputs": [
    {
     "data": {
      "text/plain": [
       "<strands.strands.Schrodinger2D at 0x7f145f5d3b70>"
      ]
     },
     "execution_count": 57,
     "metadata": {},
     "output_type": "execute_result"
    }
   ],
   "source": [
    "from strands import Schrodinger2D, Rectangle\n",
    "\n",
    "n = 48\n",
    "\n",
    "\n",
    "s = Schrodinger2D(lambda x, y: x*x+y*y, Rectangle(-5, 5, -5, 5),\n",
    "            gridSize=(n, n), maxBasisSize=32)\n",
    "s"
   ]
  },
  {
   "cell_type": "code",
   "execution_count": 58,
   "metadata": {
    "execution": {
     "iopub.execute_input": "2023-06-09T09:11:41.876828Z",
     "iopub.status.busy": "2023-06-09T09:11:41.875933Z",
     "iopub.status.idle": "2023-06-09T09:11:47.044969Z",
     "shell.execute_reply": "2023-06-09T09:11:47.044118Z",
     "shell.execute_reply.started": "2023-06-09T09:11:41.876750Z"
    }
   },
   "outputs": [],
   "source": [
    "eigs = s.eigenfunctions(100)"
   ]
  },
  {
   "cell_type": "code",
   "execution_count": null,
   "metadata": {
    "execution": {
     "iopub.execute_input": "2023-06-09T09:13:36.337285Z",
     "iopub.status.busy": "2023-06-09T09:13:36.336412Z"
    }
   },
   "outputs": [],
   "source": [
    "import numpy as np\n",
    "import json\n",
    "\n",
    "k = 6\n",
    "start = k*(k-1)//2\n",
    "\n",
    "xs = np.linspace(-5, 5, 2*(n+1) + n + 2)\n",
    "X, Y = np.meshgrid(xs, xs)\n",
    "\n",
    "evaluated = []\n",
    "\n",
    "m = 0\n",
    "for E, f in eigs[start:start+k]:\n",
    "    Z = f(X, Y)\n",
    "    Z /= np.sqrt(25/(len(xs)*len(xs)) * np.sum(Z**2))\n",
    "    m = max(m, np.max(np.abs(Z)))\n",
    "    evaluated.append(np.resize(Z, (len(xs)**2,)))\n",
    "\n",
    "for e in evaluated:\n",
    "    e /= m\n",
    "    \n",
    "with open(\"title_eigenfunctions.json\", 'w') as f:\n",
    "    json.dump({\n",
    "        'width': len(xs),\n",
    "        'height': len(xs),\n",
    "        'eigenfunctions': list(map(list, evaluated))\n",
    "    }, f)"
   ]
  },
  {
   "cell_type": "code",
   "execution_count": 51,
   "metadata": {
    "execution": {
     "iopub.execute_input": "2023-06-09T08:53:22.797764Z",
     "iopub.status.busy": "2023-06-09T08:53:22.797346Z",
     "iopub.status.idle": "2023-06-09T08:53:22.806662Z",
     "shell.execute_reply": "2023-06-09T08:53:22.805118Z",
     "shell.execute_reply.started": "2023-06-09T08:53:22.797727Z"
    }
   },
   "outputs": [
    {
     "data": {
      "text/plain": [
       "0.9987809413545079"
      ]
     },
     "execution_count": 51,
     "metadata": {},
     "output_type": "execute_result"
    }
   ],
   "source": [
    "np.max(np.abs(evaluated[1]))"
   ]
  },
  {
   "cell_type": "code",
   "execution_count": 52,
   "metadata": {
    "execution": {
     "iopub.execute_input": "2023-06-09T08:53:22.809119Z",
     "iopub.status.busy": "2023-06-09T08:53:22.808463Z",
     "iopub.status.idle": "2023-06-09T08:53:22.817792Z",
     "shell.execute_reply": "2023-06-09T08:53:22.816095Z",
     "shell.execute_reply.started": "2023-06-09T08:53:22.809076Z"
    }
   },
   "outputs": [
    {
     "name": "stdout",
     "output_type": "stream",
     "text": [
      "1\n"
     ]
    }
   ],
   "source": [
    "print(s)"
   ]
  },
  {
   "cell_type": "code",
   "execution_count": null,
   "metadata": {},
   "outputs": [],
   "source": []
  }
 ],
 "metadata": {
  "kernelspec": {
   "display_name": "Python3.10",
   "language": "python",
   "name": "python3.10"
  },
  "language_info": {
   "codemirror_mode": {
    "name": "ipython",
    "version": 3
   },
   "file_extension": ".py",
   "mimetype": "text/x-python",
   "name": "python",
   "nbconvert_exporter": "python",
   "pygments_lexer": "ipython3",
   "version": "3.10.11"
  }
 },
 "nbformat": 4,
 "nbformat_minor": 4
}
