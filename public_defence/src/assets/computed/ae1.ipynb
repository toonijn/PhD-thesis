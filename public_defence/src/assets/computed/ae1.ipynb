{
 "cells": [
  {
   "cell_type": "code",
   "execution_count": 1,
   "id": "fd8ce9f9-2474-4cc5-a1cb-739ee26c42c1",
   "metadata": {
    "execution": {
     "iopub.execute_input": "2023-06-23T07:14:12.941392Z",
     "iopub.status.busy": "2023-06-23T07:14:12.940360Z",
     "iopub.status.idle": "2023-06-23T07:14:13.103360Z",
     "shell.execute_reply": "2023-06-23T07:14:13.101723Z",
     "shell.execute_reply.started": "2023-06-23T07:14:12.941190Z"
    },
    "tags": []
   },
   "outputs": [],
   "source": [
    "from pyslise import Pyslise\n",
    "\n",
    "def V(x):\n",
    "    return 120*x*x\n",
    "\n",
    "xmin, xmax = 0, 1\n",
    "\n",
    "p = Pyslise(V, xmin, xmax, tolerance=1e-8)"
   ]
  },
  {
   "cell_type": "code",
   "execution_count": 2,
   "id": "4df87235-318e-423b-bed6-32132389658c",
   "metadata": {
    "execution": {
     "iopub.execute_input": "2023-06-23T07:14:13.955793Z",
     "iopub.status.busy": "2023-06-23T07:14:13.955312Z",
     "iopub.status.idle": "2023-06-23T07:14:13.969657Z",
     "shell.execute_reply": "2023-06-23T07:14:13.968564Z",
     "shell.execute_reply.started": "2023-06-23T07:14:13.955762Z"
    },
    "tags": []
   },
   "outputs": [],
   "source": [
    "import numpy as np\n",
    "import json\n",
    "\n",
    "xs = np.linspace(0, 1, 101)\n",
    "data = []\n",
    "for i, E, f in p.eigenpairsByIndex(0, 6, (0, 1), (0, 1)):\n",
    "    data.append({\n",
    "        \"E\": E,\n",
    "        \"f\": list(f(xs)[0, :])\n",
    "    })\n",
    "\n",
    "with open('ae1.json', 'w') as fi:\n",
    "    json.dump({\n",
    "        \"x\": list(xs),\n",
    "        \"data\": data}, fi)"
   ]
  },
  {
   "cell_type": "code",
   "execution_count": 3,
   "id": "11e0f4d3-008a-4945-8de4-d3b6a58fa417",
   "metadata": {
    "execution": {
     "iopub.execute_input": "2023-06-23T07:14:15.499283Z",
     "iopub.status.busy": "2023-06-23T07:14:15.498379Z",
     "iopub.status.idle": "2023-06-23T07:14:15.522755Z",
     "shell.execute_reply": "2023-06-23T07:14:15.521620Z",
     "shell.execute_reply.started": "2023-06-23T07:14:15.499209Z"
    },
    "tags": []
   },
   "outputs": [
    {
     "data": {
      "text/plain": [
       "\"'32.88982','77.83697','130.386','199.2909','287.7157','396.007','524.1338','672.0585','839.7586','1027.221','1234.438','1461.405','1708.118','1974.576','2260.778','2566.721','2892.407','3237.833','3603','3987.907','4392.555','4816.943','5261.07','5724.938','6208.545','6711.891','7234.978','7777.803','8340.369','8922.673','9524.717','10146.5','10788.02','11449.29','12130.29','12831.03','13551.51','14291.73','15051.69','15831.38','16630.82','17450','18288.91','19147.57','20025.96','20924.1','21841.97','22779.58','23736.93','24714.02','25710.85','26727.42','27763.73','28819.78','29895.56','30991.09','32106.35','33241.36','34396.1','35570.58','36764.81','37978.77','39212.47','40465.91','41739.08','43032','44344.66','45677.06','47029.19','48401.07','49792.68','51204.03','52635.13','54085.96','55556.53','57046.84','58556.89','60086.68','61636.21','63205.47','64794.48','66403.22','68031.71','69679.93','71347.9','73035.6','74743.04','76470.22','78217.14','79983.8','81770.2','83576.33','85402.21','87247.83','89113.18','90998.28','92903.11','94827.68','96772','98736.05'\""
      ]
     },
     "execution_count": 3,
     "metadata": {},
     "output_type": "execute_result"
    }
   ],
   "source": [
    "l = []\n",
    "for i, E in p.eigenvaluesByIndex( 0, 100, (0, 1), (0, 1)):\n",
    "    l.append(f\"'{E:.7g}'\")\n",
    "','.join(l)"
   ]
  },
  {
   "cell_type": "code",
   "execution_count": null,
   "id": "ce211b53-e27f-40c1-ab08-625acb8306db",
   "metadata": {},
   "outputs": [],
   "source": []
  }
 ],
 "metadata": {
  "kernelspec": {
   "display_name": "Python 3 (ipykernel)",
   "language": "python",
   "name": "python3"
  },
  "language_info": {
   "codemirror_mode": {
    "name": "ipython",
    "version": 3
   },
   "file_extension": ".py",
   "mimetype": "text/x-python",
   "name": "python",
   "nbconvert_exporter": "python",
   "pygments_lexer": "ipython3",
   "version": "3.9.7"
  }
 },
 "nbformat": 4,
 "nbformat_minor": 5
}
